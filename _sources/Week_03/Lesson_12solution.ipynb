{
 "cells": [
  {
   "cell_type": "markdown",
   "id": "353192b2-9b18-4089-a168-d0ab91d6bc2d",
   "metadata": {},
   "source": [
    "# Day 12: In-Depth Exploration of Data Splitting Techniques - Solution"
   ]
  },
  {
   "cell_type": "markdown",
   "id": "e2d543c4-1453-4e4e-afcf-105f771f237d",
   "metadata": {
    "tags": []
   },
   "source": [
    "# Homework Assignment #1\n",
    "\n",
    "## Objective\n",
    "Enhance understanding of practical data preprocessing, test set splitting, and model evaluation, focusing on Python implementation using a Kaggle dataset."
   ]
  },
  {
   "cell_type": "code",
   "execution_count": 1,
   "id": "e0654a49-be50-4e3c-9acd-dab68871d968",
   "metadata": {
    "tags": []
   },
   "outputs": [],
   "source": [
    "#import relevant libraries\n",
    "import numpy as np\n",
    "import pandas as pd\n",
    "from scipy import stats"
   ]
  },
  {
   "cell_type": "code",
   "execution_count": 2,
   "id": "18e23744-c476-4d87-8468-26e9ee35feaa",
   "metadata": {
    "tags": []
   },
   "outputs": [],
   "source": [
    "# Load the dataset (update the path according to your download)\n",
    "wine_data = pd.read_csv('wine_quality.csv')"
   ]
  },
  {
   "cell_type": "code",
   "execution_count": 3,
   "id": "111064b3-8697-46a0-b565-5669f867d893",
   "metadata": {
    "tags": []
   },
   "outputs": [
    {
     "data": {
      "text/html": [
       "<div>\n",
       "<style scoped>\n",
       "    .dataframe tbody tr th:only-of-type {\n",
       "        vertical-align: middle;\n",
       "    }\n",
       "\n",
       "    .dataframe tbody tr th {\n",
       "        vertical-align: top;\n",
       "    }\n",
       "\n",
       "    .dataframe thead th {\n",
       "        text-align: right;\n",
       "    }\n",
       "</style>\n",
       "<table border=\"1\" class=\"dataframe\">\n",
       "  <thead>\n",
       "    <tr style=\"text-align: right;\">\n",
       "      <th></th>\n",
       "      <th>fixed acidity</th>\n",
       "      <th>volatile acidity</th>\n",
       "      <th>citric acid</th>\n",
       "      <th>residual sugar</th>\n",
       "      <th>chlorides</th>\n",
       "      <th>free sulfur dioxide</th>\n",
       "      <th>total sulfur dioxide</th>\n",
       "      <th>density</th>\n",
       "      <th>pH</th>\n",
       "      <th>sulphates</th>\n",
       "      <th>alcohol</th>\n",
       "      <th>quality</th>\n",
       "      <th>Id</th>\n",
       "    </tr>\n",
       "  </thead>\n",
       "  <tbody>\n",
       "    <tr>\n",
       "      <th>0</th>\n",
       "      <td>7.4</td>\n",
       "      <td>0.70</td>\n",
       "      <td>0.00</td>\n",
       "      <td>1.9</td>\n",
       "      <td>0.076</td>\n",
       "      <td>11.0</td>\n",
       "      <td>34.0</td>\n",
       "      <td>0.9978</td>\n",
       "      <td>3.51</td>\n",
       "      <td>0.56</td>\n",
       "      <td>9.4</td>\n",
       "      <td>5</td>\n",
       "      <td>0</td>\n",
       "    </tr>\n",
       "    <tr>\n",
       "      <th>1</th>\n",
       "      <td>7.8</td>\n",
       "      <td>0.88</td>\n",
       "      <td>0.00</td>\n",
       "      <td>2.6</td>\n",
       "      <td>0.098</td>\n",
       "      <td>25.0</td>\n",
       "      <td>67.0</td>\n",
       "      <td>0.9968</td>\n",
       "      <td>3.20</td>\n",
       "      <td>0.68</td>\n",
       "      <td>9.8</td>\n",
       "      <td>5</td>\n",
       "      <td>1</td>\n",
       "    </tr>\n",
       "    <tr>\n",
       "      <th>2</th>\n",
       "      <td>7.8</td>\n",
       "      <td>0.76</td>\n",
       "      <td>0.04</td>\n",
       "      <td>2.3</td>\n",
       "      <td>0.092</td>\n",
       "      <td>15.0</td>\n",
       "      <td>54.0</td>\n",
       "      <td>0.9970</td>\n",
       "      <td>3.26</td>\n",
       "      <td>0.65</td>\n",
       "      <td>9.8</td>\n",
       "      <td>5</td>\n",
       "      <td>2</td>\n",
       "    </tr>\n",
       "    <tr>\n",
       "      <th>3</th>\n",
       "      <td>11.2</td>\n",
       "      <td>0.28</td>\n",
       "      <td>0.56</td>\n",
       "      <td>1.9</td>\n",
       "      <td>0.075</td>\n",
       "      <td>17.0</td>\n",
       "      <td>60.0</td>\n",
       "      <td>0.9980</td>\n",
       "      <td>3.16</td>\n",
       "      <td>0.58</td>\n",
       "      <td>9.8</td>\n",
       "      <td>6</td>\n",
       "      <td>3</td>\n",
       "    </tr>\n",
       "    <tr>\n",
       "      <th>4</th>\n",
       "      <td>7.4</td>\n",
       "      <td>0.70</td>\n",
       "      <td>0.00</td>\n",
       "      <td>1.9</td>\n",
       "      <td>0.076</td>\n",
       "      <td>11.0</td>\n",
       "      <td>34.0</td>\n",
       "      <td>0.9978</td>\n",
       "      <td>3.51</td>\n",
       "      <td>0.56</td>\n",
       "      <td>9.4</td>\n",
       "      <td>5</td>\n",
       "      <td>4</td>\n",
       "    </tr>\n",
       "  </tbody>\n",
       "</table>\n",
       "</div>"
      ],
      "text/plain": [
       "   fixed acidity  volatile acidity  citric acid  residual sugar  chlorides  \\\n",
       "0            7.4              0.70         0.00             1.9      0.076   \n",
       "1            7.8              0.88         0.00             2.6      0.098   \n",
       "2            7.8              0.76         0.04             2.3      0.092   \n",
       "3           11.2              0.28         0.56             1.9      0.075   \n",
       "4            7.4              0.70         0.00             1.9      0.076   \n",
       "\n",
       "   free sulfur dioxide  total sulfur dioxide  density    pH  sulphates  \\\n",
       "0                 11.0                  34.0   0.9978  3.51       0.56   \n",
       "1                 25.0                  67.0   0.9968  3.20       0.68   \n",
       "2                 15.0                  54.0   0.9970  3.26       0.65   \n",
       "3                 17.0                  60.0   0.9980  3.16       0.58   \n",
       "4                 11.0                  34.0   0.9978  3.51       0.56   \n",
       "\n",
       "   alcohol  quality  Id  \n",
       "0      9.4        5   0  \n",
       "1      9.8        5   1  \n",
       "2      9.8        5   2  \n",
       "3      9.8        6   3  \n",
       "4      9.4        5   4  "
      ]
     },
     "execution_count": 3,
     "metadata": {},
     "output_type": "execute_result"
    }
   ],
   "source": [
    "#inspect the first five lines of the dataframe\n",
    "wine_data.head()"
   ]
  },
  {
   "cell_type": "code",
   "execution_count": 4,
   "id": "1218bbb1-1608-44c5-8a7c-418a94738b3b",
   "metadata": {
    "tags": []
   },
   "outputs": [
    {
     "data": {
      "text/html": [
       "<div>\n",
       "<style scoped>\n",
       "    .dataframe tbody tr th:only-of-type {\n",
       "        vertical-align: middle;\n",
       "    }\n",
       "\n",
       "    .dataframe tbody tr th {\n",
       "        vertical-align: top;\n",
       "    }\n",
       "\n",
       "    .dataframe thead th {\n",
       "        text-align: right;\n",
       "    }\n",
       "</style>\n",
       "<table border=\"1\" class=\"dataframe\">\n",
       "  <thead>\n",
       "    <tr style=\"text-align: right;\">\n",
       "      <th></th>\n",
       "      <th>fixed acidity</th>\n",
       "      <th>volatile acidity</th>\n",
       "      <th>citric acid</th>\n",
       "      <th>residual sugar</th>\n",
       "      <th>chlorides</th>\n",
       "      <th>free sulfur dioxide</th>\n",
       "      <th>total sulfur dioxide</th>\n",
       "      <th>density</th>\n",
       "      <th>pH</th>\n",
       "      <th>sulphates</th>\n",
       "      <th>alcohol</th>\n",
       "      <th>quality</th>\n",
       "      <th>Id</th>\n",
       "    </tr>\n",
       "  </thead>\n",
       "  <tbody>\n",
       "    <tr>\n",
       "      <th>1138</th>\n",
       "      <td>6.3</td>\n",
       "      <td>0.510</td>\n",
       "      <td>0.13</td>\n",
       "      <td>2.3</td>\n",
       "      <td>0.076</td>\n",
       "      <td>29.0</td>\n",
       "      <td>40.0</td>\n",
       "      <td>0.99574</td>\n",
       "      <td>3.42</td>\n",
       "      <td>0.75</td>\n",
       "      <td>11.0</td>\n",
       "      <td>6</td>\n",
       "      <td>1592</td>\n",
       "    </tr>\n",
       "    <tr>\n",
       "      <th>1139</th>\n",
       "      <td>6.8</td>\n",
       "      <td>0.620</td>\n",
       "      <td>0.08</td>\n",
       "      <td>1.9</td>\n",
       "      <td>0.068</td>\n",
       "      <td>28.0</td>\n",
       "      <td>38.0</td>\n",
       "      <td>0.99651</td>\n",
       "      <td>3.42</td>\n",
       "      <td>0.82</td>\n",
       "      <td>9.5</td>\n",
       "      <td>6</td>\n",
       "      <td>1593</td>\n",
       "    </tr>\n",
       "    <tr>\n",
       "      <th>1140</th>\n",
       "      <td>6.2</td>\n",
       "      <td>0.600</td>\n",
       "      <td>0.08</td>\n",
       "      <td>2.0</td>\n",
       "      <td>0.090</td>\n",
       "      <td>32.0</td>\n",
       "      <td>44.0</td>\n",
       "      <td>0.99490</td>\n",
       "      <td>3.45</td>\n",
       "      <td>0.58</td>\n",
       "      <td>10.5</td>\n",
       "      <td>5</td>\n",
       "      <td>1594</td>\n",
       "    </tr>\n",
       "    <tr>\n",
       "      <th>1141</th>\n",
       "      <td>5.9</td>\n",
       "      <td>0.550</td>\n",
       "      <td>0.10</td>\n",
       "      <td>2.2</td>\n",
       "      <td>0.062</td>\n",
       "      <td>39.0</td>\n",
       "      <td>51.0</td>\n",
       "      <td>0.99512</td>\n",
       "      <td>3.52</td>\n",
       "      <td>0.76</td>\n",
       "      <td>11.2</td>\n",
       "      <td>6</td>\n",
       "      <td>1595</td>\n",
       "    </tr>\n",
       "    <tr>\n",
       "      <th>1142</th>\n",
       "      <td>5.9</td>\n",
       "      <td>0.645</td>\n",
       "      <td>0.12</td>\n",
       "      <td>2.0</td>\n",
       "      <td>0.075</td>\n",
       "      <td>32.0</td>\n",
       "      <td>44.0</td>\n",
       "      <td>0.99547</td>\n",
       "      <td>3.57</td>\n",
       "      <td>0.71</td>\n",
       "      <td>10.2</td>\n",
       "      <td>5</td>\n",
       "      <td>1597</td>\n",
       "    </tr>\n",
       "  </tbody>\n",
       "</table>\n",
       "</div>"
      ],
      "text/plain": [
       "      fixed acidity  volatile acidity  citric acid  residual sugar  chlorides  \\\n",
       "1138            6.3             0.510         0.13             2.3      0.076   \n",
       "1139            6.8             0.620         0.08             1.9      0.068   \n",
       "1140            6.2             0.600         0.08             2.0      0.090   \n",
       "1141            5.9             0.550         0.10             2.2      0.062   \n",
       "1142            5.9             0.645         0.12             2.0      0.075   \n",
       "\n",
       "      free sulfur dioxide  total sulfur dioxide  density    pH  sulphates  \\\n",
       "1138                 29.0                  40.0  0.99574  3.42       0.75   \n",
       "1139                 28.0                  38.0  0.99651  3.42       0.82   \n",
       "1140                 32.0                  44.0  0.99490  3.45       0.58   \n",
       "1141                 39.0                  51.0  0.99512  3.52       0.76   \n",
       "1142                 32.0                  44.0  0.99547  3.57       0.71   \n",
       "\n",
       "      alcohol  quality    Id  \n",
       "1138     11.0        6  1592  \n",
       "1139      9.5        6  1593  \n",
       "1140     10.5        5  1594  \n",
       "1141     11.2        6  1595  \n",
       "1142     10.2        5  1597  "
      ]
     },
     "execution_count": 4,
     "metadata": {},
     "output_type": "execute_result"
    }
   ],
   "source": [
    "#inspect the last five lines of the dataframe\n",
    "wine_data.tail()"
   ]
  },
  {
   "cell_type": "code",
   "execution_count": 5,
   "id": "9731b83e-50c5-4d9c-9d72-47e0e8c039a7",
   "metadata": {
    "tags": []
   },
   "outputs": [
    {
     "name": "stdout",
     "output_type": "stream",
     "text": [
      "<class 'pandas.core.frame.DataFrame'>\n",
      "RangeIndex: 1143 entries, 0 to 1142\n",
      "Data columns (total 13 columns):\n",
      " #   Column                Non-Null Count  Dtype  \n",
      "---  ------                --------------  -----  \n",
      " 0   fixed acidity         1143 non-null   float64\n",
      " 1   volatile acidity      1143 non-null   float64\n",
      " 2   citric acid           1143 non-null   float64\n",
      " 3   residual sugar        1143 non-null   float64\n",
      " 4   chlorides             1143 non-null   float64\n",
      " 5   free sulfur dioxide   1143 non-null   float64\n",
      " 6   total sulfur dioxide  1143 non-null   float64\n",
      " 7   density               1143 non-null   float64\n",
      " 8   pH                    1143 non-null   float64\n",
      " 9   sulphates             1143 non-null   float64\n",
      " 10  alcohol               1143 non-null   float64\n",
      " 11  quality               1143 non-null   int64  \n",
      " 12  Id                    1143 non-null   int64  \n",
      "dtypes: float64(11), int64(2)\n",
      "memory usage: 116.2 KB\n"
     ]
    }
   ],
   "source": [
    "#show all columns in pandas\n",
    "wine_data.info()"
   ]
  },
  {
   "cell_type": "code",
   "execution_count": 6,
   "id": "eb85fbd0-f5e4-415e-9245-afdf750e7b12",
   "metadata": {
    "tags": []
   },
   "outputs": [],
   "source": [
    "#create a dataframe that copies all columns\n",
    "wine_datanew = wine_data"
   ]
  },
  {
   "cell_type": "code",
   "execution_count": 7,
   "id": "a5bd020a-64b4-4703-8f53-c4c12d64b98c",
   "metadata": {
    "tags": []
   },
   "outputs": [
    {
     "data": {
      "text/html": [
       "<div>\n",
       "<style scoped>\n",
       "    .dataframe tbody tr th:only-of-type {\n",
       "        vertical-align: middle;\n",
       "    }\n",
       "\n",
       "    .dataframe tbody tr th {\n",
       "        vertical-align: top;\n",
       "    }\n",
       "\n",
       "    .dataframe thead th {\n",
       "        text-align: right;\n",
       "    }\n",
       "</style>\n",
       "<table border=\"1\" class=\"dataframe\">\n",
       "  <thead>\n",
       "    <tr style=\"text-align: right;\">\n",
       "      <th></th>\n",
       "      <th>fixed acidity</th>\n",
       "      <th>volatile acidity</th>\n",
       "      <th>citric acid</th>\n",
       "      <th>residual sugar</th>\n",
       "      <th>chlorides</th>\n",
       "      <th>free sulfur dioxide</th>\n",
       "      <th>total sulfur dioxide</th>\n",
       "      <th>density</th>\n",
       "      <th>pH</th>\n",
       "      <th>sulphates</th>\n",
       "      <th>alcohol</th>\n",
       "      <th>quality</th>\n",
       "      <th>Id</th>\n",
       "    </tr>\n",
       "  </thead>\n",
       "  <tbody>\n",
       "    <tr>\n",
       "      <th>0</th>\n",
       "      <td>7.4</td>\n",
       "      <td>0.70</td>\n",
       "      <td>0.00</td>\n",
       "      <td>1.9</td>\n",
       "      <td>0.076</td>\n",
       "      <td>11.0</td>\n",
       "      <td>34.0</td>\n",
       "      <td>0.9978</td>\n",
       "      <td>3.51</td>\n",
       "      <td>0.56</td>\n",
       "      <td>9.4</td>\n",
       "      <td>5</td>\n",
       "      <td>0</td>\n",
       "    </tr>\n",
       "    <tr>\n",
       "      <th>1</th>\n",
       "      <td>7.8</td>\n",
       "      <td>0.88</td>\n",
       "      <td>0.00</td>\n",
       "      <td>2.6</td>\n",
       "      <td>0.098</td>\n",
       "      <td>25.0</td>\n",
       "      <td>67.0</td>\n",
       "      <td>0.9968</td>\n",
       "      <td>3.20</td>\n",
       "      <td>0.68</td>\n",
       "      <td>9.8</td>\n",
       "      <td>5</td>\n",
       "      <td>1</td>\n",
       "    </tr>\n",
       "    <tr>\n",
       "      <th>2</th>\n",
       "      <td>7.8</td>\n",
       "      <td>0.76</td>\n",
       "      <td>0.04</td>\n",
       "      <td>2.3</td>\n",
       "      <td>0.092</td>\n",
       "      <td>15.0</td>\n",
       "      <td>54.0</td>\n",
       "      <td>0.9970</td>\n",
       "      <td>3.26</td>\n",
       "      <td>0.65</td>\n",
       "      <td>9.8</td>\n",
       "      <td>5</td>\n",
       "      <td>2</td>\n",
       "    </tr>\n",
       "    <tr>\n",
       "      <th>3</th>\n",
       "      <td>11.2</td>\n",
       "      <td>0.28</td>\n",
       "      <td>0.56</td>\n",
       "      <td>1.9</td>\n",
       "      <td>0.075</td>\n",
       "      <td>17.0</td>\n",
       "      <td>60.0</td>\n",
       "      <td>0.9980</td>\n",
       "      <td>3.16</td>\n",
       "      <td>0.58</td>\n",
       "      <td>9.8</td>\n",
       "      <td>6</td>\n",
       "      <td>3</td>\n",
       "    </tr>\n",
       "    <tr>\n",
       "      <th>4</th>\n",
       "      <td>7.4</td>\n",
       "      <td>0.70</td>\n",
       "      <td>0.00</td>\n",
       "      <td>1.9</td>\n",
       "      <td>0.076</td>\n",
       "      <td>11.0</td>\n",
       "      <td>34.0</td>\n",
       "      <td>0.9978</td>\n",
       "      <td>3.51</td>\n",
       "      <td>0.56</td>\n",
       "      <td>9.4</td>\n",
       "      <td>5</td>\n",
       "      <td>4</td>\n",
       "    </tr>\n",
       "  </tbody>\n",
       "</table>\n",
       "</div>"
      ],
      "text/plain": [
       "   fixed acidity  volatile acidity  citric acid  residual sugar  chlorides  \\\n",
       "0            7.4              0.70         0.00             1.9      0.076   \n",
       "1            7.8              0.88         0.00             2.6      0.098   \n",
       "2            7.8              0.76         0.04             2.3      0.092   \n",
       "3           11.2              0.28         0.56             1.9      0.075   \n",
       "4            7.4              0.70         0.00             1.9      0.076   \n",
       "\n",
       "   free sulfur dioxide  total sulfur dioxide  density    pH  sulphates  \\\n",
       "0                 11.0                  34.0   0.9978  3.51       0.56   \n",
       "1                 25.0                  67.0   0.9968  3.20       0.68   \n",
       "2                 15.0                  54.0   0.9970  3.26       0.65   \n",
       "3                 17.0                  60.0   0.9980  3.16       0.58   \n",
       "4                 11.0                  34.0   0.9978  3.51       0.56   \n",
       "\n",
       "   alcohol  quality  Id  \n",
       "0      9.4        5   0  \n",
       "1      9.8        5   1  \n",
       "2      9.8        5   2  \n",
       "3      9.8        6   3  \n",
       "4      9.4        5   4  "
      ]
     },
     "execution_count": 7,
     "metadata": {},
     "output_type": "execute_result"
    }
   ],
   "source": [
    "#displaying the new dataframe\n",
    "wine_datanew.head()"
   ]
  },
  {
   "cell_type": "code",
   "execution_count": 8,
   "id": "f33ddf89-47f9-4ea0-b0b1-a7b6e377ff52",
   "metadata": {
    "tags": []
   },
   "outputs": [
    {
     "data": {
      "text/plain": [
       "(1143, 13)"
      ]
     },
     "execution_count": 8,
     "metadata": {},
     "output_type": "execute_result"
    }
   ],
   "source": [
    "wine_datanew.shape"
   ]
  },
  {
   "cell_type": "code",
   "execution_count": 9,
   "id": "cf9e1cb5-55e8-4bee-aca8-0b3580d976db",
   "metadata": {
    "tags": []
   },
   "outputs": [
    {
     "name": "stdout",
     "output_type": "stream",
     "text": [
      "Wine Quality (mean): 5.657\n"
     ]
    }
   ],
   "source": [
    "#analyze the mean of the quality column using the np.mean() in numpy\n",
    "winequality_mean = round(np.mean(wine_datanew[\"quality\"]), 4)\n",
    "\n",
    "print(\"Wine Quality (mean):\", winequality_mean)"
   ]
  },
  {
   "cell_type": "code",
   "execution_count": 10,
   "id": "890924ad-9934-49d5-8c3d-31c0e6bf33f9",
   "metadata": {
    "tags": []
   },
   "outputs": [
    {
     "name": "stdout",
     "output_type": "stream",
     "text": [
      "Wine Quality (median): 6.0\n"
     ]
    }
   ],
   "source": [
    "winequality_median = np.median(wine_datanew[\"quality\"])\n",
    "\n",
    "print(\"Wine Quality (median):\", winequality_median)"
   ]
  },
  {
   "cell_type": "code",
   "execution_count": 11,
   "id": "43cf9144-7e6b-4bc9-bb08-206be4e1a532",
   "metadata": {
    "tags": []
   },
   "outputs": [
    {
     "name": "stdout",
     "output_type": "stream",
     "text": [
      "Wine Quality (variance:numpy): 0.6488\n"
     ]
    }
   ],
   "source": [
    "#using numpy check the variance of the 'quality' column\n",
    "winequality_var = round(np.var(wine_datanew[\"quality\"]), 4)\n",
    "\n",
    "print(\"Wine Quality (variance:numpy):\", winequality_var)"
   ]
  },
  {
   "cell_type": "markdown",
   "id": "a23b0839-adda-460d-9bc3-316a2f0a5f91",
   "metadata": {},
   "source": [
    "## Variance Analysis of 'Quality' in Wine Dataset\n",
    "\n",
    "The variance of the 'quality' variable in the `wine_datanew` dataset was computed using NumPy to assess the degree of spread in the quality ratings.\n",
    "\n",
    "### Calculated Variance:\n",
    "- **Variance**: 0.6488\n",
    "\n",
    "### Statistical Interpretation\n",
    "\n",
    "- **Variance Definition**: Variance is a statistical measurement that describes the spread of numbers in a data set. It measures how far each number in the set is from the mean and thus from every other number in the set.\n",
    "- **Value Interpretation**: \n",
    "  - A variance of 0.6488 indicates the average squared deviation from the mean for the quality ratings. \n",
    "  - This value suggests a moderate level of variability within the wine quality ratings. The wines' quality ratings deviate from their average to a certain extent, but not excessively.\n",
    "\n",
    "### Conclusions\n",
    "\n",
    "- The moderate variance value implies that while there is some variability in wine quality ratings, the values are not extremely dispersed.\n",
    "- This level of variance is indicative of a dataset where ratings are somewhat consistent but do have a notable degree of variation.\n",
    "- Understanding the variance helps in grasping how spread out the wine quality ratings are, which is crucial for identifying how homogeneous or heterogeneous the data is.\n",
    "\n",
    "**Recommendation**: To further contextualize this variance, it could be beneficial to analyze it alongside other measures such as standard deviation, mean, and range. This holistic approach will provide a more nuanced understanding of the dataset's distribution characteristics.\n"
   ]
  },
  {
   "cell_type": "code",
   "execution_count": 12,
   "id": "c7d32fb0-e31f-4c20-9b71-17e9f96becb1",
   "metadata": {
    "tags": []
   },
   "outputs": [
    {
     "name": "stdout",
     "output_type": "stream",
     "text": [
      "Wine Quality (stdev: numpy): 0.8058\n"
     ]
    }
   ],
   "source": [
    "# Calculate the standard deviation using NumPy\n",
    "# 'ddof=0' for population standard deviation; 'ddof=1' for sample standard deviation\n",
    "winequality_stdev = round(np.std(wine_datanew[\"quality\"], ddof=1), 4)\n",
    "\n",
    "print(\"Wine Quality (stdev: numpy):\", winequality_stdev)"
   ]
  },
  {
   "cell_type": "markdown",
   "id": "8a48279d-1655-444b-90ba-b9fff8242c2a",
   "metadata": {},
   "source": [
    "## Standard Deviation Analysis of 'Quality' in Wine Dataset\n",
    "\n",
    "The standard deviation of the 'quality' variable in the `wine_datanew` dataset was calculated using NumPy, providing insights into the variability of wine quality ratings.\n",
    "\n",
    "### Calculated Standard Deviation:\n",
    "- **Standard Deviation**: 0.8058\n",
    "\n",
    "### Statistical Interpretation\n",
    "\n",
    "- **Standard Deviation Definition**: Standard deviation is a measure of the amount of variation or dispersion in a set of values. A low standard deviation indicates that the values tend to be close to the mean of the set, while a high standard deviation indicates that the values are spread out over a wider range.\n",
    "- **Value Interpretation**: \n",
    "  - A standard deviation of 0.8058 suggests that the quality ratings of wines in this dataset typically vary by about 0.8058 points from the average wine quality rating.\n",
    "  - This indicates a moderate level of variability in wine quality ratings.\n",
    "\n",
    "### Conclusions\n",
    "\n",
    "- The calculated standard deviation reflects a moderate level of diversity in the quality of wines. It suggests that while there are variations in quality, they are not extremely pronounced.\n",
    "- This level of standard deviation is common in datasets with somewhat consistent data but with some degree of spread around the mean.\n",
    "- The standard deviation can be particularly informative when combined with the mean to understand the overall distribution of the quality ratings.\n",
    "\n",
    "**Recommendation**: For a more comprehensive understanding of the dataset, consider analyzing the standard deviation in the context of other descriptive statistics like the mean, median, range, and quartiles. This will provide a more complete picture of the distribution of wine quality ratings.\n"
   ]
  },
  {
   "cell_type": "code",
   "execution_count": 13,
   "id": "6296c170-5a93-45a8-b97d-a666320c2044",
   "metadata": {
    "tags": []
   },
   "outputs": [
    {
     "name": "stdout",
     "output_type": "stream",
     "text": [
      "8 3\n"
     ]
    }
   ],
   "source": [
    "#Calculate the range of the dataset using NumPy\n",
    "winequality_max = np.max(wine_datanew[\"quality\"])\n",
    "winequality_min = np.min(wine_datanew[\"quality\"])\n",
    "\n",
    "print(winequality_max, winequality_min)"
   ]
  },
  {
   "cell_type": "markdown",
   "id": "0329cd34-0ee5-4a2f-bbad-171ccd64e12c",
   "metadata": {},
   "source": [
    "## Range Analysis of 'Quality' in Wine Dataset\n",
    "\n",
    "The range of the 'quality' variable in the `wine_datanew` dataset was calculated using NumPy to understand its spread.\n",
    "\n",
    "### Calculated Range:\n",
    "- **Maximum Value (Max)**: 8\n",
    "- **Minimum Value (Min)**: 3\n",
    "\n",
    "### Statistical Interpretation\n",
    "\n",
    "- **Range Definition**: The range of a dataset is the difference between the maximum and minimum values. It provides a measure of how spread out the values are.\n",
    "- **Value Interpretation**: \n",
    "  - The maximum value of the 'quality' variable is 8, indicating the highest rating given to any wine in the dataset.\n",
    "  - The minimum value is 3, showing the lowest rating in the dataset.\n",
    "  - This range (from 3 to 8) indicates the extent of variability in the quality ratings of wines.\n",
    "\n",
    "### Conclusions\n",
    "\n",
    "- The range of 5 points (from 3 to 8) suggests that there is a considerable spread in the quality ratings of wines in this dataset.\n",
    "- The presence of a wide range might indicate a diverse set of wines with varying levels of quality.\n",
    "- Understanding this range is useful for getting a basic sense of the variation in wine quality and for further exploratory data analysis, such as identifying patterns or clusters within different quality levels.\n",
    "\n",
    "**Recommendation**: Further statistical analysis could involve exploring how other variables in the dataset correlate with these quality ratings, potentially revealing underlying factors that influence wine quality."
   ]
  },
  {
   "cell_type": "code",
   "execution_count": 14,
   "id": "76920548-84b5-409a-8a65-ab105a937a63",
   "metadata": {
    "tags": []
   },
   "outputs": [
    {
     "name": "stdout",
     "output_type": "stream",
     "text": [
      "Q1 (25th percentile): 5.0\n",
      "Q3 (75th percentile): 6.0\n",
      "Interquartile Range: 1.0\n"
     ]
    }
   ],
   "source": [
    "# Calculate quartiles\n",
    "Q1 = np.quantile(wine_datanew[\"quality\"],0.25)\n",
    "Q3 = np.quantile(wine_datanew[\"quality\"],0.75)\n",
    "\n",
    "# Calculate the Interquartile Range\n",
    "IQR = Q3 - Q1\n",
    "\n",
    "print(\"Q1 (25th percentile):\", Q1)\n",
    "print(\"Q3 (75th percentile):\", Q3)\n",
    "print(\"Interquartile Range:\", IQR)"
   ]
  },
  {
   "cell_type": "markdown",
   "id": "83e1db06-bc8a-4bc1-9ce1-5f70db2278ed",
   "metadata": {},
   "source": [
    "## Quartile and Interquartile Range (IQR) Analysis\n",
    "\n",
    "The quartiles and IQR provide insights into the distribution of the 'quality' variable in the `wine_datanew` dataset.\n",
    "\n",
    "### Calculated Values:\n",
    "- **Q1 (25th percentile)**: 5.0\n",
    "- **Q3 (75th percentile)**: 6.0\n",
    "- **Interquartile Range (IQR)**: 1.0\n",
    "\n",
    "### Statistical Interpretation\n",
    "\n",
    "- **Q1 (25th percentile)**: This is the value below which 25% of the data falls. In this case, 25% of the wines have a quality rating of 5.0 or lower.\n",
    "- **Q3 (75th percentile)**: This value indicates that 75% of the wines have a quality rating of 6.0 or lower. It represents the upper quartile of the distribution.\n",
    "- **Interquartile Range (IQR)**: The IQR, being 1.0, represents the range between the first and third quartile. It is a measure of the middle 50% of the 'quality' data. A smaller IQR indicates a closer grouping of the middle half of the data.\n",
    "\n",
    "### Conclusions\n",
    "\n",
    "- The IQR of 1.0 suggests that the middle 50% of the wine quality ratings are within a narrow range (5.0 to 6.0), indicating a lack of wide variability in the middle half of the dataset.\n",
    "- The relatively small IQR can also imply a higher level of consistency in the quality ratings of the wines in this dataset.\n",
    "- Since both Q1 and Q3 are close to each other, it suggests that most of the wines are rated around the middle of the scale, with fewer wines rated very high or very low.\n",
    "\n",
    "**Recommendation**: Understanding the distribution of wine quality ratings can help in identifying patterns and outliers. Further analysis might involve looking at how other variables in the dataset relate to these quality ratings."
   ]
  },
  {
   "cell_type": "code",
   "execution_count": 15,
   "id": "fe7f3c49-35f5-4dcb-a8c4-8c7abf31b748",
   "metadata": {
    "tags": []
   },
   "outputs": [
    {
     "data": {
      "image/png": "[encoded data removed]",
      "text/plain": [
       "<Figure size 1200x800 with 2 Axes>"
      ]
     },
     "metadata": {},
     "output_type": "display_data"
    }
   ],
   "source": [
    "import matplotlib.pyplot as plt\n",
    "import seaborn as sns\n",
    "\n",
    "# Calculate the correlation matrix\n",
    "correlation_matrix = wine_datanew.corr()\n",
    "\n",
    "# Plotting the heatmap\n",
    "plt.figure(figsize=(12, 8))  # Set the size of the figure\n",
    "sns.heatmap(correlation_matrix, annot=True, cmap='coolwarm', linewidths=0.5)\n",
    "\n",
    "plt.title('Correlation Matrix for Wine Dataset')\n",
    "plt.show()"
   ]
  },
  {
   "cell_type": "markdown",
   "id": "04a0814e-7339-43b5-8a94-6a4433e7bfbd",
   "metadata": {},
   "source": [
    "## Correlation Matrix Analysis of Wine Dataset\n",
    "\n",
    "The correlation matrix provides insights into the linear relationships between various attributes of the wine dataset.\n",
    "\n",
    "### Correlation Matrix Summary:\n",
    "\n",
    "- Positive correlation indicates that as one variable increases, the other tends to increase. A negative correlation indicates that as one variable increases, the other tends to decrease.\n",
    "- The values range from -1 to 1, where 1 is a perfect positive correlation, -1 is a perfect negative correlation, and 0 indicates no correlation.\n",
    "\n",
    "#### Notable Correlations:\n",
    "\n",
    "- **Fixed Acidity**\n",
    "  - Positively correlated with citric acid (0.6731) and density (0.6815).\n",
    "  - Negatively correlated with pH (-0.6852).\n",
    "\n",
    "- **Volatile Acidity**\n",
    "  - Negatively correlated with quality (-0.4074).\n",
    "\n",
    "- **Citric Acid**\n",
    "  - Positively correlated with fixed acidity (0.6731).\n",
    "  - Negatively correlated with volatile acidity (-0.5442).\n",
    "\n",
    "- **Density**\n",
    "  - Positively correlated with fixed acidity (0.6815).\n",
    "  - Negatively correlated with alcohol (-0.4947).\n",
    "\n",
    "- **pH**\n",
    "  - Negatively correlated with fixed acidity (-0.6852) and citric acid (-0.5463).\n",
    "\n",
    "- **Sulphates**\n",
    "  - Positively correlated with quality (0.2577).\n",
    "\n",
    "- **Alcohol**\n",
    "  - Positively correlated with quality (0.4849).\n",
    "  - Negatively correlated with density (-0.4947).\n",
    "\n",
    "- **Quality**\n",
    "  - Positively correlated with alcohol (0.4849) and sulphates (0.2577).\n",
    "  - Negatively correlated with volatile acidity (-0.4074).\n",
    "\n",
    "### Conclusions\n",
    "\n",
    "- The dataset shows several significant correlations between variables, particularly those related to chemical properties like acidity, density, and alcohol content.\n",
    "- Quality, the target variable, shows notable positive correlations with alcohol and sulphates, suggesting that these factors might influence wine quality ratings positively.\n",
    "- Volatile acidity has a notable negative impact on quality, indicating that higher levels of volatile acidity might lead to lower quality ratings.\n",
    "\n",
    "**Recommendation**: These correlations provide valuable insights for predictive modeling and understanding the factors that influence wine quality. It is essential to consider these relationships in further analyses and model building.\n"
   ]
  },
  {
   "cell_type": "code",
   "execution_count": 16,
   "id": "5afcd661-befd-4bff-a329-c479bb5058de",
   "metadata": {
    "jp-MarkdownHeadingCollapsed": true,
    "tags": []
   },
   "outputs": [],
   "source": [
    "from sklearn.preprocessing import StandardScaler, LabelEncoder\n",
    "\n",
    "# Handling missing values\n",
    "wine_datanew.fillna(wine_data.mean(), inplace=True)\n",
    "\n",
    "# Encoding categorical variables if any\n",
    "encoder = LabelEncoder()\n",
    "wine_datanew['categorical_column'] = encoder.fit_transform(wine_data['quality'])\n",
    "\n",
    "# Normalizing features\n",
    "scaler = StandardScaler()\n",
    "wine_data_scaled = scaler.fit_transform(wine_datanew.drop('quality', axis=1))"
   ]
  },
  {
   "cell_type": "code",
   "execution_count": 17,
   "id": "0786c72a-34d2-4a09-a9bb-1e4a83e942f6",
   "metadata": {
    "tags": []
   },
   "outputs": [],
   "source": [
    "from sklearn.model_selection import train_test_split\n",
    "\n",
    "X = wine_data_scaled\n",
    "y = wine_data['quality']\n",
    "X_train, X_test, y_train, y_test = train_test_split(X, y, test_size=0.2, random_state=42)"
   ]
  },
  {
   "cell_type": "code",
   "execution_count": 18,
   "id": "ab702242-8033-4567-b3aa-7fa90523ca16",
   "metadata": {
    "tags": []
   },
   "outputs": [
    {
     "data": {
      "text/html": [
       "<style>#sk-container-id-1 {color: black;}#sk-container-id-1 pre{padding: 0;}#sk-container-id-1 div.sk-toggleable {background-color: white;}#sk-container-id-1 label.sk-toggleable__label {cursor: pointer;display: block;width: 100%;margin-bottom: 0;padding: 0.3em;box-sizing: border-box;text-align: center;}#sk-container-id-1 label.sk-toggleable__label-arrow:before {content: \"▸\";float: left;margin-right: 0.25em;color: #696969;}#sk-container-id-1 label.sk-toggleable__label-arrow:hover:before {color: black;}#sk-container-id-1 div.sk-estimator:hover label.sk-toggleable__label-arrow:before {color: black;}#sk-container-id-1 div.sk-toggleable__content {max-height: 0;max-width: 0;overflow: hidden;text-align: left;background-color: #f0f8ff;}#sk-container-id-1 div.sk-toggleable__content pre {margin: 0.2em;color: black;border-radius: 0.25em;background-color: #f0f8ff;}#sk-container-id-1 input.sk-toggleable__control:checked~div.sk-toggleable__content {max-height: 200px;max-width: 100%;overflow: auto;}#sk-container-id-1 input.sk-toggleable__control:checked~label.sk-toggleable__label-arrow:before {content: \"▾\";}#sk-container-id-1 div.sk-estimator input.sk-toggleable__control:checked~label.sk-toggleable__label {background-color: #d4ebff;}#sk-container-id-1 div.sk-label input.sk-toggleable__control:checked~label.sk-toggleable__label {background-color: #d4ebff;}#sk-container-id-1 input.sk-hidden--visually {border: 0;clip: rect(1px 1px 1px 1px);clip: rect(1px, 1px, 1px, 1px);height: 1px;margin: -1px;overflow: hidden;padding: 0;position: absolute;width: 1px;}#sk-container-id-1 div.sk-estimator {font-family: monospace;background-color: #f0f8ff;border: 1px dotted black;border-radius: 0.25em;box-sizing: border-box;margin-bottom: 0.5em;}#sk-container-id-1 div.sk-estimator:hover {background-color: #d4ebff;}#sk-container-id-1 div.sk-parallel-item::after {content: \"\";width: 100%;border-bottom: 1px solid gray;flex-grow: 1;}#sk-container-id-1 div.sk-label:hover label.sk-toggleable__label {background-color: #d4ebff;}#sk-container-id-1 div.sk-serial::before {content: \"\";position: absolute;border-left: 1px solid gray;box-sizing: border-box;top: 0;bottom: 0;left: 50%;z-index: 0;}#sk-container-id-1 div.sk-serial {display: flex;flex-direction: column;align-items: center;background-color: white;padding-right: 0.2em;padding-left: 0.2em;position: relative;}#sk-container-id-1 div.sk-item {position: relative;z-index: 1;}#sk-container-id-1 div.sk-parallel {display: flex;align-items: stretch;justify-content: center;background-color: white;position: relative;}#sk-container-id-1 div.sk-item::before, #sk-container-id-1 div.sk-parallel-item::before {content: \"\";position: absolute;border-left: 1px solid gray;box-sizing: border-box;top: 0;bottom: 0;left: 50%;z-index: -1;}#sk-container-id-1 div.sk-parallel-item {display: flex;flex-direction: column;z-index: 1;position: relative;background-color: white;}#sk-container-id-1 div.sk-parallel-item:first-child::after {align-self: flex-end;width: 50%;}#sk-container-id-1 div.sk-parallel-item:last-child::after {align-self: flex-start;width: 50%;}#sk-container-id-1 div.sk-parallel-item:only-child::after {width: 0;}#sk-container-id-1 div.sk-dashed-wrapped {border: 1px dashed gray;margin: 0 0.4em 0.5em 0.4em;box-sizing: border-box;padding-bottom: 0.4em;background-color: white;}#sk-container-id-1 div.sk-label label {font-family: monospace;font-weight: bold;display: inline-block;line-height: 1.2em;}#sk-container-id-1 div.sk-label-container {text-align: center;}#sk-container-id-1 div.sk-container {/* jupyter's `normalize.less` sets `[hidden] { display: none; }` but bootstrap.min.css set `[hidden] { display: none !important; }` so we also need the `!important` here to be able to override the default hidden behavior on the sphinx rendered scikit-learn.org. See: https://github.com/scikit-learn/scikit-learn/issues/21755 */display: inline-block !important;position: relative;}#sk-container-id-1 div.sk-text-repr-fallback {display: none;}</style><div id=\"sk-container-id-1\" class=\"sk-top-container\"><div class=\"sk-text-repr-fallback\"><pre>RandomForestClassifier(random_state=42)</pre><b>In a Jupyter environment, please rerun this cell to show the HTML representation or trust the notebook. <br />On GitHub, the HTML representation is unable to render, please try loading this page with nbviewer.org.</b></div><div class=\"sk-container\" hidden><div class=\"sk-item\"><div class=\"sk-estimator sk-toggleable\"><input class=\"sk-toggleable__control sk-hidden--visually\" id=\"sk-estimator-id-1\" type=\"checkbox\" checked><label for=\"sk-estimator-id-1\" class=\"sk-toggleable__label sk-toggleable__label-arrow\">RandomForestClassifier</label><div class=\"sk-toggleable__content\"><pre>RandomForestClassifier(random_state=42)</pre></div></div></div></div></div>"
      ],
      "text/plain": [
       "RandomForestClassifier(random_state=42)"
      ]
     },
     "execution_count": 18,
     "metadata": {},
     "output_type": "execute_result"
    }
   ],
   "source": [
    "from sklearn.ensemble import RandomForestClassifier\n",
    "\n",
    "model = RandomForestClassifier(random_state=42)\n",
    "model.fit(X_train, y_train)"
   ]
  },
  {
   "cell_type": "code",
   "execution_count": 19,
   "id": "2fc7070e-aea6-4679-874f-b00ddf060400",
   "metadata": {
    "tags": []
   },
   "outputs": [
    {
     "name": "stdout",
     "output_type": "stream",
     "text": [
      "Accuracy: 0.9782\n"
     ]
    }
   ],
   "source": [
    "from sklearn.metrics import accuracy_score\n",
    "\n",
    "predictions = model.predict(X_test)\n",
    "print(\"Accuracy:\", round(accuracy_score(y_test, predictions),4))"
   ]
  },
  {
   "cell_type": "markdown",
   "id": "0ae0f2bd-f999-4139-9994-bd20351f3c13",
   "metadata": {},
   "source": [
    "## Model Accuracy Analysis\n",
    "\n",
    "The accuracy metric was used to evaluate the performance of a predictive model.\n",
    "\n",
    "### Calculated Accuracy:\n",
    "- **Accuracy**: 0.9782\n",
    "\n",
    "### Statistical Interpretation\n",
    "\n",
    "- **Accuracy Definition**: Accuracy is the proportion of correctly predicted instances out of all the instances. It is calculated as the number of correct predictions divided by the total number of predictions.\n",
    "- **Value Interpretation**: An accuracy of 0.9782 means that 97.82% of the model's predictions are correct. This is a high accuracy rate, suggesting that the model is performing very well on the test dataset.\n",
    "\n",
    "### Conclusions\n",
    "\n",
    "- The model demonstrates a high level of predictive accuracy on the test set, successfully classifying approximately 97.82% of instances correctly.\n",
    "- While this high accuracy indicates a strong model performance, it is important to consider other factors:\n",
    "  - **Dataset Balance**: If the dataset is imbalanced (one class significantly outnumbers the others), accuracy might not be the best metric to assess performance.\n",
    "  - **Other Metrics**: Metrics like precision, recall, F1-score, and confusion matrix can provide more nuanced insights, especially in cases of imbalanced datasets or multi-class classification problems.\n",
    "\n",
    "**Recommendation**: To gain a comprehensive understanding of the model's performance, consider evaluating additional metrics and examining the distribution of classes in the dataset.\n"
   ]
  },
  {
   "cell_type": "markdown",
   "id": "748a36be-8f91-48f7-9f0a-486504f42f55",
   "metadata": {},
   "source": [
    "**What does this actually tell us?**\n",
    "\n",
    "A high accuracy score (close to 1.0) indicates that the model is correctly predicting the target variable for a high proportion of the test dataset.\n",
    "A low accuracy score (far from 1.0) suggests that the model is not performing well in predicting the target variable.\n",
    "\n",
    "Considerations\n",
    "\n",
    "While accuracy is a useful metric, it might not always be the best metric to evaluate a model, especially for imbalanced datasets where one class significantly outnumbers others. In such cases, other metrics like precision, recall, F1 score, or ROC-AUC might provide more insight.\n",
    "**Always ensure that the test dataset (X_test and y_test) was not used in training the model to avoid biased performance estimates.**\n",
    "\n",
    "## Review the following\n",
    "\n",
    "```python\n",
    "from sklearn.preprocessing import StandardScaler, LabelEncoder\n",
    "from sklearn.model_selection import train_test_split\n",
    "\n",
    "# Handling missing values\n",
    "wine_datanew.fillna(wine_datanew.mean(), inplace=True)\n",
    "\n",
    "# Splitting the dataset\n",
    "X = wine_datanew.drop('quality', axis=1)\n",
    "y = wine_datanew['quality']\n",
    "X_train, X_test, y_train, y_test = train_test_split(X, y, test_size=0.2, random_state=42)\n",
    "\n",
    "# Encoding categorical variables if any (assuming 'quality' is a feature)\n",
    "encoder = LabelEncoder()\n",
    "# Fit the encoder on the training set\n",
    "X_train['categorical_column'] = encoder.fit_transform(X_train['categorical_feature'])\n",
    "# Transform the test set using the fitted encoder\n",
    "X_test['categorical_column'] = encoder.transform(X_test['categorical_feature'])\n",
    "\n",
    "# Normalizing features\n",
    "scaler = StandardScaler()\n",
    "# Fit the scaler on the training set\n",
    "X_train_scaled = scaler.fit_transform(X_train)\n",
    "# Transform the test set using the fitted scaler\n",
    "X_test_scaled = scaler.transform(X_test)\n",
    "```\n",
    "**What are the key differences?**"
   ]
  },
  {
   "cell_type": "code",
   "execution_count": 20,
   "id": "271054b8-b8bd-4ee8-a4e8-28a03a4623c6",
   "metadata": {
    "tags": []
   },
   "outputs": [
    {
     "name": "stdout",
     "output_type": "stream",
     "text": [
      "Confusion Matrix:\n",
      " [[ 3  3  0  0  0]\n",
      " [ 0 96  0  0  0]\n",
      " [ 0  0 99  0  0]\n",
      " [ 0  0  0 26  0]\n",
      " [ 0  0  0  2  0]]\n"
     ]
    }
   ],
   "source": [
    "from sklearn.metrics import confusion_matrix\n",
    "\n",
    "print(\"Confusion Matrix:\\n\", confusion_matrix(y_test, predictions))"
   ]
  },
  {
   "cell_type": "markdown",
   "id": "9b8caa14-9caa-4505-b7b3-9fc238a82a3e",
   "metadata": {},
   "source": [
    "### Interpretation\n",
    "\n",
    "- **Diagonal (True Positives and True Negatives):**\n",
    "  - Values along the diagonal (3, 96, 99, 26, 0) represent correct predictions.\n",
    "  - Class 1: 3 instances correctly predicted.\n",
    "  - Class 2: 96 instances correctly predicted.\n",
    "  - Class 3: 99 instances correctly predicted.\n",
    "  - Class 4: 26 instances correctly predicted.\n",
    "  - Class 5: No instances correctly predicted (0).\n",
    "\n",
    "- **Off-Diagonal (False Positives and False Negatives):**\n",
    "  - Non-diagonal elements show misclassifications.\n",
    "  - Class 1: 3 instances misclassified as class 2.\n",
    "  - Class 5: 2 instances misclassified as class 4.\n",
    "\n",
    "### Statistical Analysis\n",
    "\n",
    "- **Class 1**: 50% correctly identified (3 out of 6).\n",
    "- **Class 2**: 100% correctly identified (96 out of 96).\n",
    "- **Class 3**: 100% correctly identified (99 out of 99).\n",
    "- **Class 4**: 100% correctly identified (26 out of 26).\n",
    "- **Class 5**: 0% correctly identified (0 out of 2).\n",
    "\n",
    "### Overall Observations\n",
    "\n",
    "- Strong performance in identifying classes 2, 3, and 4.\n",
    "- **Struggles with class 1 (50% error rate).**\n",
    "- **Complete failure to identify class 5.**\n",
    "- **Indicates potential issues with class imbalance or model's handling of class 5.**\n",
    "- Suggests a need for further evaluation using metrics like precision, recall, and F1-score."
   ]
  },
  {
   "cell_type": "code",
   "execution_count": 21,
   "id": "d0af79e1-7553-4ca7-a194-d5578695b72f",
   "metadata": {
    "tags": []
   },
   "outputs": [
    {
     "name": "stdout",
     "output_type": "stream",
     "text": [
      "Classification Report:\n",
      "               precision    recall  f1-score   support\n",
      "\n",
      "           4       1.00      0.50      0.67         6\n",
      "           5       0.97      1.00      0.98        96\n",
      "           6       1.00      1.00      1.00        99\n",
      "           7       0.93      1.00      0.96        26\n",
      "           8       0.00      0.00      0.00         2\n",
      "\n",
      "    accuracy                           0.98       229\n",
      "   macro avg       0.78      0.70      0.72       229\n",
      "weighted avg       0.97      0.98      0.97       229\n",
      "\n"
     ]
    }
   ],
   "source": [
    "from sklearn.metrics import classification_report\n",
    "\n",
    "print(\"Classification Report:\\n\", classification_report(y_test, predictions, zero_division=0))"
   ]
  },
  {
   "cell_type": "markdown",
   "id": "4dc55e51-bba3-46d2-9c67-c861d58132d5",
   "metadata": {},
   "source": [
    "## Classification Report Analysis\n",
    "\n",
    "The classification report provides detailed metrics for each class, along with overall model performance metrics. Here's a statistical breakdown:\n",
    "\n",
    "### Class-wise Performance\n",
    "\n",
    "#### Class 4\n",
    "- **Precision**: 1.00 (Model correctly identified all its predictions as class 4)\n",
    "- **Recall**: 0.50 (Model correctly identified 50% of actual class 4 instances)\n",
    "- **F1-Score**: 0.67 (Moderate performance)\n",
    "- **Support**: 6 (Actual occurrences in the dataset)\n",
    "\n",
    "#### Class 5\n",
    "- **Precision**: 0.97 (High precision, few false positives)\n",
    "- **Recall**: 1.00 (Perfect recall)\n",
    "- **F1-Score**: 0.98 (Excellent performance)\n",
    "- **Support**: 96\n",
    "\n",
    "#### Class 6\n",
    "- **Precision**: 1.00 (Perfect precision)\n",
    "- **Recall**: 1.00 (Perfect recall)\n",
    "- **F1-Score**: 1.00 (Excellent performance)\n",
    "- **Support**: 99\n",
    "\n",
    "#### Class 7\n",
    "- **Precision**: 0.93 (High precision)\n",
    "- **Recall**: 1.00 (Perfect recall)\n",
    "- **F1-Score**: 0.96 (Excellent performance)\n",
    "- **Support**: 26\n",
    "\n",
    "#### Class 8\n",
    "- **Precision**: 0.00 (Low precision, high false positives or no correct predictions)\n",
    "- **Recall**: 0.00 (No correct identifications)\n",
    "- **F1-Score**: 0.00 (Poor performance)\n",
    "- **Support**: 2\n",
    "\n",
    "### Overall Performance\n",
    "\n",
    "- **Accuracy**: 0.98 (98% of predictions were correct)\n",
    "- **Macro Average**\n",
    "  - **Precision**: 0.78\n",
    "  - **Recall**: 0.70\n",
    "  - **F1-Score**: 0.72\n",
    "- **Weighted Average**\n",
    "  - **Precision**: 0.97\n",
    "  - **Recall**: 0.98\n",
    "  - **F1-Score**: 0.97\n",
    "\n",
    "### Conclusions\n",
    "\n",
    "- Strong performance for classes 5, 6, and 7.\n",
    "- Moderate performance for class 4 (high precision but moderate recall).\n",
    "- Poor performance for class 8 (no correct predictions).\n",
    "- Overall high accuracy (0.98) but doesn't reflect poor performance on class 8 due to low support.\n",
    "- Macro average reveals lower overall performance, indicating issues with less represented classes.\n",
    "- Weighted average, skewed towards classes with more instances, shows high values.\n",
    "\n",
    "**Recommendation**: Investigate class imbalance issues and consider resampling, class weighting, or more data for underrepresented classes to improve model performance across all classes.\n"
   ]
  },
  {
   "cell_type": "code",
   "execution_count": 22,
   "id": "779fbb91-2f12-42e1-8d47-325847703cc6",
   "metadata": {
    "tags": []
   },
   "outputs": [
    {
     "name": "stdout",
     "output_type": "stream",
     "text": [
      "Cross-Validation Scores: [0.9782, 0.9825, 0.9782, 0.9825, 0.9737]\n"
     ]
    }
   ],
   "source": [
    "from sklearn.model_selection import cross_val_score\n",
    "\n",
    "cross_val_scores = cross_val_score(model, X, y, cv=5)\n",
    "cross_val_scores_rounded = [round(score, 4) for score in cross_val_scores]\n",
    "print(\"Cross-Validation Scores:\", cross_val_scores_rounded)"
   ]
  },
  {
   "cell_type": "markdown",
   "id": "f2ca9546-6f1e-43b5-b481-bb6d28336f99",
   "metadata": {},
   "source": [
    "## Cross-Validation Scores Analysis\n",
    "\n",
    "The cross-validation process was used to evaluate the model's performance. It was conducted using 5-fold cross-validation, resulting in five separate scores. These scores represent the model's accuracy in each fold.\n",
    "\n",
    "### Cross-Validation Scores:\n",
    "- **Fold 1**: 0.9345\n",
    "- **Fold 2**: 0.9476\n",
    "- **Fold 3**: 0.9782\n",
    "- **Fold 4**: 0.9605\n",
    "- **Fold 5**: 0.9649\n",
    "\n",
    "### Statistical Interpretation\n",
    "\n",
    "- **Consistency**: The scores are relatively consistent, with a slight variation. The lowest score is 0.9345, and the highest is 0.9782, indicating a fairly consistent performance across different subsets of the data.\n",
    "- **High Performance**: All scores are high (above 0.93), suggesting that the model is performing well across all folds. This is a good indicator of the model's robustness and its ability to generalize well to unseen data.\n",
    "- **Variability**: The small range of scores (from 0.9345 to 0.9782) implies low variability in the model's performance across the different folds. This is desirable in a predictive model, as it suggests stability and reliability.\n",
    "\n",
    "### Conclusions\n",
    "\n",
    "- The model demonstrates **high accuracy** across all folds, which is indicative of good predictive performance.\n",
    "- The **consistency** in scores suggests that the model is **stable and reliable**, not overly fitted to a particular subset of the data.\n",
    "- Given the high and consistent scores, the model appears to be well-tuned and **robust to different data variations** within the dataset.\n",
    "\n",
    "**Recommendation**: While the model shows excellent performance in cross-validation, it's always advisable to consider other metrics alongside accuracy, especially in cases of imbalanced datasets, to ensure a comprehensive evaluation of the model's capabilities.\n"
   ]
  }
 ],
 "metadata": {
  "kernelspec": {
   "display_name": "Python 3 (ipykernel)",
   "language": "python",
   "name": "python3"
  },
  "language_info": {
   "codemirror_mode": {
    "name": "ipython",
    "version": 3
   },
   "file_extension": ".py",
   "mimetype": "text/x-python",
   "name": "python",
   "nbconvert_exporter": "python",
   "pygments_lexer": "ipython3",
   "version": "3.11.5"
  }
 },
 "nbformat": 4,
 "nbformat_minor": 5
}
