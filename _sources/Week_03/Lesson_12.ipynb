{
 "cells": [
  {
   "cell_type": "markdown",
   "id": "353192b2-9b18-4089-a168-d0ab91d6bc2d",
   "metadata": {},
   "source": [
    "# Lesson 12: In-Depth Exploration of Data Splitting Techniques in Python with Cross-Validation"
   ]
  },
  {
   "cell_type": "markdown",
   "id": "d0002220-974b-46c9-bb97-102c12e22754",
   "metadata": {},
   "source": [
    "## Objective\n",
    "\n",
    "Enhance understanding of data splitting in machine learning, focusing on mathematical principles, advanced methods like cross-validation, and Python programming activities.\n",
    "\n",
    "## Prerequisites\n",
    "\n",
    "- Advanced knowledge in Python, Pandas, NumPy, and Scikit-Learn.\n",
    "- Familiarity with statistical concepts and machine learning principles.\n",
    "- Configured Python environment with necessary data science libraries.\n"
   ]
  },
  {
   "cell_type": "markdown",
   "id": "58a0ac06-7f05-4f29-b08d-d9f0e1e997cd",
   "metadata": {},
   "source": [
    "## 1. Theoretical Background and Mathematical Principles\n",
    "\n",
    "**Understanding Data Distribution**\n",
    "- **Statistical Sampling**: Importance in understanding how well samples represent populations.\n",
    "- **Central Limit Theorem (CLT)**:\n",
    "  - **Formula**: $(\\bar{X} \\approx N(\\mu, \\frac{\\sigma^2}{n})$) for large $(n$).\n",
    "  - **Explanation**: $(\\bar{X}$) is the sample mean; $(N$) indicates a normal distribution; $(\\mu$) is the population mean; $(\\sigma^2$) is the population variance; $(n$) is the sample size.\n",
    "  - **Importance**: Foundation for statistical methods, applicable even with unknown population distribution.\n",
    "\n",
    "**Importance of Random Sampling**\n",
    "- **Probability Sampling**: Ensures unbiased population representation.\n",
    "- **Math Behind Random Sampling**: Probability of selection = $(\\frac{1}{N}$), where $(N$) is the total number of observations.\n",
    "\n",
    "**Stratified Sampling Theory**\n",
    "- **Principle**: Divides the population into homogeneous subgroups to reduce sampling error.\n",
    "- **Calculation**: Proportion in strata = $(\\frac{\\text{Number in Stratum}}{\\text{Total Number}}$).\n"
   ]
  },
  {
   "cell_type": "markdown",
   "id": "6c8127f5-bfa8-4429-9727-9e34ea53e2f6",
   "metadata": {
    "tags": []
   },
   "source": [
    "## 2. Data Splitting Techniques\n",
    "\n",
    "**Simple Random Split**\n",
    "- **Usage**: Ideal for large, representative datasets.\n",
    "- **Python Activity**:\n",
    "  - **Task**: Load a dataset, apply a simple random split.\n",
    "  \n",
    "```python\n",
    "from sklearn.model_selection import train_test_split\n",
    "# Assuming df is your DataFrame\n",
    "train_set, test_set = train_test_split(df, test_size=0.2, random_state=42)\n",
    "```"
   ]
  },
  {
   "cell_type": "markdown",
   "id": "61bceb05-bcdb-49e5-84b3-8b6b64b46947",
   "metadata": {},
   "source": [
    "  - **Analysis**: Assess how the split represents the dataset's characteristics.\n",
    "  \n",
    "**Note:** The random_state is a pseudo-random number parameter that allows you to reproduce the same train test split each time you run the code. There are a number of reasons why people use random_state , including software testing, tutorials like this one and talks"
   ]
  },
  {
   "cell_type": "markdown",
   "id": "943f8b3c-7d9c-4ced-911d-5a24708b0324",
   "metadata": {},
   "source": [
    "**Stratified Random Split**\n",
    "- **Usage**: Crucial for datasets with significant internal variance or imbalanced classes.\n",
    "- **Python Activity**:\n",
    "  - **Task**: Perform a stratified split based on a key categorical variable.\n",
    "```python\n",
    "from sklearn.model_selection import StratifiedShuffleSplit\n",
    "\n",
    "split = StratifiedShuffleSplit(n_splits=1, test_size=0.2, random_state=42)\n",
    "for train_index, test_index in split.split(df, df[\"stratum_column\"]):\n",
    "        strat_train_set = df.loc[train_index]\n",
    "        strat_test_set = df.loc[test_index]\n",
    "```"
   ]
  },
  {
   "cell_type": "markdown",
   "id": "21351856-5bce-4472-87b5-bc28d188a5a7",
   "metadata": {},
   "source": [
    "  - **Analysis**: Evaluate the variance within each stratum compared to the overall dataset."
   ]
  },
  {
   "cell_type": "markdown",
   "id": "1bb43142-8d89-4078-9400-bc10e7d0c1d3",
   "metadata": {
    "tags": []
   },
   "source": [
    "## 3. Advanced Splitting Techniques\n",
    "\n",
    "**K-Fold Cross-Validation**\n",
    "- **Principle**: Each data point is used for both training and validation.\n",
    "- **Formula**: Divide dataset into \\(K\\) subsets; use \\(K-1\\) for training, 1 for testing; repeat \\(K\\) times.\n",
    "- **Best Practices**:\n",
    "  - Choose an appropriate \\(K\\) to balance bias and variance.\n",
    "  - Shuffle data when splitting to avoid biased splits.\n",
    "- **Python Activity**:\n",
    "  - **Task**: Implement K-Fold Cross-Validation.\n",
    "```python\n",
    "from sklearn.model_selection import KFold, cross_val_score\n",
    "from sklearn.ensemble import RandomForestClassifier\n",
    "\n",
    "model = RandomForestClassifier(random_state=42)\n",
    "kf = KFold(n_splits=5, random_state=42, shuffle=True)\n",
    "scores = cross_val_score(model, df_features, df_target, cv=kf)\n",
    "\n",
    "print(\"Cross-validation scores:\", scores)\n",
    "```"
   ]
  },
  {
   "cell_type": "markdown",
   "id": "10bf19f1-18db-44c2-897b-40ca1be42982",
   "metadata": {},
   "source": [
    "  - **Analysis**: Explore how varying the number of splits (\\(K\\)) impacts model performance. The objective is to find a balance between bias and variance."
   ]
  },
  {
   "cell_type": "markdown",
   "id": "046fac4b-848b-4b0d-82a7-34ccf7403c4b",
   "metadata": {},
   "source": [
    "### Stratified Cross-Validation\n",
    "- **Usage**: Essential for datasets with imbalanced classes.\n",
    "- **Python Activity**:\n",
    "  - **Task**: Implement Stratified K-Fold Cross-Validation.\n",
    "  \n",
    "```python\n",
    " from sklearn.model_selection import StratifiedKFold\n",
    "\n",
    "    skf = StratifiedKFold(n_splits=5, random_state=42, shuffle=True)\n",
    "    for train_index, test_index in skf.split(df_features, df_target):\n",
    "        X_train, X_test = df_features[train_index], df_features[test_index]\n",
    "        y_train, y_test = df_target[train_index], df_target[test_index]\n",
    "```"
   ]
  },
  {
   "cell_type": "markdown",
   "id": "ae5770a2-2721-469c-aad5-17cbc4fbca83",
   "metadata": {},
   "source": [
    "### Blocked Cross-Validation\n",
    "- **Usage**: Ideal for grouped data, such as repeated measurements from the same subject.\n",
    "- **Python Activity**:\n",
    "  - **Task**: Use Blocked Cross-Validation for grouped data."
   ]
  },
  {
   "cell_type": "markdown",
   "id": "8e2100e9-ca60-4fa1-a57e-944099133d45",
   "metadata": {},
   "source": [
    "### Rolling Cross-Validation\n",
    "- **Usage**: Best suited for time series data.\n",
    "- **Python Activity**:\n",
    "  - **Task**: Apply Rolling Cross-Validation on time series data."
   ]
  },
  {
   "cell_type": "markdown",
   "id": "e2d543c4-1453-4e4e-afcf-105f771f237d",
   "metadata": {},
   "source": [
    "# Homework Assignment #1\n",
    "\n",
    "## Objective\n",
    "Enhance understanding of practical data preprocessing, test set splitting, and model evaluation, focusing on Python implementation using a Kaggle dataset."
   ]
  },
  {
   "cell_type": "markdown",
   "id": "000c2062-4669-46c3-b9c8-ba02a24fe4fd",
   "metadata": {},
   "source": [
    "### Step 1: Access and Load the Dataset\n",
    "- **Task**: Download the \"Wine Quality\" dataset from Kaggle.\n",
    "\n",
    "https://www.kaggle.com/datasets/yasserh/wine-quality-dataset\n",
    "\n",
    "```python\n",
    "  import pandas as pd\n",
    "\n",
    "  # Load the dataset (update the path according to your download)\n",
    "  wine_data = pd.read_csv('winequality.csv')\n",
    "```"
   ]
  },
  {
   "cell_type": "markdown",
   "id": "70b5055d-347c-489e-a2d6-e859956026f8",
   "metadata": {
    "jp-MarkdownHeadingCollapsed": true,
    "tags": []
   },
   "source": [
    "### Step 2: Data Preprocessing\n",
    "\n",
    "- **Tasks:** Handle missing values, encode categorical variables, and normalize features\n",
    "```python\n",
    "from sklearn.preprocessing import StandardScaler, LabelEncoder\n",
    "\n",
    "# Handling missing values\n",
    "wine_data.fillna(wine_data.mean(), inplace=True)\n",
    "\n",
    "# Encoding categorical variables if any\n",
    "encoder = LabelEncoder()\n",
    "wine_data['categorical_column'] = encoder.fit_transform(wine_data['categorical_column'])\n",
    "\n",
    "# Normalizing features\n",
    "scaler = StandardScaler()\n",
    "wine_data_scaled = scaler.fit_transform(wine_data.drop('quality', axis=1))\n",
    "```"
   ]
  },
  {
   "cell_type": "markdown",
   "id": "2ba7c6f4-1774-498a-80e7-e4dfb7fd2422",
   "metadata": {},
   "source": [
    "### Step 3: Splitting the Dataset\n",
    "\n",
    "- **Task:** Split the dataset into training and test sets.\n",
    "```python\n",
    "from sklearn.model_selection import train_test_split\n",
    "\n",
    "X = wine_data_scaled\n",
    "y = wine_data['quality']\n",
    "X_train, X_test, y_train, y_test = train_test_split(X, y, test_size=0.2, random_state=42)\n",
    "```"
   ]
  },
  {
   "cell_type": "markdown",
   "id": "d0951e45-ad6d-4861-ad2b-b2bbc5819df4",
   "metadata": {},
   "source": [
    "### Step 4: Training a Model\n",
    "\n",
    "- **Task:**  Train a model using the training set.\n",
    "```python\n",
    "from sklearn.ensemble import RandomForestClassifier\n",
    "\n",
    "model = RandomForestClassifier(random_state=42)\n",
    "model.fit(X_train, y_train)\n",
    "```"
   ]
  },
  {
   "cell_type": "markdown",
   "id": "a63bafbe-dd1e-4a67-b71f-5172757bf2fc",
   "metadata": {},
   "source": [
    "### Step 5: Model Evaluation Techniques\n",
    "\n",
    "- **Tasks:** Evaluate the model using a variety of techniques.\n",
    "\n",
    "- **Accuracy Score:**\n",
    "```python\n",
    "from sklearn.metrics import accuracy_score\n",
    "\n",
    "predictions = model.predict(X_test)\n",
    "print(\"Accuracy:\", accuracy_score(y_test, predictions))\n",
    "```\n",
    "\n",
    "- **Confusion Matrix:**\n",
    "```python\n",
    "from sklearn.metrics import confusion_matrix\n",
    "\n",
    "print(\"Confusion Matrix:\\n\", confusion_matrix(y_test, predictions))\n",
    "```\n",
    "\n",
    "- **Precision, Recall, and F1-Score:**\n",
    "```python\n",
    "from sklearn.metrics import classification_report\n",
    "\n",
    "print(\"Classification Report:\\n\", classification_report(y_test, predictions))\n",
    "```\n",
    "\n",
    "- **ROC Curve:**\n",
    "```python\n",
    "from sklearn.metrics import roc_curve, auc\n",
    "import matplotlib.pyplot as plt\n",
    "\n",
    "# For binary classification\n",
    "probabilities = model.predict_proba(X_test)[:, 1]\n",
    "fpr, tpr, thresholds = roc_curve(y_test, probabilities)\n",
    "roc_auc = auc(fpr, tpr)\n",
    "\n",
    "plt.figure()\n",
    "plt.plot(fpr, tpr, color='darkorange', lw=2, label='ROC curve (area = %0.2f)' % roc_auc)\n",
    "plt.plot([0, 1], [0, 1], color='navy', lw=2, linestyle='--')\n",
    "plt.xlabel('False Positive Rate')\n",
    "plt.ylabel('True Positive Rate')\n",
    "plt.title('Receiver Operating Characteristic')\n",
    "plt.legend(loc=\"lower right\")\n",
    "plt.show()\n",
    "```\n",
    "\n",
    "- **Cross-Validation:**\n",
    "```python\n",
    "from sklearn.model_selection import cross_val_score\n",
    "\n",
    "cross_val_scores = cross_val_score(model, X, y, cv=5)\n",
    "print(\"Cross-Validation Scores:\", cross_val_scores)\n",
    "```"
   ]
  },
  {
   "cell_type": "markdown",
   "id": "077638a6-b15b-418d-9481-a5a554e8abdf",
   "metadata": {},
   "source": [
    "### **Final Notes**\n",
    "\n",
    "The five steps outlined in the lesson plan are generally aligned with best practices in machine learning for data preprocessing, splitting, and model evaluation. However, there are a few additional considerations and potential modifications to ensure efficiency and prevent data leakage:\n",
    "\n",
    "- **Access and Load the Dataset:** This step is straightforward and essential. Ensure data confidentiality and compliance with data usage policies.\n",
    "\n",
    "- **Data Preprocessing:**\n",
    "        Best Practice: It's crucial to conduct preprocessing on the training set independently from the test set to prevent data leakage. This means normalizing or standardizing the training data and then applying the same transformation to the test data using parameters from the training set.\n",
    "        Modification: Split the data into training and test sets before applying any normalization or encoding to avoid data leakage.\n",
    "\n",
    "- **Splitting the Dataset:**\n",
    "        This step is well-placed after initial data loading and handling missing values but should ideally be done before applying more complex preprocessing steps like normalization and encoding.\n",
    "\n",
    "- **Training a Model:**\n",
    "        Best Practice: This step is well-positioned after preprocessing and splitting. Ensure that the model is trained only on the training set.\n",
    "\n",
    "- **Model Evaluation Techniques:**\n",
    "        Best Practice: Evaluating the model on the test set is crucial to assess its performance on unseen data. Using a variety of metrics provides a comprehensive view of the model's performance.\n",
    "        Consideration: When dealing with imbalanced datasets, metrics like ROC-AUC and F1-score are particularly informative.\n",
    "        \n",
    "### **Additional Considerations for Best Practices**\n",
    "\n",
    "**Cross-Validation:**\n",
    "        Should ideally be performed before finalizing the model to understand its generalizability. Cross-validation should be conducted on the training dataset only.\n",
    "        For time-series data, use time-series specific cross-validation methods to prevent data leakage.\n",
    "\n",
    "**Feature Selection and Engineering:**\n",
    "        Should be done after splitting the data to prevent information from the test set leaking into the model training process.\n",
    "        Any feature engineering should also be consistent across training and test sets.\n",
    "\n",
    "**Data Leakage Prevention:**\n",
    "        Be vigilant about not allowing information from the test set to influence the training process.\n",
    "        This includes careful handling of any preprocessing steps like scaling, normalization, or data augmentation."
   ]
  },
  {
   "cell_type": "markdown",
   "id": "aa1a3427-210d-479c-a768-9139a634a905",
   "metadata": {},
   "source": [
    "#### **Additional Resources (Train/Test Splitting | Data Leakage)**\n",
    "\n",
    "https://medium.com/@datasciencewizards/a-guide-to-data-splitting-in-machine-learning-49a959c95fa1\n",
    "\n",
    "https://machinelearningmastery.com/train-test-split-for-evaluating-machine-learning-algorithms/\n",
    "\n",
    "https://towardsdatascience.com/data-leakage-in-machine-learning-how-it-can-be-detected-and-minimize-the-risk-8ef4e3a97562\n",
    "\n",
    "https://www.analyticsvidhya.com/blog/2021/07/data-leakage-and-its-effect-on-the-performance-of-an-ml-model/\n",
    "\n",
    "https://jfrog.com/community/data-science/be-careful-from-data-leakage-2/"
   ]
  }
 ],
 "metadata": {
  "kernelspec": {
   "display_name": "Python 3 (ipykernel)",
   "language": "python",
   "name": "python3"
  },
  "language_info": {
   "codemirror_mode": {
    "name": "ipython",
    "version": 3
   },
   "file_extension": ".py",
   "mimetype": "text/x-python",
   "name": "python",
   "nbconvert_exporter": "python",
   "pygments_lexer": "ipython3",
   "version": "3.11.5"
  }
 },
 "nbformat": 4,
 "nbformat_minor": 5
}
