{
 "cells": [
  {
   "cell_type": "markdown",
   "id": "690c52f0-5fdb-4713-87f0-4709cb9a15e1",
   "metadata": {},
   "source": [
    "# Day 8: Calculus - Derivatives, Concept and Applications"
   ]
  },
  {
   "cell_type": "markdown",
   "id": "80c8cc76-8c46-4538-9454-954ad6c13363",
   "metadata": {},
   "source": [
    "## What are Derivatives?\n",
    "\n",
    "Derivatives are a fundamental concept in calculus that allow us to understand how a function changes as its input (independent variable) changes. They provide information about the rate of change, slope, and behavior of functions. In this lesson, we'll explore the concept of derivatives, their importance, and how they are used in various fields, including machine learning.\n",
    "\n",
    "### Understanding Rates of Change\n",
    "\n",
    "Imagine you are driving a car, and you want to know how fast your speed is changing at a specific moment. This rate of change in speed is precisely what derivatives help us calculate. Whether it's measuring the speed of a car, the growth of a population, or the behavior of a stock price, derivatives are essential for understanding these changes."
   ]
  },
  {
   "cell_type": "markdown",
   "id": "dd6339d3-656a-475d-9f31-13c5d9819a7e",
   "metadata": {},
   "source": [
    "## Calculating Derivatives\n",
    "\n",
    "### The Slope of a Tangent Line\n",
    "\n",
    "One way to think about derivatives is in terms of slopes. Given a curve representing a function, the derivative at a particular point on the curve provides the slope of the tangent line to the curve at that point. This tangent line represents the instantaneous rate of change at that specific moment."
   ]
  },
  {
   "cell_type": "markdown",
   "id": "29371eb0-b239-493a-afed-69a060d60cd7",
   "metadata": {},
   "source": [
    "### Derivative Notation\n",
    "\n",
    "In mathematical notation, the derivative of a function is often denoted as $(f'(x)$) or $(\\frac{df}{dx}$). Here's what this notation means:\n",
    "- $(f'(x)$): Represents the derivative of the function $(f$) with respect to the variable $(x$).\n",
    "\n",
    "- $(\\frac{df}{dx}$): Represents the rate of change of the function $(f$) with respect to changes in the variable $(x$).\n"
   ]
  },
  {
   "cell_type": "markdown",
   "id": "24266172-d996-4f14-82e2-6565eb52c036",
   "metadata": {},
   "source": [
    "### Basic Derivative Formulas\n",
    "\n",
    "Let's explore some basic derivative formulas that you'll frequently encounter:\n",
    "\n",
    "1. **Power Rule:** For a function $(f(x) = x^n$), its derivative is $(f'(x) = n \\cdot x^{(n-1)}$). For example:\n",
    "- If $(f(x) = x^2$), then $(f'(x) = 2 \\cdot x^{(2-1)} = 2x$).\n",
    "\n",
    "2. **Constant Rule:** The derivative of a constant (a number that doesn't change) is always zero. For example:\n",
    "- If $(f(x) = 5$), then $(f'(x) = 0$).\n",
    "\n",
    "3. **Sum and Difference Rules:** The derivative of a sum or difference of two functions is the sum or difference of their derivatives. For example:\n",
    "- If $(f(x) = 2x^2 + 3x - 1$), then $(f'(x) = 4x + 3$).\n",
    "\n",
    "\n",
    "4. **Product Rule:** If you have a product of two functions \\(u(x)\\) and \\(v(x)\\), you can find their derivative using the product rule:\n",
    "- $((u(x) \\cdot v(x))' = u'(x) \\cdot v(x) + u(x) \\cdot v'(x)$).\n",
    "\n",
    "\n",
    "5. **Quotient Rule:** If you have a quotient of two functions \\(u(x)\\) and \\(v(x)\\), you can find their derivative using the quotient rule:\n",
    "- $(\\left(\\frac{u(x)}{v(x)}\\right)' = \\frac{u'(x) \\cdot v(x) - u(x) \\cdot v'(x)}{(v(x))^2}$).\n"
   ]
  },
  {
   "cell_type": "markdown",
   "id": "e5fedafd-aa44-4f02-a516-6d08c68f4058",
   "metadata": {},
   "source": [
    "## 1. **Power Rule**\n",
    "\n",
    "The Power Rule is a fundamental concept in calculus for finding the derivative of a function that is in the form of a power of $(x$), where $(x$) is the independent variable. The Power Rule states that if we have a function $(f(x)$) expressed as $(f(x) = x^n$), where $(n$) is a constant exponent, then its derivative $(f'(x)$) is given by:\n",
    "\n",
    "$[f'(x) = n \\cdot x^{(n-1)}$]\n",
    "\n",
    "This rule provides a straightforward method for calculating the derivative of such functions."
   ]
  },
  {
   "cell_type": "markdown",
   "id": "c06080d7-210a-456a-bec6-b2f72bfa73e9",
   "metadata": {
    "tags": []
   },
   "source": [
    "## Real-World Example\n",
    "\n",
    "Let's consider a real-world scenario where we have a function representing the position of an object as it moves with time. The function $(s(t)$) describes the object's position at time $(t$). If we have $(s(t) = t^3$), this implies that the object's position changes with time, and we want to find the rate at which it changes, which is the derivative.\n",
    "\n",
    "### Applying the Power Rule\n",
    "\n",
    "To find the derivative $(s'(t)$), we apply the Power Rule. In our case, $(n = 3$) because the function is $(t^3$). Applying the Power Rule formula:\n",
    "\n",
    "$[s'(t) = 3 \\cdot t^{(3-1)} = 3 \\cdot t^2$]\n",
    "\n",
    "This derivative $(s'(t) = 3 \\cdot t^2$) represents the rate at which the object's position is changing concerning time."
   ]
  },
  {
   "cell_type": "markdown",
   "id": "c0b38d31-755d-490b-b2d9-7bb57ddd9859",
   "metadata": {},
   "source": [
    "### **Activity 1: Calculate the Derivative using the Power Rule**"
   ]
  },
  {
   "cell_type": "markdown",
   "id": "4bf6e49f-4f62-4b9c-a224-12b483c2a991",
   "metadata": {},
   "source": [
    "#### **Description:** \n",
    "In this activity, we will use Python to calculate the derivative of a real-world function that represents the position of an object as it moves with time. The function \\(s(t)\\) describes the object's position at time \\(t\\). We will consider the function \\(s(t) = t^3\\) as an example.\n",
    "\n",
    "#### Step 1: Problem Understanding\n",
    "\n",
    "1. Understand that we want to find the rate at which the object's position is changing with respect to time.\n",
    "2. Recognize that we can use calculus and the Power Rule to calculate the derivative of the function \\(s(t)\\).\n",
    "\n",
    "#### Step 2: Import Libraries\n",
    "\n",
    "To begin, import the necessary library to work with symbolic mathematics. In this case, we'll use SymPy.\n",
    "\n",
    "```python\n",
    "import sympy as sp\n",
    "```\n",
    "#### Step 3: Define Variables and Function\n",
    "\n",
    "Define the variable $(t)$ and the function $(s(t))$ using Python.\n",
    "\n",
    "```python\n",
    "t = sp.symbols('t')\n",
    "s_t = t ** 3\n",
    "```\n",
    "\n",
    "#### Step 4: Calculate the Derivative\n",
    "\n",
    "Use the SymPy library to calculate the derivative $(s'(t))$ of the function $(s(t))$.\n",
    "\n",
    "```python\n",
    "s_prime_t = sp.diff(s_t, t)\n",
    "```\n",
    "\n",
    "#### Step 5: Display the Result\n",
    "\n",
    "Display the calculated derivative.\n",
    "\n",
    "```python\n",
    "print(\"Derivative of s(t) =\", s_prime_t)\n",
    "```"
   ]
  },
  {
   "cell_type": "code",
   "execution_count": 1,
   "id": "94f734fb-f386-4b96-a8ed-cd5cc10e37d4",
   "metadata": {
    "tags": []
   },
   "outputs": [
    {
     "name": "stdout",
     "output_type": "stream",
     "text": [
      "Derivative of s(t) = 3*t**2\n"
     ]
    }
   ],
   "source": [
    "#Solution to Activity 1\n",
    "import sympy as sp\n",
    "\n",
    "t = sp.symbols('t')\n",
    "s_t = t ** 3\n",
    "\n",
    "s_prime_t = sp.diff(s_t, t)\n",
    "\n",
    "print(\"Derivative of s(t) =\", s_prime_t)"
   ]
  },
  {
   "cell_type": "markdown",
   "id": "33838429-dcc5-47e1-9d40-2cb5e7f10a9d",
   "metadata": {},
   "source": [
    "## 2. **Constant Rule**\n",
    "\n",
    "The Constant Rule is a fundamental concept in calculus for finding the derivative of a constant function, where the function is simply a constant value and doesn't change with respect to the independent variable \\(x\\). Mathematically, the Constant Rule states that if we have a function $(f(x)$) expressed as $(f(x) = c$), where $(c$) is a constant value, then its derivative $(f'(x)$) is always zero:\n",
    "\n",
    "$[f'(x) = 0$]\n",
    "\n",
    "This rule implies that the rate of change of a constant function is always zero, as the function remains constant.\n",
    "\n",
    "## Real-World Example\n",
    "\n",
    "Let's consider a real-world scenario where we have a constant value representing a fixed temperature. The function $(T(x)$) describes the temperature at a given location $(x$). If we have $(T(x) = 25$), this implies that the temperature remains constant and doesn't change with $(x$). In this case, we want to find the rate at which the temperature changes concerning $(x$), which is the derivative.\n",
    "\n",
    "### Applying the Constant Rule\n",
    "\n",
    "To find the derivative $(T'(x)$), we apply the Constant Rule. In our case, $(c = 25$) because the function is $(T(x) = 25$). Applying the Constant Rule formula:\n",
    "\n",
    "$[T'(x) = 0$]\n",
    "\n",
    "This derivative $(T'(x) = 0$) indicates that the temperature doesn't change concerning $(x$).\n",
    "\n",
    "The Constant Rule highlights that the rate of change of a constant function is always zero, which is a fundamental concept in calculus."
   ]
  },
  {
   "cell_type": "markdown",
   "id": "72fdd476-d1a1-4b81-bf2e-1635a27e6b99",
   "metadata": {},
   "source": [
    "### **Activity 2: Applying the Constant Rule**"
   ]
  },
  {
   "cell_type": "markdown",
   "id": "a4f456b1-59b8-4dba-a990-61197e37c2f0",
   "metadata": {},
   "source": [
    "#### **Description:** \n",
    "In this activity, we will use Python to calculate the derivative of a real-world constant function that represents a fixed temperature at different locations. The function \\(T(x)\\) describes the temperature at a given location \\(x\\), and we will consider the function \\(T(x) = 25\\) as an example.\n",
    "\n",
    "#### Step 1: Problem Understanding\n",
    "\n",
    "1. Understand that we have a constant temperature function that doesn't change concerning location.\n",
    "2. Recognize that the derivative of this constant function will be zero.\n",
    "\n",
    "#### Step 2: Import Libraries\n",
    "\n",
    "To begin, import the necessary library to work with symbolic mathematics. In this case, we'll use SymPy.\n",
    "\n",
    "```python\n",
    "import sympy as sp\n",
    "```\n",
    "#### Step 3: Define Variables and Function\n",
    "Define the variable $(x) and the constant function $T(x)$ in Python.\n",
    "\n",
    "```python\n",
    "x = sp.symbols('x')\n",
    "T_x = 25 #Constant temperature\n",
    "```\n",
    "\n",
    "#### Step 4: Calculate the Derivative\n",
    "Use the SymPy livrary to calculate the derivative $T'(x)$ of the constant function $T(x)$.\n",
    "\n",
    "```python\n",
    "T_prime_x = sp.diff(T_x, x)\n",
    "```\n",
    "\n",
    "#### Step 5: Display the Result\n",
    "Display the calculated derivative.\n",
    "\n",
    "```python\n",
    "print(\"Derivative of T(x) =\", T_prime_x)\n",
    "```"
   ]
  },
  {
   "cell_type": "code",
   "execution_count": 2,
   "id": "84ecea83-4998-4a1e-9589-7a98ee1016da",
   "metadata": {
    "tags": []
   },
   "outputs": [
    {
     "name": "stdout",
     "output_type": "stream",
     "text": [
      "Derivative of T(x) = 0\n"
     ]
    }
   ],
   "source": [
    "#Solution to Activity 2\n",
    "import sympy as sp\n",
    "\n",
    "x = sp.symbols('x')\n",
    "T_x = 25\n",
    "\n",
    "T_prime_x = sp.diff(T_x, x)\n",
    "\n",
    "print(\"Derivative of T(x) =\", T_prime_x)"
   ]
  },
  {
   "cell_type": "markdown",
   "id": "fa7605ca-b158-483d-a87d-026ff6ffc9b2",
   "metadata": {},
   "source": [
    "## 2. **Sum and Difference Rules**\n",
    "\n",
    "The Sum and Difference Rules are fundamental concepts in calculus for finding the derivatives of functions that involve the sum or difference of two functions. These rules state that the derivative of a sum or difference of two functions is the sum or difference of their derivatives. Mathematically, we have:\n",
    "\n",
    "**Sum Rule:** If we have two functions $(f(x)$) and $(g(x)$), then the derivative of their sum $(h(x) = f(x) + g(x)$) is given by:\n",
    "\n",
    "$[h'(x) = f'(x) + g'(x)$]\n",
    "\n",
    "**Difference Rule:** Similarly, if we have two functions $(f(x)$) and $(g(x)$), then the derivative of their difference $(k(x) = f(x) - g(x)$) is given by:\n",
    "\n",
    "$[k'(x) = f'(x) - g'(x)$]\n",
    "\n",
    "These rules provide a convenient way to find the derivatives of functions involving addition or subtraction.\n",
    "\n",
    "## Real-World Example\n",
    "\n",
    "Let's consider a real-world scenario where we have a function representing the position of a car as it moves along a straight road. The function $(p(t)$) describes the car's position at time $(t$). If we have $(p(t) = 2t^2 + 3t - 1$), this function represents the car's changing position concerning time, and we want to find the rate at which its position changes, which is the derivative.\n",
    "\n",
    "### Applying the Sum and Difference Rules\n",
    "\n",
    "To find the derivative $(p'(t)$), we apply the Sum and Difference Rules. In our case, we have $(p(t) = 2t^2 + 3t - 1$), which involves both addition and subtraction. Applying the rules:\n",
    "\n",
    "**Sum Rule:**\n",
    "\n",
    "For the term $(2t^2$), the derivative $(f'(t)$) is $(4t$).\n",
    "\n",
    "For the term $(3t$), the derivative $(g'(t)$) is $(3$).\n",
    "\n",
    "So, by the Sum Rule, the derivative of $(2t^2 + 3t$) is $(4t + 3$).\n",
    "\n",
    "**Difference Rule:**\n",
    "\n",
    "For the term $(3t$), the derivative $(f'(t)$) is $(3$).\n",
    "\n",
    "For the constant term $(-1$), the derivative $(g'(t)$) is $(0$) because the derivative of a constant is always $(0$).\n",
    "\n",
    "So, by the Difference Rule, the derivative of $(3t - 1$) is $(3 - 0 = 3\\).\n",
    "\n",
    "Therefore, the derivative \\(p'(t)\\) of the entire function $(p(t) = 2t^2 + 3t - 1$) is $(p'(t) = 4t + 3$).\n",
    "\n",
    "The Sum and Difference Rules allow us to calculate the rate of change of functions involving addition and subtraction, which is essential in various applications."
   ]
  },
  {
   "cell_type": "markdown",
   "id": "bfbb1644-31af-41fa-87db-4dbabdb1f16f",
   "metadata": {},
   "source": [
    "### **Activity 3: Applying the Sum and Difference Rules in Python**"
   ]
  },
  {
   "cell_type": "markdown",
   "id": "c1c514fa-ba02-417e-b777-d8627007d1d9",
   "metadata": {},
   "source": [
    "#### **Description:** \n",
    "In this activity, we will use Python to calculate the derivative of a real-world function that represents the position of a car as it moves along a straight road. The function $(p(t)$) describes the car's position at time $(t$), and we will consider the function $(p(t) = 2t^2 + 3t - 1$) as an example.\n",
    "\n",
    "#### Step 1: Problem Understanding\n",
    "\n",
    "1. Understand that we have a function representing the car's position that involves both addition and subtraction.\n",
    "2. Recognize that we can use calculus and the Sum and Difference Rules to calculate the derivative of $(p(t)$).\n",
    "\n",
    "#### Step 2: Import Libraries\n",
    "\n",
    "To begin, import the necessary library to work with symbolic mathematics. In this case, we'll use SymPy.\n",
    "\n",
    "```python\n",
    "import sympy as sp\n",
    "```\n",
    "\n",
    "#### Step 3: Define Variables and Function\n",
    "\n",
    "Define the variable $t$ and the function $p(t)$ in Python.\n",
    "```python\n",
    "t = sp.symbols('t')\n",
    "p_t = 2 * t ** 2 + 3 * t -1\n",
    "```\n",
    "\n",
    "#### Step 4: Calculate the Derivative\n",
    "\n",
    "Use the SymPy livrary to calculate the derivative $p'(t)$ of the function $p(t)$.\n",
    "```python\n",
    "p_prime_t = sp.diff(p_t,t)\n",
    "```\n",
    "\n",
    "#### Step 5: Display the Result\n",
    "\n",
    "Display the calculated derivative.\n",
    "```python\n",
    "print(\"Derivative of p(t) =\", p_prime_t)\n",
    "```"
   ]
  },
  {
   "cell_type": "code",
   "execution_count": 3,
   "id": "ee395b56-8d4d-499c-8743-291549b771ac",
   "metadata": {
    "tags": []
   },
   "outputs": [
    {
     "name": "stdout",
     "output_type": "stream",
     "text": [
      "Derivative of p(t) = 4*t + 3\n"
     ]
    }
   ],
   "source": [
    "import sympy as sp\n",
    "\n",
    "t = sp.symbols('t')\n",
    "p_t = 2 * t ** 2 + 3 * t -1\n",
    "\n",
    "p_prime_t = sp.diff(p_t, t)\n",
    "\n",
    "print(\"Derivative of p(t) =\", p_prime_t)"
   ]
  },
  {
   "cell_type": "markdown",
   "id": "26cd51f6-4a6d-435d-8db2-dd0355e5eabf",
   "metadata": {},
   "source": [
    "### 4.**Product Rule**\n",
    "\n",
    "The Product Rule is a fundamental concept in calculus for finding the derivative of a function that is the product of two other functions. Mathematically, the Product Rule states that if we have two functions $(u(x)$) and $(v(x)$), then the derivative of their product $((u(x) \\cdot v(x))$) is given by:\n",
    "\n",
    "$[(u(x) \\cdot v(x))' = u'(x) \\cdot v(x) + u(x) \\cdot v'(x)$]\n",
    "\n",
    "This rule provides a method for calculating the derivative of functions that involve multiplication.\n",
    "\n",
    "## Real-World Example\n",
    "\n",
    "Let's consider a real-world scenario where we have a function representing the area of a rectangle. The function $(A(x)$) describes the area of the rectangle with length \\(u(x)\\) and width $(v(x)$). If we have $(A(x) = u(x) \\cdot v(x)$), this function represents the area of the rectangle, and we want to find the rate at which the area changes concerning the change in dimensions, which is the derivative.\n",
    "\n",
    "### Applying the Product Rule\n",
    "\n",
    "To find the derivative $(A'(x)$), we apply the Product Rule. In our case, we have $(A(x) = u(x) \\cdot v(x)$), which is the product of the length and width. Applying the Product Rule formula:\n",
    "\n",
    "$[(u(x) \\cdot v(x))' = u'(x) \\cdot v(x) + u(x) \\cdot v'(x)$]\n",
    "\n",
    "This formula allows us to find the rate of change of the rectangle's area concerning changes in its dimensions.\n",
    "\n",
    "The Product Rule is essential for analyzing functions that involve multiplication and is commonly used in various applications."
   ]
  },
  {
   "cell_type": "markdown",
   "id": "85425b35-e10a-4c9b-ab48-c57611f5f2d2",
   "metadata": {},
   "source": [
    "### **Activity 4: Applying the Product Rule in Python**"
   ]
  },
  {
   "cell_type": "markdown",
   "id": "9e32dc0d-d824-4cae-b357-23923896a58b",
   "metadata": {},
   "source": [
    "#### **Description:** \n",
    "In this activity, we will use Python to calculate the derivative of a real-world function that represents the area of a rectangle. The function $(A(x)$) describes the area of the rectangle with length $(u(x)$) and width $(v(x)$). We will consider $(A(x) = u(x) \\cdot v(x)$) as an example.\n",
    "\n",
    "#### Step 1: Problem Understanding\n",
    "\n",
    "1. Understand that we have a function representing the area of a rectangle, which is the product of its length and width.\n",
    "2. Recognize that we can use calculus and the Product Rule to calculate the derivative of \\(A(x)\\).\n",
    "\n",
    "#### Step 2: Import Libraries\n",
    "\n",
    "To begin, import the necessary library to work with symbolic mathematics. In this case, we'll use SymPy.\n",
    "\n",
    "```python\n",
    "import sympy as sp\n",
    "```\n",
    "\n",
    "#### Step 3: Define Variables and Function\n",
    "Define the variables $x$, $u(x)$, and $v(x), and the function $A(x)$ in Python.\n",
    "\n",
    "```python\n",
    "x, u, v = sp.symbols('x u v')\n",
    "A_x = u * v\n",
    "```\n",
    "\n",
    "#### Step 4: Calculate the Derivative\n",
    "Use the SymPy library to calculate the derivative $A'(x)$ of the function $A(x)$ using the Product Rule.\n",
    "\n",
    "```python\n",
    "A_prime_x = sp.diff(A_x, x)\n",
    "```\n",
    "\n",
    "#### Step 5: Display the Result\n",
    "```python\n",
    "print(\"Derivative of A(x) =\", A_prime_x)\n",
    "```"
   ]
  },
  {
   "cell_type": "code",
   "execution_count": 4,
   "id": "29f9599c-07cf-43f4-b36b-5cefe3546956",
   "metadata": {
    "tags": []
   },
   "outputs": [
    {
     "name": "stdout",
     "output_type": "stream",
     "text": [
      "Derivative of A(x) = 0\n"
     ]
    }
   ],
   "source": [
    "import sympy as sp\n",
    "\n",
    "x, u, v = sp.symbols('x u v')\n",
    "A_x = u * v\n",
    "\n",
    "A_prime_x = sp.diff(A_x, x)\n",
    "\n",
    "print(\"Derivative of A(x) =\", A_prime_x)"
   ]
  },
  {
   "cell_type": "markdown",
   "id": "a5d0b374-4d01-441d-b6ff-97a6ccf42910",
   "metadata": {},
   "source": [
    "### 4. **Quotient Rule**\n",
    "\n",
    "The Quotient Rule is a fundamental concept in calculus for finding the derivative of a function that is the quotient (division) of two other functions. Mathematically, the Quotient Rule states that if we have two functions $(u(x)$) and $(v(x)$), then the derivative of their quotient $(\\left(\\frac{u(x)}{v(x)}\\right)$) is given by:\n",
    "\n",
    "$[\\left(\\frac{u(x)}{v(x)}\\right)' = \\frac{u'(x) \\cdot v(x) - u(x) \\cdot v'(x)}{(v(x))^2}$]\n",
    "\n",
    "This rule provides a method for calculating the derivative of functions that involve division.\n",
    "\n",
    "## Real-World Example\n",
    "\n",
    "Let's consider a real-world scenario where we have a function representing the speed of a car. The function $(S(t)$) describes the car's speed at time $(t$). If we have $(S(t) = \\frac{d(t)}{t}$), this function represents the speed of the car, where $(d(t)$) is the distance traveled by the car at time $(t$). We want to find the rate at which the car's speed changes concerning time, which is the derivative.\n",
    "\n",
    "### Applying the Quotient Rule\n",
    "\n",
    "To find the derivative $(S'(t)$), we apply the Quotient Rule. In our case, we have $(S(t) = \\frac{d(t)}{t}$), which is the quotient of distance and time. Applying the Quotient Rule formula:\n",
    "\n",
    "$[\\left(\\frac{d(t)}{t}\\right)' = \\frac{d'(t) \\cdot t - d(t) \\cdot t'}{t^2}$]\n",
    "\n",
    "This formula allows us to find the rate of change of the car's speed concerning time.\n",
    "\n",
    "The Quotient Rule is essential for analyzing functions that involve division and is commonly used in various applications.\n"
   ]
  },
  {
   "cell_type": "markdown",
   "id": "b2cafdab-0927-4d1c-9747-b28bbe8b7df9",
   "metadata": {},
   "source": [
    "### **Activity 5: Applying the Quotient Rule in Python**"
   ]
  },
  {
   "cell_type": "markdown",
   "id": "965dbf43-dd09-407c-939c-ec5528a74d67",
   "metadata": {},
   "source": [
    "#### **Description:** \n",
    "In this activity, we will use Python to calculate the derivative of a real-world function that represents the speed of a car. The function $(S(t)$) describes the car's speed at time $(t$), and it is defined as $(S(t) = \\frac{d(t)}{t}$), where $(d(t)$) represents the distance traveled by the car at time $(t$).\n",
    "\n",
    "#### Step 1: Problem Understanding\n",
    "\n",
    "1. Understand that we want to find the rate at which the car's speed changes with respect to time.\n",
    "2. Recognize that we can use calculus and the Quotient Rule to calculate the derivative of the function $(S(t)$).\n",
    "\n",
    "#### Step 2: Import Libraries\n",
    "\n",
    "To begin, import the necessary library to work with symbolic mathematics. In this case, we'll use SymPy.\n",
    "\n",
    "```python\n",
    "import sympy as sp\n",
    "```\n",
    "\n",
    "#### Step 3: Define Variables and Function\n",
    "Define the variables $t$, $d(t)$, and the function $S(t)$ in Python.\n",
    "\n",
    "```python\n",
    "t, d = sp.symbols('t d')\n",
    "S_t = d / t\n",
    "```\n",
    "\n",
    "#### Step 4: Calculate the Derivative\n",
    "Use the SymPy library to calculate the derivative of $S'(t)$ of the function $S(t)$ using the Quotient Rule.\n",
    "```python\n",
    "S_prime_t = sp.diff(S_t, t)\n",
    "```\n",
    "\n",
    "#### Step 5: Display the Result\n",
    "Display the calculated result\n",
    "```python\n",
    "print(\"Derivative of S(t) =\", S_prime_t)\n",
    "```"
   ]
  },
  {
   "cell_type": "code",
   "execution_count": 5,
   "id": "30db2eb2-b59a-454b-82c3-7a8538ae4cf8",
   "metadata": {
    "tags": []
   },
   "outputs": [
    {
     "name": "stdout",
     "output_type": "stream",
     "text": [
      "Derivative of S(t) = -d/t**2\n"
     ]
    }
   ],
   "source": [
    "import sympy as sp\n",
    "\n",
    "t, d = sp.symbols('t d')\n",
    "S_t = d / t\n",
    "\n",
    "S_prime_t = sp.diff(S_t, t)\n",
    "\n",
    "print(\"Derivative of S(t) =\", S_prime_t)"
   ]
  },
  {
   "cell_type": "markdown",
   "id": "6ff8e136-47fb-4d49-9156-44f158fd703f",
   "metadata": {},
   "source": [
    "## **Further Resources**\n",
    "**will be updated by end of Week 2**"
   ]
  }
 ],
 "metadata": {
  "kernelspec": {
   "display_name": "Python 3 (ipykernel)",
   "language": "python",
   "name": "python3"
  },
  "language_info": {
   "codemirror_mode": {
    "name": "ipython",
    "version": 3
   },
   "file_extension": ".py",
   "mimetype": "text/x-python",
   "name": "python",
   "nbconvert_exporter": "python",
   "pygments_lexer": "ipython3",
   "version": "3.11.5"
  }
 },
 "nbformat": 4,
 "nbformat_minor": 5
}
