{
 "cells": [
  {
   "cell_type": "markdown",
   "id": "d042b09f-5dbb-4492-b635-efaf72f2430a",
   "metadata": {},
   "source": [
    "# Day 24:Regression Model Evaluation Metrics in Python - Key metrics for evaluating regression models.\n",
    "Here's my intro for a lesson on Regression Model Evaluation Metrics in Python. This is being written in Jupyter Notebook, please enclose LaTeX in dollar signs ($) to work in a notebook's markdown cells.\n",
    "\n",
    "Math Focus: Mean Squared Error (MSE), Root Mean Squared Error (RMSE), and R-squared.\n",
    "- **Theoretical Concepts:**\n",
    "    - Importance of model evaluation in regression analysis.\n",
    "    - Overview of key metrics: MSE, RMSE, and R-squared.\n",
    "- **Mathematical Foundation:**\n",
    "    - Formulas and interpretation of MSE, RMSE, and R-squared.\n",
    "    - Understanding the significance of these metrics in model performance.\n",
    "- **Python Implementation:**\n",
    "    - Calculating MSE, RMSE, and R-squared using scikit-learn.\n",
    "    - Visualizing residuals to understand model performance.\n",
    "- **Example Dataset:**\n",
    "    - Use datasets from previous lessons for consistency in evaluation.\n",
    " \n",
    "Can you please write an introduction paragraph about metrics, what they tell us, and provide the equations for them? Please explain all terms. What should readers be able to accomplish by the end of the lesson?\n"
   ]
  },
  {
   "cell_type": "markdown",
   "id": "36741fb7-2a00-48dd-8d94-8c4c86e9c137",
   "metadata": {},
   "source": [
    "## Introduction\n",
    "In regression analysis, evaluating the performance of a model is crucial for understanding how well it predicts outcomes and for improving its accuracy over time. Among the most common and informative metrics for this purpose are the Mean Squared Error (MSE), Root Mean Squared Error (RMSE), and R-squared ($R^2$). These metrics give us insight into the accuracy of our regression model, highlighting different aspects of the model's predictions relative to the observed actual values.\n",
    "\n",
    "- **Mean Squared Error (MSE)** is calculated as the average of the squares of the errors between what the model predicts for each data point and what the actual outcome is. The formula for MSE is given by:\n",
    "$$MSE = \\frac{1}{n}\\sum_{i=1}^{n}(Y_i - \\hat{Y_i})^2$$\n",
    "where $n$ is the number of observations, $Y_i$ is the actual value and $\\hat{Y_i}$ is the predicted value from our model.\n",
    "\n",
    "- **Root Mean Squared Error (RMSE)** takes the square root of the MSE, thus bringing the error metric back to the same unit as our target variable. It provides a more intuitive measure of the average error. The formula for RMSE is:\n",
    "$$RMSE = \\sqrt{\\frac{1}{n}\\sum_{i=1}^{n}(Y_i - \\hat{Y_i})^2}$$\n",
    "\n",
    "- **R-squared ($R^2$)**, also known as the coefficient of determination, measures the proportion of the variation in the dependent variable that is predictable from the independent variable(s). It is a value between 0 and 1, where a value closer to 1 indicates a better model fit. The formula for $R^2$ is:\n",
    "$$R^2 = 1 - \\frac{\\sum_{i=1}^{n}(Y_i - \\hat{Y_i})^2}{\\sum_{i=1}^{n}(Y_i - \\bar{Y})^2}$$\n",
    "where $\\bar{Y}$ is the mean of the actual values $Y_i$.\n",
    "\n",
    "By the end of this lesson, readers will understand the significance of these key metrics in evaluating regression models and how they can be used to interpret model performance. You will learn how to calculate MSE, RMSE, and $R^2$ in Python using the scikit-learn library, and how to visualize residuals to gain deeper insights into your model's accuracy and areas for improvement. This comprehensive understanding will empower you to critically assess regression models and make informed decisions on how to refine them for better predictive performance."
   ]
  },
  {
   "cell_type": "code",
   "execution_count": 5,
   "id": "fe6bd8e9-a961-49d1-acf0-8e307c9b5d15",
   "metadata": {},
   "outputs": [],
   "source": [
    "# overview visualization"
   ]
  },
  {
   "cell_type": "markdown",
   "id": "2f3174a6-da36-46f5-91ce-16432fe05b3e",
   "metadata": {},
   "source": [
    "## Mean Squared Error (MSE)\n",
    "The **Mean Squared Error (MSE)** is a widely used metric for evaluating the performance of a regression model. It quantifies the average squared difference between the actual observed values and the values predicted by the model. The principle behind MSE is straightforward: it assesses the quality of a model by averaging the squares of the errors, ensuring that larger errors are given disproportionately more weight than smaller errors, thus emphasizing the importance of closer predictions. The mathematical formula to calculate MSE is given by:\n",
    "\n",
    "$$MSE = \\frac{1}{n}\\sum_{i=1}^{n}(Y_i - \\hat{Y_i})^2$$\n",
    "\n",
    "In this equation, $n$ represents the total number of observations in the dataset, $Y_i$ denotes the actual values of the dependent variable, and $\\hat{Y_i}$ signifies the predicted values generated by the regression model. A lower MSE value indicates a model that accurately predicts the outcome variable, while a higher MSE value suggests a model that poorly predicts the outcome variable. Understanding and minimizing the MSE is essential in improving the accuracy and predictive performance of regression models."
   ]
  },
  {
   "cell_type": "code",
   "execution_count": 6,
   "id": "a4fe436b-4843-4198-aca9-5d37fccd4ac6",
   "metadata": {},
   "outputs": [],
   "source": [
    "# concept 1 code"
   ]
  },
  {
   "cell_type": "markdown",
   "id": "262f87cb-cfe0-4221-a4a6-6d24299dae11",
   "metadata": {},
   "source": [
    "## Root Mean Squared Error (RMSE)\n",
    "- **Root Mean Squared Error (RMSE)** takes the square root of the MSE, thereby converting the units back to the original units of the target variable. This adjustment makes RMSE an easily interpretable metric that represents the average distance between the predicted values and the actual values. The formula for calculating RMSE is:\n",
    "$$RMSE = \\sqrt{\\frac{1}{n}\\sum_{i=1}^{n}(Y_i - \\hat{Y_i})^2}$$\n",
    "In this formula, $n$ represents the total number of observations, $Y_i$ specifies the actual value for the ith observation, and $\\hat{Y_i}$ denotes the predicted value from the model for the ith observation. RMSE provides a straightforward measure of the average magnitude of the model's prediction errors, making it a crucial metric for evaluating the precision of regression models."
   ]
  },
  {
   "cell_type": "code",
   "execution_count": 7,
   "id": "fd9c3921-c24c-4338-845b-aca9915f156c",
   "metadata": {},
   "outputs": [],
   "source": [
    "# concept 2 code"
   ]
  },
  {
   "cell_type": "markdown",
   "id": "e1b7bdf8-8554-450e-b837-a7e79f1c4c2c",
   "metadata": {},
   "source": [
    "## R-Squared ($R^2$)\n",
    "- **R-squared ($R^2$)**, also known as the coefficient of determination, quantifies the fraction of the total variation in the dependent variable that is captured by the independent variable(s) in the regression model. In essence, it provides a measure of how well the observed outcomes are replicated by the model, based on the proportion of total variation of outcomes explained by the model. The $R^2$ value ranges from 0 to 1, where a value of 0 indicates that the model explains none of the variability of the response data around its mean, and a value of 1 indicates that the model explains all the variability of the response data around its mean. Thus, a higher $R^2$ value indicates a better fit of the model to the data. The formula for calculating $R^2$ is given by:\n",
    "$$R^2 = 1 - \\frac{\\sum_{i=1}^{n}(Y_i - \\hat{Y_i})^2}{\\sum_{i=1}^{n}(Y_i - \\bar{Y})^2}$$\n",
    "where $\\sum_{i=1}^{n}(Y_i - \\hat{Y_i})^2$ is the sum of squares of the residuals, $\\sum_{i=1}^{n}(Y_i - \\bar{Y})^2$ is the total sum of squares, $Y_i$ are the actual observed values, $\\hat{Y_i}$ are the predicted values by the model, and $\\bar{Y}$ is the mean of the observed values. This metric is crucial for assessing the predictive accuracy of a regression model, as it provides a scaled measure of the proportion of the data's variance that is accounted for by the model."
   ]
  },
  {
   "cell_type": "code",
   "execution_count": 8,
   "id": "c2233864-f9f5-4328-807f-e551dd6d8e55",
   "metadata": {},
   "outputs": [],
   "source": [
    "# concept 3 code"
   ]
  },
  {
   "cell_type": "markdown",
   "id": "3840e315-8c8a-4911-9246-4a3fafbdd2d7",
   "metadata": {},
   "source": [
    "## Exercise For The Reader\n",
    "asdf"
   ]
  },
  {
   "cell_type": "code",
   "execution_count": 9,
   "id": "1d6c6bac-1cd4-4443-8881-67abb9fbea3a",
   "metadata": {},
   "outputs": [],
   "source": [
    "# starter code"
   ]
  },
  {
   "cell_type": "markdown",
   "id": "5773d463-6a28-48e0-a046-afa88271473f",
   "metadata": {},
   "source": [
    "Have fun!"
   ]
  },
  {
   "cell_type": "markdown",
   "id": "048bb7f7-880a-41a9-b517-b223b68e403a",
   "metadata": {},
   "source": [
    "## Additional Resources\n",
    "-   **Resource 1:** [Regression Model Accuracy – R-squared and More](https://www.nickmccullum.com/regression-model-accuracy-r-squared-python/) (Guide on evaluating regression models using R-squared and other metrics)\n",
    "-   **Resource 2:** [Model Evaluation Metrics in Python](https://realpython.com/linear-regression-in-python/#underfitting-and-overfitting) (Detailed explanation of various regression model evaluation metrics)"
   ]
  },
  {
   "cell_type": "code",
   "execution_count": null,
   "id": "ccd779d2-a6ed-4f66-94b1-0e88b6b27748",
   "metadata": {},
   "outputs": [],
   "source": []
  }
 ],
 "metadata": {
  "kernelspec": {
   "display_name": "Python 3 (ipykernel)",
   "language": "python",
   "name": "python3"
  },
  "language_info": {
   "codemirror_mode": {
    "name": "ipython",
    "version": 3
   },
   "file_extension": ".py",
   "mimetype": "text/x-python",
   "name": "python",
   "nbconvert_exporter": "python",
   "pygments_lexer": "ipython3",
   "version": "3.11.6"
  }
 },
 "nbformat": 4,
 "nbformat_minor": 5
}
