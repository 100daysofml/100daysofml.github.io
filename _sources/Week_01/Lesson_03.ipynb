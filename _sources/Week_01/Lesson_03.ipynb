{
  "nbformat": 4,
  "nbformat_minor": 0,
  "metadata": {
    "colab": {
      "provenance": []
    },
    "kernelspec": {
      "name": "python3",
      "display_name": "Python 3"
    },
    "language_info": {
      "name": "python"
    }
  },
  "cells": [
    {
      "cell_type": "markdown",
      "source": [
        "# Day 3: Control Structures - Loops\n",
        "\n",
        "Loops are fundamental structures in programming that allow us to execute a block of code repeatedly, under certain conditions. They are essential for automating repetitive tasks, processing collections of data, and building the backbone of algorithms. Understanding loops and how to control them is crucial for writing efficient and effective code.\n",
        "\n",
        "## Why Loop?\n",
        "\n",
        "Loops are necessary for efficient programming as they enable us to avoid repetitive code, making our scripts shorter and more readable. They are particularly valuable when dealing with large datasets or when a task needs to be repeated multiple times under certain conditions. Effective use of loops leads to cleaner, more organized, and more maintainable code.\n",
        "\n",
        "## Collection Data Types\n",
        "\n",
        "- **List Type**: In Python, a list is an ordered collection of items which can be of varied types. Lists are mutable, meaning their elements can be changed after they are created.\n",
        "\n",
        "  ```python\n",
        "  my_list = [1, 2, 3, \"Python\", True]\n",
        "  ```\n",
        "\n",
        "- **Dictionary Type**: A dictionary in Python is an unordered collection of data in a key:value pair form. It's an efficient way to store and retrieve data based on a key.\n",
        "\n",
        "  ```python\n",
        "  my_dict = {\"name\": \"Alice\", \"age\": 25, \"language\": \"Python\"}\n",
        "  ```"
      ],
      "metadata": {
        "id": "sG_rSQf3ZDII"
      }
    },
    {
      "cell_type": "code",
      "source": [
        "my_list = [1, 2, 3, \"Python\", True]"
      ],
      "metadata": {
        "id": "zilhPI-8ZZB7"
      },
      "execution_count": null,
      "outputs": []
    },
    {
      "cell_type": "code",
      "source": [
        "len(my_list)"
      ],
      "metadata": {
        "colab": {
          "base_uri": "https://localhost:8080/"
        },
        "id": "s4r-7YYOZydt",
        "outputId": "4b37d49e-25ed-438e-c640-e25d4ad9f3a7"
      },
      "execution_count": null,
      "outputs": [
        {
          "output_type": "execute_result",
          "data": {
            "text/plain": [
              "5"
            ]
          },
          "metadata": {},
          "execution_count": 2
        }
      ]
    },
    {
      "cell_type": "code",
      "source": [
        "my_list[2]"
      ],
      "metadata": {
        "colab": {
          "base_uri": "https://localhost:8080/"
        },
        "id": "LDM0qCbuZygT",
        "outputId": "1f7bd615-df84-4fbe-ed21-8ec15f3c886d"
      },
      "execution_count": null,
      "outputs": [
        {
          "output_type": "execute_result",
          "data": {
            "text/plain": [
              "3"
            ]
          },
          "metadata": {},
          "execution_count": 3
        }
      ]
    },
    {
      "cell_type": "code",
      "source": [
        "my_dict = {\"name\": \"Alice\", \"age\": 25, \"language\": \"Python\"}"
      ],
      "metadata": {
        "id": "dA2AW2mLZyiH"
      },
      "execution_count": null,
      "outputs": []
    },
    {
      "cell_type": "code",
      "source": [
        "len(my_dict)"
      ],
      "metadata": {
        "colab": {
          "base_uri": "https://localhost:8080/"
        },
        "id": "Gos2B8hcZykm",
        "outputId": "c3c8c4e2-4955-4af3-dc3f-015897b73477"
      },
      "execution_count": null,
      "outputs": [
        {
          "output_type": "execute_result",
          "data": {
            "text/plain": [
              "3"
            ]
          },
          "metadata": {},
          "execution_count": 5
        }
      ]
    },
    {
      "cell_type": "code",
      "source": [
        "my_dict['name']"
      ],
      "metadata": {
        "colab": {
          "base_uri": "https://localhost:8080/",
          "height": 35
        },
        "id": "WeHN96PRZZEj",
        "outputId": "59784655-21f5-4be2-8a31-c0bd7e9133c7"
      },
      "execution_count": null,
      "outputs": [
        {
          "output_type": "execute_result",
          "data": {
            "text/plain": [
              "'Alice'"
            ],
            "application/vnd.google.colaboratory.intrinsic+json": {
              "type": "string"
            }
          },
          "metadata": {},
          "execution_count": 6
        }
      ]
    },
    {
      "cell_type": "markdown",
      "source": [
        "## The `while` Loop\n",
        "\n",
        "- The `while` loop in Python executes a block of code as long as a specified condition is true. It's useful when the number of iterations is not known beforehand.\n",
        "\n",
        "  ```python\n",
        "  count = 0\n",
        "  while count < 5:\n",
        "      print(count)\n",
        "      count += 1\n",
        "  ```\n",
        "\n",
        "- **Warning About Infinite Loops**: Be cautious with `while` loops, as they can lead to infinite loops if the condition never becomes false. Always ensure the loop has a clear end point.\n",
        "\n",
        "  ```python\n",
        "  # Warning: This is an example of an infinite loop\n",
        "  # while True:\n",
        "  #    print(\"Infinite loop\")\n",
        "  ```\n",
        "\n",
        "- **Difficulty with Dictionaries**: Iterating over dictionaries with `while` loops is less straightforward because dictionaries are not inherently ordered, and the loop requires external manipulation of the keys or values.\n",
        "\n",
        "\n"
      ],
      "metadata": {
        "id": "HBS3bj-8ZDOc"
      }
    },
    {
      "cell_type": "code",
      "source": [
        "count = 0\n",
        "while count < 5:\n",
        "    print(count)\n",
        "    count += 1\n",
        "\n",
        "print(count)"
      ],
      "metadata": {
        "colab": {
          "base_uri": "https://localhost:8080/"
        },
        "id": "cLqInPDFZeV4",
        "outputId": "b61daa74-5943-4839-cd6e-714c9c4c485c"
      },
      "execution_count": null,
      "outputs": [
        {
          "output_type": "stream",
          "name": "stdout",
          "text": [
            "0\n",
            "1\n",
            "2\n",
            "3\n",
            "4\n",
            "5\n"
          ]
        }
      ]
    },
    {
      "cell_type": "code",
      "source": [
        "# Loops can count backwards by subtracting.\n",
        "# Loops can depend on variables from other parts of your program.\n",
        "# what is the impact of printing after subtracting?\n",
        "while count > 0:\n",
        "  count -= 1\n",
        "  print(count)"
      ],
      "metadata": {
        "colab": {
          "base_uri": "https://localhost:8080/"
        },
        "id": "HZhAVcCKZeYS",
        "outputId": "a7f8cad6-3f1b-47c8-99cb-692499d36204"
      },
      "execution_count": null,
      "outputs": [
        {
          "output_type": "stream",
          "name": "stdout",
          "text": [
            "4\n",
            "3\n",
            "2\n",
            "1\n",
            "0\n"
          ]
        }
      ]
    },
    {
      "cell_type": "markdown",
      "source": [
        "## The `for` Loop\n",
        "\n",
        "- The `for` loop is used for iterating over a sequence, such as a list, tuple, dictionary, or string. It's more concise and preferable when the number of iterations is known or defined by the collection.\n",
        "\n",
        "  ```python\n",
        "  for item in my_list:\n",
        "      print(item)\n",
        "  ```\n",
        "\n",
        "- **Iterating Through a List**: Looping through a list is straightforward as it maintains order.\n",
        "\n",
        "  ```python\n",
        "  for element in my_list:\n",
        "      print(element)\n",
        "  ```\n",
        "\n",
        "- **Iterating Through a Dictionary**: Iterating through a dictionary can be done over keys, values, or key-value pairs.\n",
        "\n",
        "  ```python\n",
        "  for key, value in my_dict.items():\n",
        "      print(f\"{key}: {value}\")\n",
        "  ```\n",
        "\n",
        "- **Preferred Method**: `for` loops are often preferred over `while` loops because they are less prone to errors like infinite loops and are generally more readable, especially when iterating over objects.\n",
        "\n",
        "### Range Objects\n",
        "\n",
        "- The Python `range` object generates a sequence of numbers. It is often used in `for` loops to specify the number of iterations. The `range` function can take one, two, or three arguments: start, stop, and step.\n",
        "\n",
        "  ```python\n",
        "  for i in range(5):\n",
        "      print(i)\n",
        "  ```\n",
        "\n",
        "\n"
      ],
      "metadata": {
        "id": "8bVWz5zMZDQq"
      }
    },
    {
      "cell_type": "code",
      "source": [
        "for i in range(5):\n",
        "  print(i)"
      ],
      "metadata": {
        "colab": {
          "base_uri": "https://localhost:8080/"
        },
        "id": "QExioXxTZjrr",
        "outputId": "61a6e917-acef-4538-e876-c3d89b63ff8f"
      },
      "execution_count": null,
      "outputs": [
        {
          "output_type": "stream",
          "name": "stdout",
          "text": [
            "0\n",
            "1\n",
            "2\n",
            "3\n",
            "4\n"
          ]
        }
      ]
    },
    {
      "cell_type": "code",
      "source": [
        "for thing in my_list:\n",
        "  print(type(thing), thing)"
      ],
      "metadata": {
        "colab": {
          "base_uri": "https://localhost:8080/"
        },
        "id": "kkBh26M8ZjuN",
        "outputId": "9713dcf0-3ca4-4672-adc8-4c93f9cbbad0"
      },
      "execution_count": null,
      "outputs": [
        {
          "output_type": "stream",
          "name": "stdout",
          "text": [
            "<class 'int'> 1\n",
            "<class 'int'> 2\n",
            "<class 'int'> 3\n",
            "<class 'str'> Python\n",
            "<class 'bool'> True\n"
          ]
        }
      ]
    },
    {
      "cell_type": "markdown",
      "source": [
        "## Understanding \"break\", \"continue\", and the \"else\" Clause in Loops\n",
        "\n",
        "Loops in Python become even more powerful and flexible when combined with `break`, `continue`, and the `else` clause. These control statements allow for more nuanced and controlled execution of loops.\n",
        "\n",
        "### The `break` Statement\n",
        "- **Purpose**: The `break` statement is used to exit a loop prematurely, regardless of the iteration condition.\n",
        "- **Usage in `for` and `while` Loops**:\n",
        "  - In a `for` loop, `break` can be used to exit the loop if a certain condition is met.\n",
        "  - In a `while` loop, it can serve as an exit point that’s more complex than the loop’s condition itself.\n",
        "- **Example**:\n",
        "  ```python\n",
        "  for number in range(1, 10):\n",
        "      if number == 5:\n",
        "          break\n",
        "      print(number)\n",
        "  # This will print numbers 1 through 4 and then exit the loop.\n",
        "  ```\n",
        "\n",
        "### The `continue` Statement\n",
        "- **Purpose**: The `continue` statement skips the current iteration and moves onto the next iteration of the loop.\n",
        "- **Usage in `for` and `while` Loops**:\n",
        "  - In both types of loops, `continue` can be used to bypass parts of the loop body for certain iterations.\n",
        "- **Example**:\n",
        "  ```python\n",
        "  for number in range(1, 10):\n",
        "      if number % 2 == 0:\n",
        "          continue\n",
        "      print(number)\n",
        "  # This will print only odd numbers between 1 and 9.\n",
        "  ```\n",
        "\n",
        "### The `else` Clause of a `for` Loop\n",
        "- **Purpose**: The `else` clause in a `for` loop executes after the loop finishes its iterations, but only if the loop was not terminated by a `break`.\n",
        "- **Usage**:\n",
        "  - This is particularly useful when you are searching for an item in a collection and want to execute some code if the item was not found.\n",
        "- **Example**:\n",
        "  ```python\n",
        "  for number in range(1, 5):\n",
        "      if number == 6:\n",
        "          break\n",
        "  else:\n",
        "      print(\"Number 6 not found in range.\")\n",
        "  # The else clause will execute here, as the break was not triggered.\n",
        "  ```\n",
        "\n"
      ],
      "metadata": {
        "id": "-DFaRIXAZDS3"
      }
    },
    {
      "cell_type": "code",
      "source": [
        "# even numbers only\n",
        "for number in range(1, 10):\n",
        "    if number % 2:\n",
        "        continue\n",
        "    print(number)"
      ],
      "metadata": {
        "colab": {
          "base_uri": "https://localhost:8080/"
        },
        "id": "5tdBgpqbZnGp",
        "outputId": "d00d3bcb-b76c-48b5-b088-7239a187c0e5"
      },
      "execution_count": null,
      "outputs": [
        {
          "output_type": "stream",
          "name": "stdout",
          "text": [
            "2\n",
            "4\n",
            "6\n",
            "8\n"
          ]
        }
      ]
    },
    {
      "cell_type": "code",
      "source": [
        "print(my_list) # reminder of list contents"
      ],
      "metadata": {
        "colab": {
          "base_uri": "https://localhost:8080/"
        },
        "id": "8bYYuqRvbVzy",
        "outputId": "7b411528-c76c-43b0-84ab-f4562270807c"
      },
      "execution_count": null,
      "outputs": [
        {
          "output_type": "stream",
          "name": "stdout",
          "text": [
            "[1, 2, 3, 'Python', True]\n"
          ]
        }
      ]
    },
    {
      "cell_type": "code",
      "source": [
        "search_for = \"Python\"\n",
        "for i, thing in enumerate(my_list):\n",
        "  if thing == search_for:\n",
        "    print(\"Found target @ index \", i)\n",
        "    break\n",
        "else:\n",
        "  print(\"Entire list searched; contents not found.\")"
      ],
      "metadata": {
        "colab": {
          "base_uri": "https://localhost:8080/"
        },
        "id": "3shKcRaMZnJ5",
        "outputId": "351cb28e-2b6c-43b6-baf4-99ea1cdb3e05"
      },
      "execution_count": null,
      "outputs": [
        {
          "output_type": "stream",
          "name": "stdout",
          "text": [
            "Found target @ index  3\n"
          ]
        }
      ]
    },
    {
      "cell_type": "code",
      "source": [
        "search_for = \"Java\"\n",
        "for i, thing in enumerate(my_list):\n",
        "  if thing == search_for:\n",
        "    print(\"Found target @ index \", i)\n",
        "    break\n",
        "else:\n",
        "  print(\"Entire list searched; contents not found.\")"
      ],
      "metadata": {
        "colab": {
          "base_uri": "https://localhost:8080/"
        },
        "id": "B-YyT7D0bK5l",
        "outputId": "21e3375c-f6d6-46fd-c911-a33706163552"
      },
      "execution_count": null,
      "outputs": [
        {
          "output_type": "stream",
          "name": "stdout",
          "text": [
            "Entire list searched; contents not found.\n"
          ]
        }
      ]
    },
    {
      "cell_type": "markdown",
      "source": [
        "## Project: Combining Arithmetic, Boolean Logic, and Loops\n",
        "\n",
        "Work through these programs. Convince yourself you understand them and how they work. Think about the role that the loops play and how you might employ a different type of loop to accomplish the same task.\n",
        "\n",
        "### Example Program 1: Prime Number Checker\n",
        "\n",
        "**Problem Statement**:\n",
        "Create a program that checks whether a number is a prime number. A prime number is a natural number greater than 1 that has no positive divisors other than 1 and itself.\n",
        "\n",
        "**Solution**:\n",
        "```python\n",
        "def is_prime(number):\n",
        "    if number <= 1:\n",
        "        return False\n",
        "    for i in range(2, number):\n",
        "        if number % i == 0:\n",
        "            return False\n",
        "    return True\n",
        "\n",
        "# Test the function\n",
        "num = 29\n",
        "if is_prime(num):\n",
        "    print(f\"{num} is a prime number.\")\n",
        "else:\n",
        "    print(f\"{num} is not a prime number.\")\n",
        "```\n",
        "\n",
        "### Example Program 2: Basic Arithmetic Quiz\n",
        "\n",
        "**Problem Statement**:\n",
        "Create a simple arithmetic quiz program that asks the user to solve a series of basic math problems (addition, subtraction, multiplication). The program should:\n",
        "- Present a new problem in each iteration of the loop.\n",
        "- Ask the user for their answer.\n",
        "- Use boolean logic to check if the answer is correct.\n",
        "- Give immediate feedback (correct/incorrect) and provide the correct answer if incorrect.\n",
        "- End the quiz after a certain number of questions.\n",
        "\n",
        "#### Solution:\n",
        "\n",
        "```python\n",
        "import random\n",
        "\n",
        "# Set the number of questions\n",
        "num_questions = 5\n",
        "\n",
        "for i in range(num_questions):\n",
        "    # Generate two random numbers and a random operation\n",
        "    num1 = random.randint(1, 10)\n",
        "    num2 = random.randint(1, 10)\n",
        "    operation = random.choice(['+', '-', '*'])\n",
        "    correct_answer = 0\n",
        "\n",
        "    # Calculate the correct answer\n",
        "    if operation == '+':\n",
        "        correct_answer = num1 + num2\n",
        "    elif operation == '-':\n",
        "        correct_answer = num1 - num2\n",
        "    elif operation == '*':\n",
        "        correct_answer = num1 * num2\n",
        "\n",
        "    # Ask the user for their answer\n",
        "    user_answer = int(input(f\"Question {i+1}: What is {num1} {operation} {num2}? \"))\n",
        "\n",
        "    # Check the answer and give feedback\n",
        "    if user_answer == correct_answer:\n",
        "        print(\"Correct!\")\n",
        "    else:\n",
        "        print(f\"Incorrect. The correct answer was {correct_answer}.\")\n",
        "```\n"
      ],
      "metadata": {
        "id": "cVBNiRzDZDVK"
      }
    },
    {
      "cell_type": "code",
      "source": [
        "def is_prime(number):\n",
        "    if number <= 1:\n",
        "        return False\n",
        "    for i in range(2, number):\n",
        "        if number % i == 0:\n",
        "            return False\n",
        "    return True\n",
        "\n",
        "# Test the function\n",
        "num = 29\n",
        "if is_prime(num):\n",
        "    print(f\"{num} is a prime number.\")\n",
        "else:\n",
        "    print(f\"{num} is not a prime number.\")\n",
        "\n",
        "# Test the function\n",
        "num = 14\n",
        "if is_prime(num):\n",
        "    print(f\"{num} is a prime number.\")\n",
        "else:\n",
        "    print(f\"{num} is not a prime number.\")"
      ],
      "metadata": {
        "colab": {
          "base_uri": "https://localhost:8080/"
        },
        "id": "VGpMXE8RZr6L",
        "outputId": "bf810404-bf04-468a-b0a8-00218f4302e8"
      },
      "execution_count": null,
      "outputs": [
        {
          "output_type": "stream",
          "name": "stdout",
          "text": [
            "29 is a prime number.\n",
            "14 is not a prime number.\n"
          ]
        }
      ]
    },
    {
      "cell_type": "code",
      "source": [
        "import random\n",
        "\n",
        "# Set the number of questions\n",
        "num_questions = 5\n",
        "\n",
        "for i in range(num_questions):\n",
        "    # Generate two random numbers and a random operation\n",
        "    num1 = random.randint(1, 10)\n",
        "    num2 = random.randint(1, 10)\n",
        "    operation = random.choice(['+', '-', '*'])\n",
        "    correct_answer = 0\n",
        "\n",
        "    # Calculate the correct answer\n",
        "    if operation == '+':\n",
        "        correct_answer = num1 + num2\n",
        "    elif operation == '-':\n",
        "        correct_answer = num1 - num2\n",
        "    elif operation == '*':\n",
        "        correct_answer = num1 * num2\n",
        "\n",
        "    # Ask the user for their answer\n",
        "    user_answer = int(input(f\"Question {i+1}: What is {num1} {operation} {num2}? \"))\n",
        "\n",
        "    # Check the answer and give feedback\n",
        "    if user_answer == correct_answer:\n",
        "        print(\"Correct!\")\n",
        "    else:\n",
        "        print(f\"Incorrect. The correct answer was {correct_answer}.\")"
      ],
      "metadata": {
        "colab": {
          "base_uri": "https://localhost:8080/"
        },
        "id": "dKzMNrlNbg7N",
        "outputId": "f2e36577-6a41-4a44-d84a-b394796bc2c0"
      },
      "execution_count": null,
      "outputs": [
        {
          "output_type": "stream",
          "name": "stdout",
          "text": [
            "Question 1: What is 10 * 4? 8\n",
            "Incorrect. The correct answer was 40.\n",
            "Question 2: What is 9 + 3? 14\n",
            "Incorrect. The correct answer was 12.\n",
            "Question 3: What is 9 + 2? 11\n",
            "Correct!\n",
            "Question 4: What is 9 + 4? 13\n",
            "Correct!\n",
            "Question 5: What is 3 - 10? -7\n",
            "Correct!\n"
          ]
        }
      ]
    },
    {
      "cell_type": "markdown",
      "source": [
        "\n",
        "### Your Task:\n",
        "Your goal is to create a similar program that quizzes the user on simple arithmetic problems. Feel free to modify the range of numbers, types of operations, or the number of questions. This exercise will help reinforce your understanding of loops, basic arithmetic operations, and boolean logic in Python. Remember, the key is to write code that repeatedly presents questions and gives feedback based on the user's input.\n",
        "\n"
      ],
      "metadata": {
        "id": "ERp568ScZDXb"
      }
    },
    {
      "cell_type": "code",
      "source": [],
      "metadata": {
        "id": "zWdrm80-ZtQw"
      },
      "execution_count": null,
      "outputs": []
    },
    {
      "cell_type": "markdown",
      "source": [
        "## Further Resources"
      ],
      "metadata": {
        "id": "Hv_lWsD_ZDZ-"
      }
    }
  ]
}