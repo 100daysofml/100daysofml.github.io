{
 "cells": [
  {
   "cell_type": "markdown",
   "id": "b42180f5-8dca-4b6f-ae99-39b082e80a64",
   "metadata": {},
   "source": [
    "# Day 19: Correlation Analysis using Python\n",
    "\n",
    "In this lesson, we'll embark on a comprehensive exploration of correlation analysis. This statistical method is essential for identifying relationships between variables, allowing us to grasp the interconnectedness within our data. We'll delve into the mathematical underpinnings, learn how to compute and interpret correlation coefficients in Python, and discuss best practices and common pitfalls.\n",
    "\n",
    "## Objectives:\n",
    "\n",
    "1.  **Understand Correlation Analysis:** Gain an in-depth understanding of the mathematical principles and significance of correlation in data analysis.\n",
    "2.  **Calculate Correlation Coefficients:** Master computing and interpreting Pearson and Spearman correlation coefficients using Python.\n",
    "3.  **Best Practices and Common Pitfalls:** Acquaint yourself with the dos and don'ts of correlation analysis to ensure accurate and meaningful results.\n",
    "4.  **Hands-on Activities and Homework:** Engage in detailed, step-by-step activities for practical understanding and apply your knowledge in a comprehensive homework assignment.\n",
    "\n",
    "\n",
    "\n"
   ]
  },
  {
   "cell_type": "markdown",
   "id": "998ed519-5cbf-44b0-9a12-572700b94604",
   "metadata": {
    "tags": []
   },
   "source": [
    "## 1. Understanding Correlation Analysis\n",
    "\n",
    "### 1.1 Mathematical Principles of Correlation\n",
    "\n",
    "Correlation analysis is a method used to evaluate the strength and direction of the relationship between two quantitative variables.\n",
    "\n",
    "-   **Pearson Correlation Coefficient (r):** This measures the linear relationship between two continuous variables.\n",
    "    \n",
    "    -   **Formula:** \n",
    "    \n",
    "$$\n",
    "r = \\frac{\\sum (x_i - \\bar{x})(y_i - \\bar{y})}{\\sqrt{\\sum (x_i - \\bar{x})^2 \\sum (y_i - \\bar{y})^2}}\n",
    "$$\n",
    "\n",
    "where:\n",
    "\n",
    "$x_i$ and $y_i$ are the individual sample points indexed with $i$,\n",
    "$\\bar{x}$ and $\\bar{y}$ are the means of the $x$ and $y$ samples, respectively,\n",
    "$n$ is the number of sample points.\n",
    "    \n",
    "-   **Interpretation:** A coefficient close to +1 (-1) indicates a strong positive (negative) linear relationship, whereas a coefficient close to 0 suggests no linear relationship."
   ]
  },
  {
   "cell_type": "markdown",
   "id": "68bc83b5-a27c-4ed7-a0e8-0b971b1d5d5a",
   "metadata": {},
   "source": [
    "-   **Spearman's Rank Correlation:** This assesses how well the relationship between two variables can be described using a monotonic function.\n",
    "    \n",
    "    -   **Usage:** Ideal when the variables are not normally distributed or the relationship between variables is not linear.\n",
    "    -   **Formula:** Uses the same formula as Pearson's but on ranked data.\n",
    "\n",
    "$$\n",
    "\\rho = 1 - \\frac{6 \\sum d_i^2}{n(n^2 - 1)}\n",
    "$$\n",
    "\n",
    "or equivalently, in terms of Pearson's correlation coefficient of ranked variables:\n",
    "\n",
    "$$\n",
    "r_s = \\frac{\\sum (rg(x_i) - \\bar{rg_x})(rg(y_i) - \\bar{rg_y})}{\\sqrt{\\sum (rg(x_i) - \\bar{rg_x})^2 \\sum (rg(y_i) - \\bar{rg_y})^2}}\n",
    "$$\n",
    "\n",
    "where:\n",
    "\n",
    "$d_i$ is the difference between the two ranks of each observation,\n",
    "$n$ is the number of observations,\n",
    "$rg(x_i)$ and $rg(y_i)$ are the rank values of $x_i$ and $y_i$, respectively,\n",
    "$\\bar{rg_x}$ and $\\bar{rg_y}$ are the mean rank values of $x$ and $y$, respectively.  "
   ]
  },
  {
   "cell_type": "markdown",
   "id": "d5c5d1ad-8971-4cd3-8a97-0a319bc5e627",
   "metadata": {},
   "source": [
    "### 1.2 Significance of Correlation Analysis\n",
    "\n",
    "-   **Predictive Modeling:** It aids in feature selection by pinpointing highly correlated predictors with the target variable.\n",
    "-   **Multicollinearity Check:** It's crucial for identifying highly correlated predictors in regression models to avoid multicollinearity, which can skew the results.\n",
    "\n",
    "# Pearson and Spearman Correlation Coefficients\n",
    "\n",
    "The Pearson and Spearman correlation coefficients are commonly used measures in statistics to quantify the level of correlation between two variables. Here are the formulas for both coefficients:"
   ]
  },
  {
   "cell_type": "markdown",
   "id": "c8003730-2a71-4891-9afd-9e4a42a12e44",
   "metadata": {},
   "source": [
    "## 2. Computing Correlation Coefficients in Python\n",
    "\n",
    "### 2.1 Pearson Correlation Coefficient\n",
    "\n",
    "```python\n",
    "import pandas as pd\n",
    "\n",
    "# Load your dataset\n",
    "data = pd.read_csv('wine_quality.csv')\n",
    "\n",
    "# Calculating Pearson Correlation\n",
    "pearson_corr = data.corr(method='pearson')\n",
    "print(\"Pearson Correlation:\\n\", pearson_corr) \n",
    "```"
   ]
  },
  {
   "cell_type": "markdown",
   "id": "a708ebfc-32df-4814-b469-96a13458cdc9",
   "metadata": {},
   "source": [
    "### 2.2 Spearman's Rank Correlation\n",
    "\n",
    "```python\n",
    "# Calculating Spearman's Rank Correlation\n",
    "spearman_corr = data.corr(method='spearman')\n",
    "print(\"Spearman's Rank Correlation:\\n\", spearman_corr) \n",
    "```"
   ]
  },
  {
   "cell_type": "markdown",
   "id": "eaecda2c-0097-4cba-bba0-c641401ed886",
   "metadata": {},
   "source": [
    "### 2.3 Visualizing Correlation Matrix with Heatmap\n",
    "\n",
    "```python\n",
    "import seaborn as sns\n",
    "import matplotlib.pyplot as plt\n",
    "\n",
    "# Visualizing Pearson Correlation with Heatmap\n",
    "plt.figure(figsize=(12,10))\n",
    "sns.heatmap(pearson_corr, annot=True, cmap=plt.cm.Reds)\n",
    "plt.title('Pearson Correlation Heatmap')\n",
    "plt.show() \n",
    "```"
   ]
  },
  {
   "cell_type": "markdown",
   "id": "4d95dc1c-d769-443c-806b-d8f7730f1342",
   "metadata": {},
   "source": [
    "## 3. Best Practices and Common Pitfalls\n",
    "\n",
    "-   **Do:**\n",
    "    \n",
    "    -   Understand the data and the context before interpreting correlation coefficients.\n",
    "    -   Use scatter plots to visualize the relationship between variables before calculating correlation coefficients.\n",
    "    -   Check for outliers, as they can significantly influence the correlation coefficient.\n",
    "-   **Don't:**\n",
    "    \n",
    "    -   Assume causation from correlation. Correlation does not imply that one variable's change is causing the change in another variable.\n",
    "    -   Ignore the shape of the data distribution. Pearson's correlation assumes that the data is normally distributed, so it may not be the best choice for data that doesn't meet this assumption.\n",
    "    -   Use only correlation for feature selection in predictive modeling. It's essential to consider other factors like multicollinearity and the nature of the relationship between variables."
   ]
  },
  {
   "cell_type": "markdown",
   "id": "2082adc5-ec7e-452d-9c29-3e98a98595ae",
   "metadata": {},
   "source": [
    "## 4. Hands-on Activities and Homework\n",
    "\n",
    "### 4.1 Hands-on Activity: Correlation Analysis in Wine Quality Dataset\n",
    "\n",
    "-   **Objective:** Perform a detailed correlation analysis to identify the factors most related to wine quality.\n",
    "-   **Dataset:** https://github.com/100daysofml/100daysofml.github.io/blob/main/content/Week_04/wine_quality.csv\n",
    "-   **Python Code:**\n",
    "    \n",
    "```python  \n",
    "corr_matrix = wine_data.corr()\n",
    "sns.heatmap(corr_matrix, annot=True, cmap=plt.cm.Reds)\n",
    "plt.title('Correlation Heatmap - Wine Quality Dataset')\n",
    "plt.show()\n",
    "```\n",
    "    \n",
    "-   **Discussion:** Analyze the heatmap. Discuss which factors are most positively and negatively correlated with wine quality and hypothesize why."
   ]
  },
  {
   "cell_type": "markdown",
   "id": "9350fa36-cff4-4077-b776-6be189ba825b",
   "metadata": {},
   "source": [
    "### 4.2 Homework Assignment\n",
    "\n",
    "-   **Task:** Choose a dataset of your interest. Perform a detailed correlation analysis.\n",
    "    -   **Steps:**\n",
    "        -   Compute both Pearson and Spearman correlation coefficients.\n",
    "        -   Visualize the correlation matrix using a heatmap.\n",
    "        -   Write a report interpreting the correlations. Discuss potential reasons for high or low correlations among variables, and note any surprising correlations or lack thereof.\n",
    "    -   **Deliverables:** A comprehensive report documenting your findings, analysis, and interpretations.\n",
    "\n",
    "This lesson equips you with a thorough understanding of how to perform and interpret correlation analysis, setting the stage for insightful data exploration and analysis. Remember, while correlation is a powerful tool, it must be used thoughtfully and interpreted in context."
   ]
  },
  {
   "cell_type": "markdown",
   "id": "db4e354f-8954-4acc-b84b-62f6ac3b04bd",
   "metadata": {},
   "source": [
    "#### **Additional Resources (Correlation Analysis using Python)\n",
    "\n",
    "https://www.geeksforgeeks.org/exploring-correlation-in-python/\n",
    "\n",
    "https://realpython.com/numpy-scipy-pandas-correlation-python/\n",
    "\n",
    "https://machinelearningmastery.com/how-to-use-correlation-to-understand-the-relationship-between-variables/\n",
    "\n",
    "https://realpython.com/python-statistics/\n",
    "\n",
    "https://www.geo.fu-berlin.de/en/v/soga-py/Basics-of-statistics/Hypothesis-Tests/Inferential-Methods-in-Regression-and-Correlation/Hypothesis-Testing-About-the-Linear-Correlation-Coefficient/index.html"
   ]
  }
 ],
 "metadata": {
  "kernelspec": {
   "display_name": "Python 3 (ipykernel)",
   "language": "python",
   "name": "python3"
  },
  "language_info": {
   "codemirror_mode": {
    "name": "ipython",
    "version": 3
   },
   "file_extension": ".py",
   "mimetype": "text/x-python",
   "name": "python",
   "nbconvert_exporter": "python",
   "pygments_lexer": "ipython3",
   "version": "3.11.5"
  }
 },
 "nbformat": 4,
 "nbformat_minor": 5
}
