{
 "cells": [
  {
   "cell_type": "markdown",
   "id": "9ee61046-eb19-4d99-b0ad-1c1d0663559a",
   "metadata": {
    "tags": []
   },
   "source": [
    "# Day 17: In-Depth EDA and Central Tendency in Python\n",
    "\n",
    "In this lesson, we will delve into the mathematical underpinnings of central tendency, explore their practical implementation in Python, and discuss best practices for data visualization. We will also guide you on how to interpret these visualizations effectively.\n",
    "\n",
    "## Objectives:\n",
    "\n",
    "1.  **Understand Central Tendency:** Deepen understanding of the mathematical concepts of mean, median, and mode.\n",
    "2.  **Implement in Python:** Learn to calculate these measures and visualize the results using Python.\n",
    "3.  **Interpret Visualizations:** Gain skills in reading and interpreting data visualizations.\n",
    "4.  **Best Practices:** Learn the do's and don'ts of data visualization and how to apply best practices.\n",
    "\n",
    "## Prerequisites\n",
    "\n",
    "-   Intermediate Python, Pandas, NumPy, Seaborn, and Scikit-Learn skills.\n",
    "-   Basic understanding of statistical concepts and linear algebra.\n",
    "-   Dataset: https://github.com/100daysofml/100daysofml_notebooks/blob/main/content/Week_04/wine_quality.csv"
   ]
  },
  {
   "cell_type": "code",
   "execution_count": 1,
   "id": "9f250ee0-8fa3-4d23-9cd6-4d68c27fef44",
   "metadata": {},
   "outputs": [],
   "source": [
    "# Import necessary libraries\n",
    "import pandas as pd\n",
    "import matplotlib.pyplot as plt\n",
    "import seaborn as sns\n",
    "from scipy import stats\n",
    "# Load the dataset\n",
    "wine_data = pd.read_csv('wine_quality.csv')    "
   ]
  },
  {
   "cell_type": "markdown",
   "id": "d4acf440-77d5-4427-b552-52edeab2f73b",
   "metadata": {},
   "source": [
    "## 1. Deep Dive into Central Tendency\n",
    "\n",
    "Central tendency measures give us an understanding of the typical or central value in our dataset. They are foundational in statistical analysis and EDA.\n",
    "\n",
    "### 1.1 Mean (Arithmetic Average)\n",
    "\n",
    "-   **Formula:** $(\\bar x = \\frac{1}{n} \\sum_{i=i}^{n} x_{i} )$\n",
    "    -   **Interpretation:** Represents the average value. It considers all data points but can be heavily influenced by outliers.\n",
    "    -   **Python Implementation:**"
   ]
  },
  {
   "cell_type": "markdown",
   "id": "c59ebf03-1089-447f-90e6-8d60804c64b5",
   "metadata": {},
   "source": [
    "```python\n",
    "mean_value = wine_data['feature_name'].mean()\n",
    "```"
   ]
  },
  {
   "cell_type": "markdown",
   "id": "f0407a80-2a57-451c-97d6-a37756401479",
   "metadata": {},
   "source": [
    "### 1.2 Median (Middle Value)\n",
    "\n",
    "-   **Formula:** Middle value in a sorted list of numbers. If the number of observations is even, it's the average of the two middle numbers.\n",
    "    -   **Interpretation:** Represents the middle value and is not affected by outliers or skewed data.\n",
    "    -   **Python Implementation:**"
   ]
  },
  {
   "cell_type": "markdown",
   "id": "757cb09a-ddb2-43b2-8567-47733c422b40",
   "metadata": {},
   "source": [
    "```python\n",
    "median_value = wine_data['feature_name'].median()\n",
    "```"
   ]
  },
  {
   "cell_type": "markdown",
   "id": "d6e2a156-6906-4239-97e0-d4c1454d0a71",
   "metadata": {},
   "source": [
    "### 1.3 Mode (Most Frequent Value)\n",
    "\n",
    "-   **Formula:** The value that appears most frequently in a data set.\n",
    "    -   **Interpretation:** Represents the most common value. It's the only measure of central tendency that can be used with categorical data.\n",
    "    -   **Python Implementation:**"
   ]
  },
  {
   "cell_type": "markdown",
   "id": "2c049293-fb74-4ec4-8c26-8d40500de60f",
   "metadata": {},
   "source": [
    "```python\n",
    "mode_value = wine_data['feature_name'].mode()[0]\n",
    "```"
   ]
  },
  {
   "cell_type": "markdown",
   "id": "976020e8-740e-45e6-8a1b-aa55e46f2db3",
   "metadata": {},
   "source": [
    "## 2. Visualization Techniques and Best Practices\n",
    "\n",
    "### Histograms and Boxplots:\n",
    "\n",
    "-   **Histograms:**\n",
    "    \n",
    "    -   **Best Practices:** Choose an appropriate number of bins; too few bins will oversimplify reality, too many will complicate the story.\n",
    "    -   **Interpretation:** Look for symmetry, skewness, and the presence of outliers.\n",
    "    -   **Python Code:**"
   ]
  },
  {
   "cell_type": "markdown",
   "id": "132c24fc-463a-4caa-86e7-97a369346a1b",
   "metadata": {},
   "source": [
    "```python\n",
    "wine_data['feature_name'].hist(bins=10)\n",
    "plt.title('Histogram of Feature')\n",
    "plt.xlabel('Feature')\n",
    "plt.ylabel('Frequency')\n",
    "plt.show()\n",
    "```"
   ]
  },
  {
   "cell_type": "markdown",
   "id": "96eb1f33-d4a6-44da-8d37-c55129be2356",
   "metadata": {},
   "source": [
    "-   **Boxplots:**\n",
    "    \n",
    "    -   **Best Practices:** Understand that boxplots summarize the distribution of a dataset. The box represents the interquartile range (IQR) and the line inside the box is the median. Whiskers represent the range of the data and dots outside the whiskers are considered outliers.\n",
    "    -   **Interpretation:** Look for the spread of the data, central value, and potential outliers.\n",
    "    -   **Python Code:**"
   ]
  },
  {
   "cell_type": "markdown",
   "id": "5ddc8daf-9619-4b9d-9ede-40282a4fa794",
   "metadata": {
    "tags": []
   },
   "source": [
    "```python\n",
    "sns.boxplot(x='feature_name', data=wine_data)\n",
    "plt.title('Boxplot of Feature')\n",
    "plt.show()\n",
    "```"
   ]
  },
  {
   "cell_type": "markdown",
   "id": "1da0597d-aad4-4bfe-bde3-79fde7b51641",
   "metadata": {},
   "source": [
    "### Violin Plots and Pair Plots:\n",
    "\n",
    "-   **Violin Plots:** Provide more information than boxplots by also showing the probability density of the data at different values.\n",
    "    -   **Interpretation:** Similar to boxplots but with an added layer of nuance due to the inclusion of data density.    \n",
    "    -   **Python Code:**"
   ]
  },
  {
   "cell_type": "markdown",
   "id": "23bf1f0d-51ea-426d-bc59-5b0309a64195",
   "metadata": {},
   "source": [
    "```python\n",
    "sns.violinplot(x='feature_name', data=wine_data)\n",
    "plt.title('Violin Plot of Feature')\n",
    "plt.show()\n",
    "```"
   ]
  },
  {
   "cell_type": "markdown",
   "id": "a71de2fb-d063-411e-9357-5efa0babcd7d",
   "metadata": {},
   "source": [
    "-   **Pair Plots:** Show pairwise relationships in the dataset.\n",
    "    -   **Interpretation:** Look for correlations, trends, and potential clusters.\n",
    "    -   **Python Code:**"
   ]
  },
  {
   "cell_type": "markdown",
   "id": "4f510b2c-80eb-48b2-bbab-784314d46d08",
   "metadata": {},
   "source": [
    "```python\n",
    "sns.pairplot(wine_data)\n",
    "plt.title('Pairwise Relationships')\n",
    "plt.show() \n",
    "```"
   ]
  },
  {
   "cell_type": "markdown",
   "id": "3339be18-3e49-4f1a-b5ee-7fd444d852ce",
   "metadata": {},
   "source": [
    "## 3. Hands-on Activities\n",
    "\n",
    "### Activity: Comparative Analysis of Central Tendency Measures\n",
    "\n",
    "-   **Objective:** Compare the mean, median, and mode of key features in the Wine Quality Dataset.\n",
    "-   **Python Code:**"
   ]
  },
  {
   "cell_type": "markdown",
   "id": "0a34aad2-f2a9-4aae-b0f6-3f020b6018b2",
   "metadata": {},
   "source": [
    "```python\n",
    "features = ['alcohol', 'pH', 'residual sugar']\n",
    "    for feature in features:\n",
    "        mean_value = wine_data[feature].mean()\n",
    "        median_value = wine_data[feature].median()\n",
    "        mode_value = wine_data[feature].mode()[0]\n",
    "        print(f\"{feature} - Mean: {mean_value}, Median: {median_value}, Mode: {mode_value}\")\n",
    "```"
   ]
  },
  {
   "cell_type": "markdown",
   "id": "625e8094-65b0-40a5-a634-8fbed8f9178f",
   "metadata": {},
   "source": [
    "-   **Discussion:** Evaluate how these measures differ for each feature and hypothesize why that might be the case."
   ]
  },
  {
   "cell_type": "markdown",
   "id": "f7ec4c37-1b74-4e45-9822-1c0710871ebb",
   "metadata": {},
   "source": [
    "## 4. Homework Assignment\n",
    "\n",
    "-   **Task:** Students are required to perform a comparative analysis of central tendency and dispersion for three variables from the Wine Quality Dataset. They should:\n",
    "    -   Calculate mean, median, mode, variance, and standard deviation.\n",
    "    -   Create histograms and boxplots for each variable.\n",
    "    -   Write a brief report, comparing these measures and discussing their implications for wine quality.\n",
    "\n",
    "### Best Practices for Reporting:\n",
    "\n",
    "-   **Clarity:** Make sure your visualizations are clear and your narrative is easy to follow.\n",
    "-   **Context:** Provide context for your findings. Numbers and plots are meaningless without interpretation.\n",
    "-   **Accuracy:** Ensure your calculations are correct and your interpretations are based on the data."
   ]
  },
  {
   "cell_type": "markdown",
   "id": "ebc4c18d-cb7e-452a-a39c-84d32f4a0bcb",
   "metadata": {},
   "source": [
    "### Homework - Solution"
   ]
  },
  {
   "cell_type": "code",
   "execution_count": 2,
   "id": "1132381d-466e-4c0a-b3f4-67e4d18b3afa",
   "metadata": {
    "tags": []
   },
   "outputs": [],
   "source": [
    "# Import necessary libraries\n",
    "import pandas as pd\n",
    "import matplotlib.pyplot as plt\n",
    "import seaborn as sns\n",
    "from scipy import stats\n",
    "\n",
    "# Load the dataset\n",
    "wine_data = pd.read_csv('wine_quality.csv')  "
   ]
  },
  {
   "cell_type": "code",
   "execution_count": 3,
   "id": "2434e629-b573-427e-964c-402cfc575fdd",
   "metadata": {
    "tags": []
   },
   "outputs": [],
   "source": [
    "# List of features to analyze\n",
    "features = ['alcohol', 'pH', 'residual sugar']"
   ]
  },
  {
   "cell_type": "code",
   "execution_count": 4,
   "id": "7f8aa124-5b06-4d81-8329-11c4ba131080",
   "metadata": {
    "tags": []
   },
   "outputs": [],
   "source": [
    "# Initialize a dictionary to store the results\n",
    "analysis_results = {}\n",
    "# Loop through each feature and calculate statistics\n",
    "for feature in features:\n",
    "    # Calculating Descriptive Statistics\n",
    "    mean_value = wine_data[feature].mean()\n",
    "    median_value = wine_data[feature].median()\n",
    "    mode_value = wine_data[feature].mode()[0]\n",
    "    variance_value = wine_data[feature].var()\n",
    "    std_dev_value = wine_data[feature].std()\n",
    "    \n",
    "    # Storing the results\n",
    "    analysis_results[feature] = {\n",
    "        'mean': mean_value,\n",
    "        'median': median_value,\n",
    "        'mode': mode_value,\n",
    "        'variance': variance_value,\n",
    "        'std_dev': std_dev_value\n",
    "    }"
   ]
  },
  {
   "cell_type": "code",
   "execution_count": 5,
   "id": "27f27b16-2956-467d-94d1-1204a2748bca",
   "metadata": {
    "tags": []
   },
   "outputs": [
    {
     "data": {
      "image/png": "[encoded data removed]",
      "text/plain": [
       "<Figure size 1000x400 with 1 Axes>"
      ]
     },
     "metadata": {},
     "output_type": "display_data"
    }
   ],
   "source": [
    "# Plotting Histogram\n",
    "plt.figure(figsize=(10, 4))\n",
    "wine_data[feature].hist(bins=15)\n",
    "plt.title(f'Histogram of {feature.capitalize()}')\n",
    "plt.xlabel(feature.capitalize())\n",
    "plt.ylabel('Frequency')\n",
    "plt.grid(False)\n",
    "plt.show()"
   ]
  },
  {
   "cell_type": "code",
   "execution_count": 6,
   "id": "4c32cbc0-7a17-4360-9600-1269ae185a78",
   "metadata": {
    "tags": []
   },
   "outputs": [
    {
     "data": {
      "image/png": "[encoded data removed]",
      "text/plain": [
       "<Figure size 1000x400 with 1 Axes>"
      ]
     },
     "metadata": {},
     "output_type": "display_data"
    }
   ],
   "source": [
    "# Plotting Boxplot\n",
    "plt.figure(figsize=(10, 4))\n",
    "sns.boxplot(x=feature, data=wine_data)\n",
    "plt.title(f'Boxplot of {feature.capitalize()}')\n",
    "plt.show()"
   ]
  },
  {
   "cell_type": "code",
   "execution_count": 7,
   "id": "c11a5580-3484-4160-8479-f35c27939800",
   "metadata": {
    "tags": []
   },
   "outputs": [
    {
     "name": "stdout",
     "output_type": "stream",
     "text": [
      "\n",
      "Stats for Alcohol:\n",
      "Mean: 10.442111402741325\n",
      "Median: 10.2\n",
      "Mode: 9.5\n",
      "Variance: 1.171147338035852\n",
      "Std_dev: 1.0821956098764456\n",
      "\n",
      "Stats for Ph:\n",
      "Mean: 3.3110148731408575\n",
      "Median: 3.31\n",
      "Mode: 3.3\n",
      "Variance: 0.02454362762448048\n",
      "Std_dev: 0.15666405977275222\n",
      "\n",
      "Stats for Residual sugar:\n",
      "Mean: 2.5321522309711284\n",
      "Median: 2.2\n",
      "Mode: 2.0\n",
      "Variance: 1.8385121764551662\n",
      "Std_dev: 1.355917466682676\n"
     ]
    }
   ],
   "source": [
    "# Displaying the analysis results\n",
    "for feature, stats in analysis_results.items():\n",
    "    print(f\"\\nStats for {feature.capitalize()}:\")\n",
    "    for stat_name, stat_value in stats.items():\n",
    "        print(f\"{stat_name.capitalize()}: {stat_value}\")"
   ]
  },
  {
   "cell_type": "markdown",
   "id": "850dbb19-d55a-496c-ac80-a67d6c6ac100",
   "metadata": {},
   "source": [
    "## Report Template\n",
    "\n",
    "### Comparative Analysis of Central Tendency and Dispersion for Wine Quality Variables\n",
    "\n",
    "#### Introduction:\n",
    "\n",
    "This report presents a comparative analysis of the central tendency (mean, median, mode) and dispersion (variance, standard deviation) for three key variables (`alcohol`, `pH`, `residual sugar`) from the Wine Quality Dataset."
   ]
  },
  {
   "cell_type": "markdown",
   "id": "ec9933d1-6270-4b2f-90d5-f4fa6096d678",
   "metadata": {},
   "source": [
    "#### Findings:\n",
    "\n",
    "-   **Alcohol:**\n",
    "    \n",
    "    -   **Central Tendency:**\n",
    "        -   Mean: [mean_value]\n",
    "        -   Median: [median_value]\n",
    "        -   Mode: [mode_value]\n",
    "    -   **Dispersion:**\n",
    "        -   Variance: [variance_value]\n",
    "        -   Standard Deviation: [std_dev_value]\n",
    "    -   **Histogram Analysis:** [Provide analysis based on histogram]\n",
    "    -   **Boxplot Analysis:** [Provide analysis based on boxplot]\n",
    "-   **pH:**\n",
    "    \n",
    "    -   **Central Tendency:**\n",
    "        -   Mean: [mean_value]\n",
    "        -   Median: [median_value]\n",
    "        -   Mode: [mode_value]\n",
    "    -   **Dispersion:**\n",
    "        -   Variance: [variance_value]\n",
    "        -   Standard Deviation: [std_dev_value]\n",
    "    -   **Histogram Analysis:** [Provide analysis based on histogram]\n",
    "    -   **Boxplot Analysis:** [Provide analysis based on boxplot]\n",
    "-   **Residual Sugar:**\n",
    "    \n",
    "    -   **Central Tendency:**\n",
    "        -   Mean: [mean_value]\n",
    "        -   Median: [median_value]\n",
    "        -   Mode: [mode_value]\n",
    "    -   **Dispersion:**\n",
    "        -   Variance: [variance_value]\n",
    "        -   Standard Deviation: [std_dev_value]\n",
    "    -   **Histogram Analysis:** [Provide analysis based on histogram]\n",
    "    -   **Boxplot Analysis:** [Provide analysis based on boxplot]"
   ]
  },
  {
   "cell_type": "markdown",
   "id": "3b900d3c-ca9a-49fe-ad96-3ed3e2e0cbf4",
   "metadata": {},
   "source": [
    "#### Discussion:\n",
    "\n",
    "Discuss the implications of the central tendency and dispersion measures on the quality of wine. How do these variables influence the wine quality, and what could be the potential reasons for the observed patterns?\n",
    "\n",
    "#### Conclusion:\n",
    "\n",
    "Summarize the key insights obtained from the analysis and suggest any potential actions or further analyses that could be beneficial for wine producers or marketers."
   ]
  },
  {
   "cell_type": "markdown",
   "id": "d654d4ea-830f-4614-b216-ceae9b7ff942",
   "metadata": {},
   "source": [
    "#### **Additional Resources (In Depth EDA & Central Tendency)\n",
    "\n",
    "https://www.analyticsvidhya.com/blog/2021/06/exploratory-data-analysis-using-data-visualization-techniques/\n",
    "\n",
    "https://www.hcbravo.org/IntroDataSci/bookdown-notes/exploratory-data-analysis-summary-statistics.html\n",
    "\n",
    "https://econometricstutors.com/exploratory-data-analysis-central-tendency/\n",
    "\n",
    "https://www.geeksforgeeks.org/exploratory-data-analysis-eda-types-and-tools/"
   ]
  }
 ],
 "metadata": {
  "kernelspec": {
   "display_name": "Python 3 (ipykernel)",
   "language": "python",
   "name": "python3"
  },
  "language_info": {
   "codemirror_mode": {
    "name": "ipython",
    "version": 3
   },
   "file_extension": ".py",
   "mimetype": "text/x-python",
   "name": "python",
   "nbconvert_exporter": "python",
   "pygments_lexer": "ipython3",
   "version": "3.11.5"
  }
 },
 "nbformat": 4,
 "nbformat_minor": 5
}
