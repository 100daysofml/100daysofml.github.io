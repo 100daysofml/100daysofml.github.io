{
  "nbformat": 4,
  "nbformat_minor": 0,
  "metadata": {
    "colab": {
      "provenance": []
    },
    "kernelspec": {
      "name": "python3",
      "display_name": "Python 3"
    },
    "language_info": {
      "name": "python"
    }
  },
  "cells": [
    {
      "cell_type": "markdown",
      "source": [
        "# Day 4: Control Structures - Conditionals\n",
        "\n",
        "Conditional statements, commonly known as \"if statements,\" are a fundamental aspect of programming, allowing the code to execute different actions depending on certain conditions. This concept, often referred to as \"branching,\" enables programs to make decisions, thereby increasing their complexity and capability.\n",
        "\n",
        "## If This, Then That\n",
        "\n",
        "The `if` statement is the most basic form of conditional execution in Python. It tests a condition and executes a block of code if the condition is true. The syntax requires an indentation block, which defines the scope of the statement.\n",
        "\n",
        "```python\n",
        "if condition:\n",
        "    # This code runs if condition is True\n",
        "    do_something()\n",
        "```\n",
        "\n"
      ],
      "metadata": {
        "id": "JuONjcO0l7ul"
      }
    },
    {
      "cell_type": "code",
      "source": [
        "x = 42\n",
        "\n",
        "if x > 40:\n",
        "  print(\"voila!\")"
      ],
      "metadata": {
        "colab": {
          "base_uri": "https://localhost:8080/"
        },
        "id": "u5TsAT8OmjUC",
        "outputId": "cbcc7cab-93f3-4651-d19d-8d9ba682459c"
      },
      "execution_count": null,
      "outputs": [
        {
          "output_type": "stream",
          "name": "stdout",
          "text": [
            "voila!\n"
          ]
        }
      ]
    },
    {
      "cell_type": "code",
      "source": [
        "print(x)\n",
        "\n",
        "if x > 50:\n",
        "  print(\"...also voila?\")"
      ],
      "metadata": {
        "colab": {
          "base_uri": "https://localhost:8080/"
        },
        "id": "Azx4Jys5mo6t",
        "outputId": "1c1ea143-255d-4436-e5da-16a8424886cc"
      },
      "execution_count": null,
      "outputs": [
        {
          "output_type": "stream",
          "name": "stdout",
          "text": [
            "42\n"
          ]
        }
      ]
    },
    {
      "cell_type": "markdown",
      "source": [
        "\n",
        "## Otherwise, Do This!\n",
        "\n",
        "The `else` statement is used in conjunction with `if`. It defines a block of code that is executed when the `if` condition is not met.\n",
        "\n",
        "```python\n",
        "if condition:\n",
        "    do_something()\n",
        "else:\n",
        "    # This code runs if condition is False\n",
        "    do_something_else()\n",
        "```\n",
        "\n"
      ],
      "metadata": {
        "id": "cw-N51vOl7wo"
      }
    },
    {
      "cell_type": "code",
      "source": [
        "print(x)\n",
        "\n",
        "if x > 50:\n",
        "  print(\"...also voila?\")\n",
        "else:\n",
        "  print(\"Not voila!\")"
      ],
      "metadata": {
        "colab": {
          "base_uri": "https://localhost:8080/"
        },
        "id": "5gZUMBFMmv_g",
        "outputId": "e16fb334-5d9f-4dd5-efca-3eabaf307700"
      },
      "execution_count": null,
      "outputs": [
        {
          "output_type": "stream",
          "name": "stdout",
          "text": [
            "42\n",
            "Not voila!\n"
          ]
        }
      ]
    },
    {
      "cell_type": "markdown",
      "source": [
        "## Code Block of Last Resort\n",
        "\n",
        "The `elif` (short for \"else if\") statement is used to check multiple expressions for truth value and execute a block of code as soon as one of the conditions evaluates to True. It's a way to handle multiple, mutually exclusive conditions.\n",
        "\n",
        "```python\n",
        "if condition1:\n",
        "    do_something()\n",
        "elif condition2:\n",
        "    do_something_else()\n",
        "else:\n",
        "    # This runs if neither condition1 nor condition2 is True\n",
        "    do_another_thing()\n",
        "```\n",
        "\n",
        "`if`/`elif` statements in Python can be likened to a C-style `switch` block, where different cases are checked, and corresponding actions are taken based on which case is true.\n",
        "\n"
      ],
      "metadata": {
        "id": "5o0o9__Zl71Q"
      }
    },
    {
      "cell_type": "code",
      "source": [
        "x = 42\n",
        "\n",
        "if x > 60:\n",
        "  print(\"Largest case\")\n",
        "elif x > 40:\n",
        "  print(\"Medium case\")\n",
        "else:\n",
        "  print(\"Final case\")"
      ],
      "metadata": {
        "colab": {
          "base_uri": "https://localhost:8080/"
        },
        "id": "P7NShGIqm6UW",
        "outputId": "814f7884-31b4-40d6-8607-ffee1a72be6c"
      },
      "execution_count": null,
      "outputs": [
        {
          "output_type": "stream",
          "name": "stdout",
          "text": [
            "Medium case\n"
          ]
        }
      ]
    },
    {
      "cell_type": "markdown",
      "source": [
        "## Saving on Words: Succinct Versions\n",
        "\n",
        "In Python, `if` statements can be written in a more compact form, especially when the action to be executed is short.\n",
        "\n",
        "```python\n",
        "if condition: do_something()\n",
        "```\n",
        "\n",
        "There is also the ternary expression in Python, which allows for a quick evaluation of a condition in a single line. It's a concise way of writing an `if-else` statement.\n",
        "\n",
        "```python\n",
        "result = a if condition else b\n",
        "```\n",
        "\n",
        "This expression assigns `a` to `result` if `condition` is True, and `b` otherwise. Understanding and using these forms of conditional statements enhance the readability and efficiency of your code, especially in scenarios where decision-making is a key aspect of the program logic.\n",
        "\n"
      ],
      "metadata": {
        "id": "L4VukGzDl736"
      }
    },
    {
      "cell_type": "code",
      "source": [
        "x = 42\n",
        "\n",
        "if x > 60: print(\"Largest case\")\n",
        "elif x > 40: print(\"Medium case\")\n",
        "else: print(\"Final case\")"
      ],
      "metadata": {
        "colab": {
          "base_uri": "https://localhost:8080/"
        },
        "id": "HuwJcqFznGlW",
        "outputId": "9359745b-def8-4278-eae5-81cf73333856"
      },
      "execution_count": null,
      "outputs": [
        {
          "output_type": "stream",
          "name": "stdout",
          "text": [
            "Medium case\n"
          ]
        }
      ]
    },
    {
      "cell_type": "code",
      "source": [
        "# consider using vertical alignment and whitespace to improve readability\n",
        "\n",
        "x = 42\n",
        "\n",
        "if   x > 60: print(\"Largest case\")\n",
        "elif x > 40: print(\"Medium case\")\n",
        "else:        print(\"Final case\")"
      ],
      "metadata": {
        "colab": {
          "base_uri": "https://localhost:8080/"
        },
        "id": "323HwDYcnNvU",
        "outputId": "23a07e12-66e9-418a-ce89-6f00d864883d"
      },
      "execution_count": null,
      "outputs": [
        {
          "output_type": "stream",
          "name": "stdout",
          "text": [
            "Medium case\n"
          ]
        }
      ]
    },
    {
      "cell_type": "markdown",
      "source": [
        "## Lesson Project: FizzBuzz and a Similar Challenge\n",
        "\n",
        "### FizzBuzz Problem Statement\n",
        "FizzBuzz is a classic programming task, often used in job interviews to assess basic programming skills. The challenge is as follows:\n",
        "- Print numbers from 1 to 100.\n",
        "- For multiples of 3, print \"Fizz\" instead of the number.\n",
        "- For multiples of 5, print \"Buzz\" instead of the number.\n",
        "- For numbers which are multiples of both 3 and 5, print \"FizzBuzz\".\n",
        "\n",
        "### FizzBuzz Solution in Python\n",
        "\n",
        "This solution uses a `for` loop to iterate through the numbers 1 to 100 and conditional statements (`if`, `elif`, `else`) to determine what to print for each number.\n",
        "\n"
      ],
      "metadata": {
        "id": "VTMg-eIml76K"
      }
    },
    {
      "cell_type": "code",
      "source": [
        "for i in range(1, 101):\n",
        "    if i % 3 == 0 and i % 5 == 0:\n",
        "        print(\"FizzBuzz\")\n",
        "    elif i % 3 == 0:\n",
        "        print(\"Fizz\")\n",
        "    elif i % 5 == 0:\n",
        "        print(\"Buzz\")\n",
        "    else:\n",
        "        print(i)"
      ],
      "metadata": {
        "colab": {
          "base_uri": "https://localhost:8080/"
        },
        "id": "CkNFYl2gnd9F",
        "outputId": "937d9659-8ad2-4385-9de9-a36ba34979f1"
      },
      "execution_count": null,
      "outputs": [
        {
          "output_type": "stream",
          "name": "stdout",
          "text": [
            "1\n",
            "2\n",
            "Fizz\n",
            "4\n",
            "Buzz\n",
            "Fizz\n",
            "7\n",
            "8\n",
            "Fizz\n",
            "Buzz\n",
            "11\n",
            "Fizz\n",
            "13\n",
            "14\n",
            "FizzBuzz\n",
            "16\n",
            "17\n",
            "Fizz\n",
            "19\n",
            "Buzz\n",
            "Fizz\n",
            "22\n",
            "23\n",
            "Fizz\n",
            "Buzz\n",
            "26\n",
            "Fizz\n",
            "28\n",
            "29\n",
            "FizzBuzz\n",
            "31\n",
            "32\n",
            "Fizz\n",
            "34\n",
            "Buzz\n",
            "Fizz\n",
            "37\n",
            "38\n",
            "Fizz\n",
            "Buzz\n",
            "41\n",
            "Fizz\n",
            "43\n",
            "44\n",
            "FizzBuzz\n",
            "46\n",
            "47\n",
            "Fizz\n",
            "49\n",
            "Buzz\n",
            "Fizz\n",
            "52\n",
            "53\n",
            "Fizz\n",
            "Buzz\n",
            "56\n",
            "Fizz\n",
            "58\n",
            "59\n",
            "FizzBuzz\n",
            "61\n",
            "62\n",
            "Fizz\n",
            "64\n",
            "Buzz\n",
            "Fizz\n",
            "67\n",
            "68\n",
            "Fizz\n",
            "Buzz\n",
            "71\n",
            "Fizz\n",
            "73\n",
            "74\n",
            "FizzBuzz\n",
            "76\n",
            "77\n",
            "Fizz\n",
            "79\n",
            "Buzz\n",
            "Fizz\n",
            "82\n",
            "83\n",
            "Fizz\n",
            "Buzz\n",
            "86\n",
            "Fizz\n",
            "88\n",
            "89\n",
            "FizzBuzz\n",
            "91\n",
            "92\n",
            "Fizz\n",
            "94\n",
            "Buzz\n",
            "Fizz\n",
            "97\n",
            "98\n",
            "Fizz\n",
            "Buzz\n"
          ]
        }
      ]
    },
    {
      "cell_type": "markdown",
      "source": [
        "## Alternative Lesson Project: Temperature Analyzer\n",
        "\n",
        "### Temperature Analyzer Problem Statement\n",
        "Create a program that analyzes temperature data and categorizes each temperature entry. The challenge is as follows:\n",
        "- Iterate over a list of temperature readings (in Celsius).\n",
        "- For each temperature:\n",
        "  - If it's below 0, categorize it as \"Freezing\".\n",
        "  - If it's between 0 and 15 (inclusive), categorize it as \"Cold\".\n",
        "  - If it's between 16 and 25 (inclusive), categorize it as \"Moderate\".\n",
        "  - If it's above 25, categorize it as \"Hot\".\n",
        "- Print the temperature and its category.\n",
        "\n",
        "#### Temperature Analyzer Solution in Python\n",
        "\n",
        "This solution uses a `for` loop to iterate through a predefined list of temperatures and conditional statements (`if`, `elif`, `else`) to determine the category for each temperature.\n",
        "\n"
      ],
      "metadata": {
        "id": "GB1e2sEdl8B3"
      }
    },
    {
      "cell_type": "code",
      "source": [
        "temperatures = [3, 16, -2, 21, 30, 15, 1, -5, 24, 27]\n",
        "\n",
        "for temp in temperatures:\n",
        "    if temp < 0:\n",
        "        category = \"Freezing\"\n",
        "    elif temp <= 15:\n",
        "        category = \"Cold\"\n",
        "    elif temp <= 25:\n",
        "        category = \"Moderate\"\n",
        "    else:\n",
        "        category = \"Hot\"\n",
        "\n",
        "    print(f\"Temperature: {temp}°C, Category: {category}\")"
      ],
      "metadata": {
        "id": "5eQj_7EEnlPz",
        "outputId": "7bd6fd7a-9b3a-4d6b-8659-cd792681a37f",
        "colab": {
          "base_uri": "https://localhost:8080/"
        }
      },
      "execution_count": null,
      "outputs": [
        {
          "output_type": "stream",
          "name": "stdout",
          "text": [
            "Temperature: 3°C, Category: Cold\n",
            "Temperature: 16°C, Category: Moderate\n",
            "Temperature: -2°C, Category: Freezing\n",
            "Temperature: 21°C, Category: Moderate\n",
            "Temperature: 30°C, Category: Hot\n",
            "Temperature: 15°C, Category: Cold\n",
            "Temperature: 1°C, Category: Cold\n",
            "Temperature: -5°C, Category: Freezing\n",
            "Temperature: 24°C, Category: Moderate\n",
            "Temperature: 27°C, Category: Hot\n"
          ]
        }
      ]
    },
    {
      "cell_type": "markdown",
      "source": [
        "### Your Challenge: Daily Step Counter\n",
        "\n",
        "**Problem Statement**:\n",
        "Write a program that interprets a list of daily step counts. For each day's step count:\n",
        "- If the steps are less than 5,000, categorize as \"Sedentary\".\n",
        "- If the steps are between 5,000 and 7,499 (inclusive), categorize as \"Lightly Active\".\n",
        "- If the steps are between 7,500 and 9,999 (inclusive), categorize as \"Moderately Active\".\n",
        "- If the steps are 10,000 or more, categorize as \"Very Active\".\n",
        "- Print the day number and the corresponding activity category.\n",
        "\n"
      ],
      "metadata": {
        "id": "TmxO-NkIl8EV"
      }
    },
    {
      "cell_type": "code",
      "source": [],
      "metadata": {
        "id": "J2j5CeRsnnNZ"
      },
      "execution_count": null,
      "outputs": []
    },
    {
      "cell_type": "markdown",
      "source": [
        "## Further Resources"
      ],
      "metadata": {
        "id": "osmTuRSImfsI"
      }
    }
  ]
}