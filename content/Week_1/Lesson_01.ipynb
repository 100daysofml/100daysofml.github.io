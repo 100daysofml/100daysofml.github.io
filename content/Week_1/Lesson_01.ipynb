{
  "nbformat": 4,
  "nbformat_minor": 0,
  "metadata": {
    "colab": {
      "provenance": []
    },
    "kernelspec": {
      "name": "python3",
      "display_name": "Python 3"
    },
    "language_info": {
      "name": "python"
    }
  },
  "cells": [
    {
      "cell_type": "markdown",
      "source": [
        "# Day 1: Python Basics - Syntax, Variables\n",
        "\n",
        "## Setting Up Your Environment\n",
        "\n",
        "**What will we use Python for in 100 Days of Machine Learning?**\n",
        "What will we use Python for in 100 Days of Machine Learning?\n",
        "\n",
        "In our 100 Days of Machine Learning challenge, Python will be our go-to programming language. It's widely used in the machine learning community due to its readability, simplicity, and rich ecosystem of data science libraries like NumPy, Pandas, and scikit-learn. These tools will be invaluable for data preprocessing, analysis, and building machine learning models.\n",
        "\n",
        "**Google Colab**\n",
        "\n",
        "For your coding environment, as long as you have a Google account, the best choice is likely Colab, accessible at [Google Colab](https://colab.research.google.com/). Colab is a free, cloud-based version of Jupyter Notebook. It allows you to write and execute Python code through your browser, without any setup required. Colab also provides free access to computing resources, including GPUs, which can be beneficial for some of the more computationally heavy machine learning tasks.\n",
        "\n",
        "Working locally is an option, but if you don't have a CPU, you probably want to get acquainted with Colab anyway for the later challenges.\n",
        "\n",
        "**Notebooks and Cells**\n",
        "\n",
        "In Colab, you work with notebooks, which consist of a series of \"cells\". These cells can contain either executable code or text (markdown). A key point to remember is that cells should be run in order – since later cells might depend on code or variables defined in earlier cells. However, if you're experimenting or debugging, you can rerun individual cells in any order.\n",
        "\n",
        "**Tips for Using Notebooks:**\n",
        "\n",
        "* **Running Cells in Sequence**: Always run cells in the order they appear, especially when you're following a tutorial or working on a new concept.\n",
        "* **Re-running Cells**: If you encounter errors or unexpected results, a useful troubleshooting step is to use the \"Run all\" feature to execute all cells from the beginning. This ensures that all your code and variables are up-to-date.\n",
        "* **Dealing with Errors or Invalid Plots**: Errors or incorrect plots often occur due to changes in the code that haven't been propagated through the notebook. By using \"Run all cells\" (found in the Runtime menu), you can ensure that all cells reflect the latest code changes.\n",
        "* **Saving Work**: Regularly save your notebooks. While Colab autosaves to Google Drive, it's a good habit to manually save important changes.\n",
        "\n",
        "With Google Colab, you get a powerful, flexible, and easily accessible platform for coding in Python, perfect for our machine learning journey."
      ],
      "metadata": {
        "id": "cfGMFiAFVdoT"
      }
    },
    {
      "cell_type": "markdown",
      "source": [
        "## Syntax\n",
        "\n",
        "**Expressions and Statements**\n",
        "\n",
        "In Python, an expression is a combination of values and operators that can be evaluated to produce another value. For example, `3 + 4` is an expression where `3` and `4` are values and `+` is the operator. A statement, on the other hand, is an instruction that Python can execute. For example, `print(3 + 4)` is a statement that executes the `print()` function.\n",
        "\n",
        "**Structure of Python Code**\n",
        "\n",
        "After understanding expressions and statements, the next crucial aspect is the structure of Python code, particularly focusing on code blocks and the use of whitespace.\n",
        "\n",
        "1. **Code Blocks and Indentation:**\n",
        "   - In Python, code blocks are defined by indentation, which is unique compared to other programming languages that often use braces (`{}`).\n",
        "   - A code block starts with an indentation and ends with the first unindented line. The amount of indentation is up to you, but it must be consistent throughout that block.\n",
        "   - Commonly, code blocks are used in loops, functions, and conditions. For example:\n",
        "     ```python\n",
        "     if x > 0:\n",
        "         print(\"x is positive\")\n",
        "     ```\n",
        "     Here, `print(\"x is positive\")` is a block of code that will execute if the condition `x > 0` is true.\n",
        "\n",
        "2. **Whitespace as Syntax:**\n",
        "   - Whitespace is meaningful in Python. Apart from indentation for code blocks, spaces and tabs are used to separate elements within a line. However, excessive whitespace within lines is ignored.\n",
        "   - Good use of whitespace makes your code more readable and hence, maintainable. For example:\n",
        "     ```python\n",
        "     # Good use of whitespace\n",
        "     sum = a + b\n",
        "     # Harder to read due to lack of whitespace\n",
        "     sum=a+b\n",
        "     ```\n",
        "\n",
        "3. **Line Continuation:**\n",
        "   - Python allows for line continuation within parentheses `()`, brackets `[]`, and braces `{}`. This is useful for writing lengthy expressions:\n",
        "     ```python\n",
        "     total = (a + b + c +\n",
        "              d + e + f)\n",
        "     ```\n",
        "   - For lines that are not naturally continued, you can use a backslash `\\` to indicate that the line should continue:\n",
        "     ```python\n",
        "     total = a + b + c + \\\n",
        "             d + e + f\n",
        "     ```\n",
        "\n",
        "4. **Comments:**\n",
        "   - Comments are essential for explaining code. They start with a `#` and are ignored by the Python interpreter.\n",
        "   - Use comments to describe complex logic or to make notes for future reference.\n",
        "   \n",
        "**Operators**\n",
        "\n",
        "Operators in Python are special symbols that carry out arithmetic or logical computation. The primary arithmetic operators include:\n",
        "\n",
        "1. **Addition (`+`)**: Adds two operands. For example, `5 + 3` equals `8`.\n",
        "2. **Subtraction (`-`)**: Subtracts the right operand from the left operand. For instance, `5 - 3` equals `2`.\n",
        "3. **Multiplication (`*`)**: Multiplies two operands. For example, `5 * 3` equals `15`.\n",
        "4. **True Division (`/`)**: Divides the left operand by the right operand and returns a floating-point number. For instance, `5 / 2` equals `2.5`.\n",
        "5. **Floor Division (`//`)**: Divides and returns the largest whole number that is smaller than or equal to the result. For example, `5 // 2` equals `2`.\n",
        "6. **Modulus (`%`)**: Returns the remainder when the left operand is divided by the right operand. For example, `5 % 2` equals `1`.\n",
        "7. **Exponentiation (`**`)**: Raises the left operand to the power of the right operand. For instance, `5 ** 2` equals `25`.\n"
      ],
      "metadata": {
        "id": "XArlFR9oVtlv"
      }
    },
    {
      "cell_type": "code",
      "source": [
        "5 + 3"
      ],
      "metadata": {
        "colab": {
          "base_uri": "https://localhost:8080/"
        },
        "id": "MVaxCBUwV2rL",
        "outputId": "a615b58c-0193-4d8c-fc29-7e9baf7d29b8"
      },
      "execution_count": null,
      "outputs": [
        {
          "output_type": "execute_result",
          "data": {
            "text/plain": [
              "8"
            ]
          },
          "metadata": {},
          "execution_count": 1
        }
      ]
    },
    {
      "cell_type": "code",
      "source": [
        "# Try something yourself; add more cells to run more code."
      ],
      "metadata": {
        "id": "5vlaLRivV8TL"
      },
      "execution_count": null,
      "outputs": []
    },
    {
      "cell_type": "markdown",
      "source": [
        "## Variables\n",
        "\n",
        "**Creating a variable**\n",
        "\n",
        "Variables are names that represent a value. The operations of your program can change that value.\n",
        "\n",
        "In Python, the assignment operator `=` is used to assign a value to a variable. For example, `x = 10` assigns the value `10` to the variable `x`. This creates the variable `x`, or overwrites whatever value it previously held.\n",
        "\n",
        "You can modify the value of a variable with these shorthand increment / decrement operators:\n",
        "\n",
        "1. **Addition Assignment (`+=`)**: This operator adds the right operand to the left operand and then assigns the result to the left operand. For instance, `x += 3` is equivalent to `x = x + 3`. If `x` was `5`, it would now be `8`.\n",
        "\n",
        "2. **Subtraction Assignment (`-=`)**: This operator subtracts the right operand from the left operand and then assigns the result to the left operand. For example, `x -= 2` is the same as `x = x - 2`. If `x` was initially `8`, it would now become `6`."
      ],
      "metadata": {
        "id": "opaNya_MV5pj"
      }
    },
    {
      "cell_type": "code",
      "source": [
        "x = 10"
      ],
      "metadata": {
        "id": "BeWzEU_JWExK"
      },
      "execution_count": null,
      "outputs": []
    },
    {
      "cell_type": "code",
      "source": [
        "x += 3"
      ],
      "metadata": {
        "id": "M3q_QPIQWGA3"
      },
      "execution_count": null,
      "outputs": []
    },
    {
      "cell_type": "code",
      "source": [
        "x"
      ],
      "metadata": {
        "colab": {
          "base_uri": "https://localhost:8080/"
        },
        "id": "bRs7qig1WHDM",
        "outputId": "514459c8-227e-4d0b-8023-9bd43c5514c7"
      },
      "execution_count": null,
      "outputs": [
        {
          "output_type": "execute_result",
          "data": {
            "text/plain": [
              "13"
            ]
          },
          "metadata": {},
          "execution_count": 4
        }
      ]
    },
    {
      "cell_type": "code",
      "source": [
        "# try something yourself"
      ],
      "metadata": {
        "id": "SiX-3esjWHkY"
      },
      "execution_count": null,
      "outputs": []
    },
    {
      "cell_type": "markdown",
      "source": [
        "**Data Types**\n",
        "\n",
        "Python variables can store different types of data. Today, we'll focus on three basic types:\n",
        "\n",
        "1. **Integers (`int`)**: Whole numbers like `3`, `100`, `-1`.\n",
        "2. **Floating Point Numbers (`float`)**: Numbers with a decimal point, like `3.14`, `-0.001`.\n",
        "3. **Characters or Strings of Text (`str`)**: Text data enclosed in quotes, like `\"Hello\"`, `'Python'`.\n",
        "\n",
        "Let's try creating variables of these types in a Jupyter Notebook.\n",
        "\n",
        "```python\n",
        "# Integer\n",
        "my_integer = 10\n",
        "\n",
        "# Float\n",
        "my_float = 3.14\n",
        "\n",
        "# String\n",
        "my_string = \"Hello, Python!\"\n",
        "\n",
        "# Displaying the values\n",
        "print(my_integer)\n",
        "print(my_float)\n",
        "print(my_string)\n",
        "```\n",
        "\n",
        "use the built in function `type()` to ask Python what the current type of a variable is. There are no restrictions for a variable to always be a certain type - a Python variable has the type of whatever it's currently assigned to.\n",
        "\n",
        "```python\n",
        "type(my_integer) # returns `int`\n",
        "type(my_float) # returns `float`\n",
        "```"
      ],
      "metadata": {
        "id": "-DeTYXUtWIic"
      }
    },
    {
      "cell_type": "code",
      "source": [],
      "metadata": {
        "id": "FCp9NXx4WP-n"
      },
      "execution_count": null,
      "outputs": []
    },
    {
      "cell_type": "markdown",
      "source": [
        "## Hands-On Project: Arithmetic in Python\n",
        "\n",
        "Guess and then experiment on how operators and data types interact. Start with an int (`x = 4`), then a float (`y = 3.14`) then a string (`t = 'hi'`). Use each operator on the three variables with a constant or another variable of each of the types. If the operation is possible, note down what the data type of the result is. Save your results in new variables and convince yourself that you can store and retrieve values in Python.\n",
        "\n",
        "\n",
        "You can fill in each cell with specific examples or notes on how the operator behaves with each data type. For instance, the `+` operator can be used for addition with `int` and `float`, and for concatenation with `str`."
      ],
      "metadata": {
        "id": "fZCX1wWjWRd9"
      }
    },
    {
      "cell_type": "markdown",
      "source": [
        "**Integer tests**\n",
        "\n",
        "```\n",
        "| x = 4    | int | float | str |\n",
        "|----------|-----|-------|-----|\n",
        "| +        |     |       |     |\n",
        "| -        |     |       |     |\n",
        "| *        |     |       |     |\n",
        "| /        |     |       |     |\n",
        "| //       |     |       |     |\n",
        "| **       |     |       |     |\n",
        "| %        |     |       |     |\n",
        "| =        |     |       |     |\n",
        "| +=       |     |       |     |\n",
        "| -=       |     |       |     |\n",
        "```"
      ],
      "metadata": {
        "id": "CJ4A51QRWWXD"
      }
    },
    {
      "cell_type": "code",
      "source": [],
      "metadata": {
        "id": "YoPdLb-jWYSp"
      },
      "execution_count": null,
      "outputs": []
    },
    {
      "cell_type": "markdown",
      "source": [
        "**Floating point tests**\n",
        "\n",
        "```\n",
        "| y = 3.14 | int | float | str |\n",
        "|----------|-----|-------|-----|\n",
        "| +        |     |       |     |\n",
        "| -        |     |       |     |\n",
        "| *        |     |       |     |\n",
        "| /        |     |       |     |\n",
        "| //       |     |       |     |\n",
        "| **       |     |       |     |\n",
        "| %        |     |       |     |\n",
        "| =        |     |       |     |\n",
        "| +=       |     |       |     |\n",
        "| -=       |     |       |     |\n",
        "```"
      ],
      "metadata": {
        "id": "azb-L1e_WYuj"
      }
    },
    {
      "cell_type": "code",
      "source": [],
      "metadata": {
        "id": "WsMKRSuAWaIN"
      },
      "execution_count": null,
      "outputs": []
    },
    {
      "cell_type": "markdown",
      "source": [
        "**String tests**\n",
        "\n",
        "```\n",
        "| t = 'hi' | int | float | str |\n",
        "|----------|-----|-------|-----|\n",
        "| +        |     |       |     |\n",
        "| -        |     |       |     |\n",
        "| *        |     |       |     |\n",
        "| /        |     |       |     |\n",
        "| //       |     |       |     |\n",
        "| **       |     |       |     |\n",
        "| %        |     |       |     |\n",
        "| =        |     |       |     |\n",
        "| +=       |     |       |     |\n",
        "| -=       |     |       |     |\n",
        "```"
      ],
      "metadata": {
        "id": "kcAWbeJtWaoy"
      }
    },
    {
      "cell_type": "code",
      "source": [],
      "metadata": {
        "id": "25MV7SMYWhND"
      },
      "execution_count": null,
      "outputs": []
    },
    {
      "cell_type": "markdown",
      "source": [
        "## Further Resources\n",
        "\n",
        "Code Academy's introduction to Jupyter Notebooks: https://www.codecademy.com/article/introducing-jupyter-notebook\n",
        "\n",
        "https://en.wikipedia.org/wiki/Python_syntax_and_semantics"
      ],
      "metadata": {
        "id": "h4s503aEWhkb"
      }
    },
    {
      "cell_type": "code",
      "source": [],
      "metadata": {
        "id": "lnXXzhCvWkwg"
      },
      "execution_count": null,
      "outputs": []
    }
  ]
}