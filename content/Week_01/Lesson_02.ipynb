{
 "cells": [
  {
   "cell_type": "markdown",
   "metadata": {
    "id": "1JnjVHjlXrGN"
   },
   "source": [
    "# Day 2: Python Data Types\n",
    "\n",
    "Welcome back to our journey through Python and its applications in machine learning! In our previous session, we laid the foundation by exploring Python's syntax, variables, and basic arithmetic operators. Today, we're going to delve deeper into Python's diverse world of data types, and we will also introduce logical and comparison operators. These elements are not only fundamental to programming in Python but are also crucial in performing calculations and making decisions in code - skills that are essential for data analysis and machine learning. By the end of this lesson, you'll have a stronger grasp of how to manipulate different types of data and how to apply logical reasoning in your programming.\n",
    "\n",
    "## More about Data Types\n",
    "\n",
    "- **Boolean (`bool`)**: This data type is used to represent the truth values, True and False. It is often the result of comparisons or logical operations.\n",
    "  \n",
    "  ```python\n",
    "  is_raining = True\n",
    "  is_sunny = False\n",
    "  ```\n",
    "\n",
    "- **`None` Type**: `None` is a special data type in Python used to signify 'nothing' or 'no value here'. It's commonly used to represent the absence of a value or a default state.\n",
    "  \n",
    "  ```python\n",
    "  result = None\n",
    "  ```\n",
    "\n",
    "## Logical and Comparison Operators\n",
    "\n",
    "- **Logical Operators**:\n",
    "  - `and`: Returns True if both operands are true.\n",
    "  - `or`: Returns True if at least one of the operands is true.\n",
    "  - `not`: Returns True if the operand is false.\n",
    "  \n",
    "  ```python\n",
    "  if is_raining and is_sunny:\n",
    "      print(\"Look for a rainbow!\")\n",
    "  ```\n",
    "\n",
    "- **Comparison Operators**:\n",
    "  - `==` and `!=`: Check for equality and inequality.\n",
    "  - `<`, `>`, `<=`, `>=`: Compare numeric values for less than, greater than, less than or equal to, and greater than or equal to.\n",
    "  - `is` and `is not`: Check for object identity.\n",
    "  - `in` and `not in`: Check for membership in a collection (like lists, strings).\n",
    "\n",
    "  ```python\n",
    "  if temperature >= 25:\n",
    "      print(\"It's a warm day.\")\n",
    "  if 'a' in 'cat':\n",
    "      print(\"The letter is in the word.\")\n",
    "  ```\n",
    "\n"
   ]
  },
  {
   "cell_type": "markdown",
   "metadata": {
    "id": "am-c9cS_YDYl"
   },
   "source": [
    "- **Using Operators in Combination**: Python allows for chaining comparison operators to make a compound statement that's concise and easy to read. The `n < x < m` syntax is used to check if a value `x` is between `n` and `m`. This is essentially shorthand for `(n < x) and (x < m)`. It's a cleaner, more intuitive way to express a range check and is particularly useful in conditional statements and loops."
   ]
  },
  {
   "cell_type": "markdown",
   "metadata": {
    "id": "b9uwFLVwYDa0"
   },
   "source": [
    "- **Use of Parentheses**: Parentheses are used to group parts of expressions and control the order of evaluation. Python evaluates expressions in parentheses first, following the standard mathematical precedence rules.\n",
    "  \n",
    "- **Evaluation Order (Inside to Out, Left to Right)**: Python evaluates expressions from the inside of the parentheses to the outside and from left to right. This order can affect the result, especially when using logical operators.\n",
    "\n",
    "- **Short Circuit Evaluation in Boolean Expressions**:\n",
    "  - In an `and` expression, Python stops evaluating as soon as it encounters a False value.\n",
    "  - In an `or` expression, Python stops evaluating as soon as it encounters a True value.\n",
    "\n",
    "**Think about why:** if Python encounters `a() and b()`, but `a()` evaluates to `False`, it doesn't matter what value `b()` evaluates to -- the boolean expression will always evaluate to `False`. Similarly, `a() or b()` does not need to evaluate its second term if the first term evaluates to `True`.\n",
    "  \n",
    "This behavior is known as short-circuit evaluation. Python evaluates `a` first; if `a` is True, it doesn't even check `b` because the `or` condition is already satisfied. If `a` is False, then Python evaluates and returns the value of `b`, whether it's True or False. This feature is particularly useful in scenarios where the second operand is a fallback or default option.\n",
    "\n",
    "This means that not all parts of a boolean expression may be evaluated, which can be useful for avoiding errors (such as division by zero) or for optimizing performance."
   ]
  },
  {
   "cell_type": "markdown",
   "metadata": {
    "id": "yTFclxiSYDc_"
   },
   "source": [
    "## Hands-On Project: Logic and Calculation\n",
    "\n",
    "Create a program that determines if a person is eligible for a specific discount at a store. The discount criteria are as follows:\n",
    "- The person must be either a senior citizen (age 65 or older) or a student.\n",
    "- The total purchase amount must be more than $50.\n",
    "- If today is Tuesday, there's an additional 5% discount for everyone.\n",
    "\n",
    "Write a program that takes three inputs: age, student status (True/False), total purchase amount, and whether today is Tuesday (True/False). The program should output whether the person is eligible for the discount and the final price after any additional Tuesday discount.\n",
    "\n",
    "### Solution\n"
   ]
  },
  {
   "cell_type": "code",
   "execution_count": 1,
   "metadata": {
    "id": "_I3rW4T6YWuJ"
   },
   "outputs": [],
   "source": [
    "def calculate_discount(age, is_student, total_purchase, is_tuesday):\n",
    "    discount_eligible = (age >= 65 or is_student) and total_purchase > 50\n",
    "    final_price = total_purchase\n",
    "\n",
    "    if discount_eligible and is_tuesday:\n",
    "        final_price *= 0.95  # Apply an additional 5% discount\n",
    "\n",
    "    return discount_eligible, final_price\n",
    "\n"
   ]
  },
  {
   "cell_type": "code",
   "execution_count": 2,
   "metadata": {
    "colab": {
     "base_uri": "https://localhost:8080/"
    },
    "id": "0iN-Vhx5YaE9",
    "outputId": "c535da5b-2cf4-4d6e-a533-551309b64425"
   },
   "outputs": [
    {
     "name": "stdout",
     "output_type": "stream",
     "text": [
      "Discount Eligible: True\n",
      "Final Price: $57.00\n"
     ]
    }
   ],
   "source": [
    "# Test the function\n",
    "age = 70\n",
    "is_student = False\n",
    "total_purchase = 60\n",
    "is_tuesday = True\n",
    "\n",
    "eligible, final_price = calculate_discount(age, is_student, total_purchase, is_tuesday)\n",
    "print(f\"Discount Eligible: {eligible}\")\n",
    "print(f\"Final Price: ${final_price:.2f}\")"
   ]
  },
  {
   "cell_type": "code",
   "execution_count": 3,
   "metadata": {
    "colab": {
     "base_uri": "https://localhost:8080/"
    },
    "id": "vEIX3LZLYaHX",
    "outputId": "028fb4f7-497b-4b1d-8fb0-2888aff126ee"
   },
   "outputs": [
    {
     "name": "stdout",
     "output_type": "stream",
     "text": [
      "Discount Eligible: False\n",
      "Final Price: $60.00\n"
     ]
    }
   ],
   "source": [
    "# Test the function\n",
    "age = 30\n",
    "is_student = False\n",
    "total_purchase = 60\n",
    "is_tuesday = True\n",
    "\n",
    "eligible, final_price = calculate_discount(age, is_student, total_purchase, is_tuesday)\n",
    "print(f\"Discount Eligible: {eligible}\")\n",
    "print(f\"Final Price: ${final_price:.2f}\")"
   ]
  },
  {
   "cell_type": "code",
   "execution_count": 4,
   "metadata": {
    "colab": {
     "base_uri": "https://localhost:8080/"
    },
    "id": "wlApDoB7YhWV",
    "outputId": "5117a9ac-aea5-43e3-c4fa-c5287bf9bdd6"
   },
   "outputs": [
    {
     "name": "stdout",
     "output_type": "stream",
     "text": [
      "Discount Eligible: True\n",
      "Final Price: $57.00\n"
     ]
    }
   ],
   "source": [
    "# Test the function\n",
    "age = 25\n",
    "is_student = True\n",
    "total_purchase = 60\n",
    "is_tuesday = True\n",
    "\n",
    "eligible, final_price = calculate_discount(age, is_student, total_purchase, is_tuesday)\n",
    "print(f\"Discount Eligible: {eligible}\")\n",
    "print(f\"Final Price: ${final_price:.2f}\")"
   ]
  },
  {
   "cell_type": "code",
   "execution_count": 5,
   "metadata": {
    "colab": {
     "base_uri": "https://localhost:8080/"
    },
    "id": "dT9SsMUMYki0",
    "outputId": "1120a453-377a-43d0-d97a-6f5759279890"
   },
   "outputs": [
    {
     "name": "stdout",
     "output_type": "stream",
     "text": [
      "Discount Eligible: True\n",
      "Final Price: $57.00\n"
     ]
    }
   ],
   "source": [
    "# Test the function\n",
    "age = 70\n",
    "is_student = True\n",
    "total_purchase = 60\n",
    "is_tuesday = True\n",
    "\n",
    "eligible, final_price = calculate_discount(age, is_student, total_purchase, is_tuesday)\n",
    "print(f\"Discount Eligible: {eligible}\")\n",
    "print(f\"Final Price: ${final_price:.2f}\")"
   ]
  },
  {
   "cell_type": "markdown",
   "metadata": {
    "id": "tPiOiM6NYDfg"
   },
   "source": [
    "#### Practice Problem\n",
    "Now, try a similar problem to test your understanding:\n",
    "\n",
    "**Problem Statement:**\n",
    "Write a program to determine if a customer is eligible for a membership upgrade at a gym. The criteria for the upgrade are:\n",
    "- The customer must have been a member for at least 2 years or be over the age of 60.\n",
    "- The customer must have attended at least 100 gym sessions.\n",
    "- If the customer has referred more than 3 friends, they get an automatic upgrade regardless of other criteria.\n",
    "\n",
    "The program should take four inputs: years of membership, age, number of gym sessions attended, and number of friends referred. Output whether the customer is eligible for the membership upgrade.\n",
    "\n",
    "Try solving this problem using the concepts of boolean logic and arithmetic operators, and compare your approach and solution to the example provided!\n"
   ]
  },
  {
   "cell_type": "markdown",
   "metadata": {
    "id": "ITNZdY49YDiG"
   },
   "source": [
    "\n",
    "## Further Resources"
   ]
  }
 ],
 "metadata": {
  "colab": {
   "provenance": []
  },
  "kernelspec": {
   "display_name": "Python 3 (ipykernel)",
   "language": "python",
   "name": "python3"
  },
  "language_info": {
   "codemirror_mode": {
    "name": "ipython",
    "version": 3
   },
   "file_extension": ".py",
   "mimetype": "text/x-python",
   "name": "python",
   "nbconvert_exporter": "python",
   "pygments_lexer": "ipython3",
   "version": "3.11.5"
  }
 },
 "nbformat": 4,
 "nbformat_minor": 4
}
