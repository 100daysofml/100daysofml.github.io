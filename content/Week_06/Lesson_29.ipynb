{
 "cells": [
  {
   "cell_type": "markdown",
   "id": "69db2f4c-19e9-45fb-9d09-d8b4a0b86db3",
   "metadata": {},
   "source": [
    "# Day 29: Decision Trees and Rule-Based Models in Python\n",
    "– Building and interpreting decision tree models.\n",
    "\n",
    "– Math Focus: Understanding entropy and information gain calculations."
   ]
  },
  {
   "cell_type": "markdown",
   "id": "9828a13d-babe-4166-9c7b-c45b6ae352f0",
   "metadata": {},
   "source": [
    "## Introduction\n",
    "\n",
    "asdf"
   ]
  },
  {
   "cell_type": "code",
   "execution_count": 1,
   "id": "91574c54-7c32-47e6-8112-269e7d25bd36",
   "metadata": {},
   "outputs": [],
   "source": [
    "# asdf"
   ]
  },
  {
   "cell_type": "markdown",
   "id": "034104f7-91d8-4bff-a382-f050163dcaef",
   "metadata": {},
   "source": [
    "## Concept 1\n",
    "\n",
    "asdf"
   ]
  },
  {
   "cell_type": "code",
   "execution_count": 2,
   "id": "92b64b75-1b3a-454f-8149-70506c3ae730",
   "metadata": {},
   "outputs": [],
   "source": [
    "#asdf"
   ]
  },
  {
   "cell_type": "markdown",
   "id": "adb45642-1ba2-4df7-867d-2303d78f6d18",
   "metadata": {},
   "source": [
    "## Concept 2\n",
    "\n",
    "asdf"
   ]
  },
  {
   "cell_type": "code",
   "execution_count": 3,
   "id": "a729e06d-ccf1-4dcc-b76d-4bcc26601b29",
   "metadata": {},
   "outputs": [],
   "source": [
    "# asdf"
   ]
  },
  {
   "cell_type": "markdown",
   "id": "b9f32dd2-ffad-4100-8143-9d41d995dee0",
   "metadata": {},
   "source": [
    "## Concept 3 (optional)\n",
    "\n",
    "asdf"
   ]
  },
  {
   "cell_type": "code",
   "execution_count": 4,
   "id": "35ee6997-1cc9-49a4-b38b-d8b58f555ebd",
   "metadata": {},
   "outputs": [],
   "source": [
    "#asdf"
   ]
  },
  {
   "cell_type": "markdown",
   "id": "27565c9d-26eb-44b0-8f1c-b2fee536fee5",
   "metadata": {},
   "source": [
    "## Exercise For The Reader\n",
    "\n",
    "asdf"
   ]
  },
  {
   "cell_type": "code",
   "execution_count": 5,
   "id": "db6cd9a8-288f-4b46-9d9f-d87db66c2c0a",
   "metadata": {},
   "outputs": [],
   "source": [
    "# starter code"
   ]
  },
  {
   "cell_type": "markdown",
   "id": "9af82cdb-5c49-46ee-920b-6c0cf5defc01",
   "metadata": {},
   "source": [
    "## Additional Resources\n",
    "-  **Resource 1:** [Machine Learning with scikit-learn](https://www.datacamp.com/courses/machine-learning-with-scikit-learn) (DataCamp course covering decision trees and other rule-based models)\n",
    "-   **Resource 2:** [Decision Trees in Python](https://scikit-learn.org/stable/modules/tree.html) (scikit-learn documentation on decision trees)"
   ]
  },
  {
   "cell_type": "code",
   "execution_count": null,
   "id": "c653e759-a930-45ec-9822-fb3adfbc09a1",
   "metadata": {},
   "outputs": [],
   "source": []
  }
 ],
 "metadata": {
  "kernelspec": {
   "display_name": "Python 3 (ipykernel)",
   "language": "python",
   "name": "python3"
  },
  "language_info": {
   "codemirror_mode": {
    "name": "ipython",
    "version": 3
   },
   "file_extension": ".py",
   "mimetype": "text/x-python",
   "name": "python",
   "nbconvert_exporter": "python",
   "pygments_lexer": "ipython3",
   "version": "3.11.6"
  }
 },
 "nbformat": 4,
 "nbformat_minor": 5
}
