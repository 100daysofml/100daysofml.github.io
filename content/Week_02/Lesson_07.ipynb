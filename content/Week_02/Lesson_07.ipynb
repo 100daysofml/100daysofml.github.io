{
 "cells": [
  {
   "cell_type": "markdown",
   "id": "db2e4e02-192b-409b-9040-036fffdbcd03",
   "metadata": {
    "tags": []
   },
   "source": [
    "# Day 7: Linear Algebra - Matrices and Matrix Operations"
   ]
  },
  {
   "cell_type": "markdown",
   "id": "b63eac1c-331d-4426-814a-f705215c1acb",
   "metadata": {
    "tags": []
   },
   "source": [
    "## Introduction to Matrices\n",
    "\n",
    "### What is a Matrix?\n",
    "\n",
    "- **Definition:** A matrix is a rectangular array of numbers, symbols, or expressions arranged in rows and columns, usually represented using a capital letter such as $X$. Each entry in a matrix is called an element. A matrix is often denoted as:\n",
    "\n",
    "  $$\n",
    "  X = \\begin{bmatrix}\n",
    "  x_{11} & x_{12} & \\cdots & x_{1n} \\\\\n",
    "  x_{21} & x_{22} & \\cdots & x_{2n} \\\\\n",
    "  \\vdots & \\vdots & \\ddots & \\vdots \\\\\n",
    "  x_{m1} & x_{m2} & \\cdots & x_{mn}\n",
    "  \\end{bmatrix}\n",
    "  $$\n",
    "\n",
    "  where $i$ is the number of rows, and $j$ is the number of columns.\n",
    "\n",
    "- **Importance:** Matrices have diverse applications across various fields, just like vectors. They are fundamental in mathematics, physics, engineering, computer science, and many other disciplines. Some key applications include:\n",
    "\n",
    "  - In mathematics: Matrices are used in linear algebra for solving systems of linear equations, eigenvalue problems, and transformations.\n",
    "  \n",
    "  - In physics: Matrices are used to represent physical quantities, such as the moment of inertia tensor in mechanics and quantum state representations in quantum mechanics.\n",
    "  \n",
    "  - In engineering: Matrices are employed to describe systems of equations in control theory, electrical circuits, and structural analysis.\n",
    "  \n",
    "  - In computer science: Matrices are used for image processing, data compression, and graph algorithms, among other applications.\n",
    "\n",
    "Matrices play a crucial role in various mathematical and computational operations, making them an essential concept in the study of linear algebra and related fields.\n"
   ]
  },
  {
   "cell_type": "markdown",
   "id": "031bfc52-13ae-40c6-ae53-b7e82ab3bacb",
   "metadata": {},
   "source": [
    "### Mastering Matrices in Python\n",
    "\n",
    "**Kickoff with NumPy**\n",
    "   - We'll continue using NumPy since it's fantastic for handling matrices (just like it was for vectors).\n",
    "```python\n",
    "import numpy as np\n",
    "```"
   ]
  },
  {
   "cell_type": "code",
   "execution_count": 1,
   "id": "4fa3ba6d-adfd-42d5-9bc1-6dd7a63465ce",
   "metadata": {
    "tags": []
   },
   "outputs": [],
   "source": [
    "import numpy as np"
   ]
  },
  {
   "cell_type": "markdown",
   "id": "0f3f5939-e33d-47d0-b51d-af6e302805c5",
   "metadata": {},
   "source": [
    "## Creating Matrices\n",
    "   - Let's start by creating a couple of matrices. Think of these as grids filled with numbers.\n",
    "   \n",
    "$$\n",
    "\\begin{split} x1 = \\left[ \\begin{matrix} 1 & 2 & 3 \\\\ 4 & 5 & 6 \\end{matrix} \\right]^{2\\times 3}\\end{split} \\begin{split} y1 = \\left[ \\begin{matrix} 7 & 8 & 9 \\\\ 10 & 11 & 12 \\end{matrix} \\right]^{2\\times 3}\\end{split} \\nonumber \\begin{split} z1 = \\left[ \\begin{matrix} 1 & 3 \\\\ 5 & 7 \\\\ 9 & 11 \\end{matrix} \\right]^{3\\times 2}\\end{split} \\nonumber\n",
    "$$\n",
    "\n",
    "The subscript at the top isn't necessary, however it is a nice reminder of the dimensions of the matrix are i x j (i.e. rows $i$ x columns $j$).\n",
    "\n",
    "```python\n",
    "x1 = np.array([[1, 2, 3], \n",
    "               [4, 5, 6]])\n",
    "\n",
    "y1 = np.array([[7, 8, 9], [10, 11, 12]])\n",
    "```"
   ]
  },
  {
   "cell_type": "code",
   "execution_count": 2,
   "id": "38dbd0d5-38b0-47bb-a03c-838719d48b35",
   "metadata": {
    "tags": []
   },
   "outputs": [
    {
     "name": "stdout",
     "output_type": "stream",
     "text": [
      "[[1 2 3]\n",
      " [4 5 6]]\n",
      "(2, 3) \n",
      "\n",
      "[[ 7  8  9]\n",
      " [10 11 12]]\n",
      "(2, 3) \n",
      "\n",
      "[[ 1  3]\n",
      " [ 5  7]\n",
      " [ 9 11]]\n",
      "(3, 2)\n"
     ]
    }
   ],
   "source": [
    "x1 = np.array([[1, 2, 3], \n",
    "               [4, 5, 6]])\n",
    "#Notice that either way that you declare your matrices, they are created the same and output the same.\n",
    "y1 = np.array([[7, 8, 9], [10, 11, 12]])\n",
    "z1 = np.array([[1, 3], [5, 7], [9, 11]])\n",
    "\n",
    "print(x1)\n",
    "print(x1.shape, '\\n') #The *.shape after the variable, allows you to verify the shape of the matrix.\n",
    "print(y1)\n",
    "print(y1.shape, '\\n')\n",
    "print(z1)\n",
    "print(z1.shape)"
   ]
  },
  {
   "cell_type": "markdown",
   "id": "9a6b3225-9344-4c56-bda5-49ca5564d4b4",
   "metadata": {},
   "source": [
    "## Basic Matrix Operations: Addition and Subtraction\n",
    "\n",
    "- Two matrices that *have the same shape* can be added or subtracted.\n",
    "\n",
    "$$\n",
    "(x1+y1)_{ij} = x1_{ij} + y1_{ij}\n",
    "$$\n",
    "\n",
    "$$\n",
    "(x1-y1)_{ij} = x1_{ij} - y1_{ij}\n",
    "$$\n",
    "\n",
    "The subscript $i$ & $j$ are just representing the row & column coordinates within the matrix.\n",
    "The subscript $i$ & $j$ are just representing the row & column coordinates within the matrix.\n",
    "\n",
    "```python\n",
    "m_add = np.add(x1, y1)\n",
    "m_sub = np.subtract(x1, y1)\n",
    "```"
   ]
  },
  {
   "cell_type": "code",
   "execution_count": 3,
   "id": "31b52a2d-409d-4a0c-8ff4-23a4c9b3093b",
   "metadata": {},
   "outputs": [
    {
     "name": "stdout",
     "output_type": "stream",
     "text": [
      "[[ 8 10 12]\n",
      " [14 16 18]] \n",
      "\n",
      "[[ 8 10 12]\n",
      " [14 16 18]] \n",
      "\n",
      "[[-6 -6 -6]\n",
      " [-6 -6 -6]] \n",
      "\n",
      "[[-6 -6 -6]\n",
      " [-6 -6 -6]]\n"
     ]
    }
   ],
   "source": [
    "m_add = np.add(x1, y1) #Matrix addition\n",
    "m_sub = np.subtract(x1, y1) #Matrix subtraction\n",
    "\n",
    "\n",
    "print(m_add, '\\n') #OR\n",
    "print(x1+y1, '\\n')\n",
    "\n",
    "print(m_sub, '\\n') #OR\n",
    "print(x1-y1)\n",
    "#The preference is to reference a variable that defines the operation rather than the operation within a print statement."
   ]
  },
  {
   "cell_type": "markdown",
   "id": "05f6494d-f975-4c83-88a1-f263d8a3e793",
   "metadata": {},
   "source": [
    "## Matrix Multiplication: The Core of Complex Calculations\n",
    "   \n",
    "- A matrix of any shape can be multiplied by a **scalar** (i.e. a number describing magnitude).\n",
    "\n",
    "### Matrix Multiplication:\n",
    "\n",
    "**Definition:** Matrix multiplication, denoted as $(Z = X \\cdot Y$), is an operation between two matrices $(X$) ($(i \\times j$)) and $(y$) ($(k \\times l$)), where the number of columns in $(X$) is equal to the number of rows in $(Y$). The resulting matrix $(C$) has dimensions ($(m \\times n$)).\n",
    "\n",
    "**Mathematical Formula:** The element $(Z[i][j]$) of the resulting matrix $(Z$) is obtained by taking the dot product of the $(i$)th row of matrix $(X$) and the $(l$) column of matrix $(Y$):\n",
    "\n",
    "$[\n",
    "Z[i][j] = \\sum_{k=1}^{n} (X[i][k] \\cdot Y[k][j])\n",
    "$]\n",
    "\n",
    "**Key Rules:**\n",
    "1. **Compatibility:** For matrix multiplication to be defined, the number of columns in $(X$) must be equal to the number of rows in $(Y$) (i.e., the inner dimensions must match).\n",
    "\n",
    "2. **Associativity:** Matrix multiplication is associative, meaning that $((X \\cdot Y) \\cdot Z = X \\cdot (Y \\cdot Z)$) if the dimensions allow.\n",
    "\n",
    "3. **Distributivity:** Matrix multiplication distributes over matrix addition, i.e., $(X \\cdot (Y + Z) = (X \\cdot Y) + (X \\cdot Z)$).\n",
    "\n",
    "\n",
    "### Matrix Dot Product (Element-wise Product):\n",
    "\n",
    "**Definition:** The matrix dot product, denoted as $(Z = X \\cdot Y$) (or $(X \\circ Y$)), is an element-wise operation between two matrices $(A$) and $(B$) of the same dimensions. The resulting matrix $(Z$) has the same dimensions as \\(X\\) and \\(Y\\).\n",
    "\n",
    "**Mathematical Formula:** Each element $(Z[i][j]$) of the resulting matrix $(Z$) is obtained by multiplying the corresponding elements of matrices $(X$) and $(Y$):\n",
    "\n",
    "$Z[i][j] = X[i][j] \\cdot Y[i][j]]$\n",
    "\n",
    "**Key Rule:** Matrix dot product is applied element-wise, meaning that each element of the resulting matrix is calculated independently based on the corresponding elements of the input matrices.\n",
    "\n",
    "**Use Cases:** Matrix dot product is often used in element-wise operations, such as calculating element-wise differences or similarities between matrices. It is commonly used in various mathematical and computational tasks, including image processing and certain types of data transformations."
   ]
  },
  {
   "cell_type": "code",
   "execution_count": 4,
   "id": "81047730-484a-4929-80c6-bf20156b07b3",
   "metadata": {},
   "outputs": [
    {
     "name": "stdout",
     "output_type": "stream",
     "text": [
      "[[ 5 10 15]\n",
      " [20 25 30]] \n",
      "\n",
      "[[ 38  50]\n",
      " [ 83 113]] \n",
      "\n",
      "[[ 75  15  54  39]\n",
      " [ 57   4  41  32]\n",
      " [113  14  75  50]\n",
      " [ 46  19  33  31]] \n",
      "\n",
      "[[ 39  27  42   6]\n",
      " [ 79  89  64   9]\n",
      " [ 65  71  48   7]\n",
      " [120 114  90   9]]\n"
     ]
    }
   ],
   "source": [
    "m_sca = 5 * x1 #Scalar multiplication\n",
    "print(m_sca, '\\n')\n",
    "\n",
    "m_mul = x1@z1\n",
    "print(m_mul,'\\n')\n",
    "\n",
    "#These two lines create random 4x4 matrices with integers 0-10\n",
    "x2 = np.random.randint(0, 10, size = (4,4))\n",
    "y2 = np.random.randint(0, 10, size = (4,4))\n",
    "#These two lines show that the communitative property does not work with matrix multiplication\n",
    "m_mul1 = x2@y2\n",
    "m_mul2 = y2@x2\n",
    "\n",
    "print(m_mul1, '\\n')\n",
    "print(m_mul2)"
   ]
  },
  {
   "cell_type": "markdown",
   "id": "e7e51fa0-afb9-41cb-a7a9-17e3a2ac9562",
   "metadata": {},
   "source": [
    "## Transpose and Inverse: Flipping and Reversing\n",
    "   - Transposing (flipping) and finding the inverse (kind of like a reverse) of a matrix are crucial operations in machine learning.\n",
    "$$\n",
    "\\begin{equation}\n",
    "X = \\left[ \\begin{array}{rrr} 1 & 3 & 5 \\\\ 7 & 9 & 11 \\\\ 13 & 15 & 17\\end{array}\\right] \\hspace{1cm}\n",
    "X^T = \\left[ \\begin{array}{rrr} 1 & 7 & 13 \\\\ 3 & 9 & 15 \\\\ 5 & 11 & 17\\end{array}\\right] \\hspace{1cm}\n",
    "\\end{equation}\n",
    "$$\n",
    "\n",
    "1. **Transposing a Transpose:**\n",
    "   - Transposing a matrix twice returns the original matrix.\n",
    "   - *Mathematical Notation:* $(X^T)^T = X$\n",
    "\n",
    "2. **Transposition of a Sum:**\n",
    "   - The transpose of the sum of two matrices is equal to the sum of their transposes.\n",
    "   - *Mathematical Notation:* $(X + Y)^T = X^T + Y^T$\n",
    "\n",
    "3. **Transposition of a Product:**\n",
    "   - The transpose of the product of two matrices is equal to the product of their transposes taken in reverse order.\n",
    "   - *Mathematical Notation:* $(XY)^T = (Y^T \\cdot X^T)$\n",
    "\n",
    "4. **Transposition of a Scalar:**\n",
    "   - Transposing a scalar (a single number) has no effect.\n",
    "   - *Mathematical Notation:* $(k)^T = k$"
   ]
  },
  {
   "cell_type": "code",
   "execution_count": 5,
   "id": "f57a3e67-92cb-49b7-b2f3-759e5749bbd0",
   "metadata": {
    "tags": []
   },
   "outputs": [
    {
     "name": "stdout",
     "output_type": "stream",
     "text": [
      "[[ 1  3  5]\n",
      " [ 7  9 11]\n",
      " [13 15 17]] \n",
      "\n",
      "[[ 1  7 13]\n",
      " [ 3  9 15]\n",
      " [ 5 11 17]]\n"
     ]
    }
   ],
   "source": [
    "X = np.array([[1, 3, 5], [7, 9, 11], [13, 15, 17]])\n",
    "X_T = X.transpose()\n",
    "\n",
    "print(X,'\\n')\n",
    "print(X_T)"
   ]
  },
  {
   "cell_type": "markdown",
   "id": "2cf823c4-6710-42a9-8ae8-9163f0785fdc",
   "metadata": {},
   "source": [
    "### Matrix Inverse Rules and Properties:\n",
    "\n",
    "1. **Existence of an Inverse:**\n",
    "   - Not all matrices have inverses. A matrix $(X$) has an inverse ($(X^{-1}$)) if and only if it is square and its determinant ($(det(X)$)) is nonzero.\n",
    "\n",
    "2. **Product with an Inverse:**\n",
    "   - Multiplying a matrix by its inverse results in the identity matrix.\n",
    "   - *Mathematical Notation:* $(X \\cdot X^{-1} = I$)\n",
    "\n",
    "3. **Order Matters:**\n",
    "   - Matrix multiplication is not commutative. The order of multiplication matters when finding the inverse of a product.\n",
    "   - To find the inverse of $XY$, you may need to find the inverses of $X$ and $Y$ separately and then multiply them in reverse order: $((XY)^{-1} = Y^{-1} \\cdot X^{-1}$).\n",
    "\n",
    "4. **Inverse of Transpose:**\n",
    "   - The inverse of a transpose is the transpose of the inverse.\n",
    "   - *Mathematical Notation:* $((X^T)^{-1} = (X^{-1})^T$)\n",
    "\n",
    "5. **Inverse of a Scalar:**\n",
    "   - The inverse of a nonzero scalar $k$ is $(1/k$).\n",
    "\n",
    "These rules and properties are fundamental when working with matrices and are essential for various mathematical and computational tasks, including solving systems of linear equations, performing transformations, and more."
   ]
  },
  {
   "cell_type": "code",
   "execution_count": 6,
   "id": "f833e299-8ab0-45a9-98e7-1627037b4eb6",
   "metadata": {
    "tags": []
   },
   "outputs": [
    {
     "name": "stdout",
     "output_type": "stream",
     "text": [
      "[[ 1  3  5]\n",
      " [ 7  9 11]\n",
      " [13 15 17]] \n",
      "\n",
      "[[-4.43536327e+14  8.87072654e+14 -4.43536327e+14]\n",
      " [ 8.87072654e+14 -1.77414531e+15  8.87072654e+14]\n",
      " [-4.43536327e+14  8.87072654e+14 -4.43536327e+14]]\n"
     ]
    }
   ],
   "source": [
    "X = np.array([[1, 3, 5], [7, 9, 11], [13, 15, 17]])\n",
    "X_inv = np.linalg.inv(X)\n",
    "\n",
    "print(X, '\\n')\n",
    "print(X_inv)"
   ]
  },
  {
   "cell_type": "markdown",
   "id": "9d683369-19b8-4070-b251-5ff3706ce171",
   "metadata": {},
   "source": [
    "## Activity: Matrix Operations"
   ]
  },
  {
   "cell_type": "markdown",
   "id": "8aa09d1b-cb97-4984-b3f9-e9a5da65c2d7",
   "metadata": {},
   "source": [
    "### Step-by-step Instructions\n",
    "1. Using numpy create two 4x4 matrices, named `mat_X` and `mat_Y`. \n",
    "$$\n",
    "\\begin{equation}\n",
    "mat_{X} = \\left[ \\begin{array}{rrr} 5 & 3 & 1 \\\\ 9 & 6 & 3 \\\\ 13 & 12 & 11\\end{array}\\right] \\hspace{1cm}\n",
    "mat_{Y} = \\left[ \\begin{array}{rrr} 4 & 7 & 8 \\\\ 22 & 45 & 76 \\\\ 32 & 24 & 54\\end{array}\\right] \\hspace{1cm}\n",
    "\\end{equation}\n",
    "$$\n",
    "2. Create a variable called `mat_XY`, multiplying `mat_X` and `mat_Y` together.\n",
    "3. Create a variable called `mat_XY_T`, this new variable will be the transposition of `mat_XY`. \n",
    "4. Create a variable called `mat_XY_T2`, this new variable will be a 2nd way that you can write the transposition of `mat_XY`.\n",
    "5. Create a variable called `mat_XY_inv`, this new variable will be the inverse of the `mat_XY_T` variable\n",
    "6. Display `mat_XY` and `mat_XY_T`, `mat_XY_T2`, and `mat_XY_inv`."
   ]
  },
  {
   "cell_type": "code",
   "execution_count": 7,
   "id": "f1be2992-6f9d-4369-9877-7beb92b11380",
   "metadata": {
    "tags": []
   },
   "outputs": [
    {
     "name": "stdout",
     "output_type": "stream",
     "text": [
      "[[ 118  194  322]\n",
      " [ 264  405  690]\n",
      " [ 668  895 1610]] \n",
      "\n",
      "[[ 118  264  668]\n",
      " [ 194  405  895]\n",
      " [ 322  690 1610]] \n",
      "\n",
      "[[ 118  264  668]\n",
      " [ 194  405  895]\n",
      " [ 322  690 1610]] \n",
      "\n",
      "[[-2.66750357e+13 -2.77420371e+13  2.64894702e+13]\n",
      " [ 1.86725250e+13  1.94194260e+13 -1.85426292e+13]\n",
      " [-2.66750357e+12 -2.77420371e+12  2.64894702e+12]]\n"
     ]
    }
   ],
   "source": [
    "import numpy as np\n",
    "\n",
    "mat_X = np.array([[5, 3, 1], [9, 6, 3], [13, 12, 11]])\n",
    "mat_Y = np.array([[4, 7, 8], [22, 45, 76], [32, 24, 54]])\n",
    "\n",
    "mat_XY = mat_X@mat_Y\n",
    "\n",
    "mat_XY_T = mat_XY.T\n",
    "mat_XY_T2 = np.transpose(mat_XY)\n",
    "\n",
    "mat_XY_inv = np.linalg.inv(mat_XY_T)\n",
    "\n",
    "print(mat_XY, '\\n')\n",
    "print(mat_XY_T, '\\n')\n",
    "print(mat_XY_T2, '\\n')\n",
    "print(mat_XY_inv)"
   ]
  },
  {
   "cell_type": "markdown",
   "id": "9709e782-a4bb-492f-89c3-66b6c020a5cf",
   "metadata": {},
   "source": [
    "**Further Resources**\n",
    "1. **Khan Academy - Linear Algebra:** \n",
    "   - **Description:** Khan Academy offers a comprehensive course on linear algebra, including matrix operations, transformations, and applications. It covers the fundamentals and provides interactive exercises for practice.\n",
    "   - **Link:** [Khan Academy - Linear Algebra](https://www.khanacademy.org/math/linear-algebra)\n",
    "\n",
    "2. **MIT OpenCourseWare - Introduction to Linear Algebra:**\n",
    "   - **Description:** MIT's OpenCourseWare provides free access to their course materials, including lecture notes, assignments, and video lectures for \"Introduction to Linear Algebra.\" This course covers matrix operations, determinants, and eigenvalues.\n",
    "   - **Link:** [MIT OpenCourseWare - Introduction to Linear Algebra](https://ocw.mit.edu/courses/mathematics/18-06sc-linear-algebra-fall-2011/index.htm)\n",
    "\n",
    "3. **Coursera - Mathematics for Machine Learning: Linear Algebra:**\n",
    "   - **Description:** This Coursera course is part of the \"Mathematics for Machine Learning\" specialization and focuses on linear algebra concepts, including matrix operations. It's suitable for those interested in the application of linear algebra in machine learning.\n",
    "   - **Link:** [Coursera - Mathematics for Machine Learning: Linear Algebra](https://www.coursera.org/learn/linear-algebra-machine-learning)\n"
   ]
  }
 ],
 "metadata": {
  "kernelspec": {
   "display_name": "Python 3 (ipykernel)",
   "language": "python",
   "name": "python3"
  },
  "language_info": {
   "codemirror_mode": {
    "name": "ipython",
    "version": 3
   },
   "file_extension": ".py",
   "mimetype": "text/x-python",
   "name": "python",
   "nbconvert_exporter": "python",
   "pygments_lexer": "ipython3",
   "version": "3.11.5"
  }
 },
 "nbformat": 4,
 "nbformat_minor": 5
}
